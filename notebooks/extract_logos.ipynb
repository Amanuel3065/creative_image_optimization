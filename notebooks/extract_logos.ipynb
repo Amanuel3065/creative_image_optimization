{
 "cells": [
  {
   "cell_type": "code",
   "execution_count": 32,
   "metadata": {},
   "outputs": [],
   "source": [
    "import pandas as pd\n",
    "from pytesseract import pytesseract\n",
    "import cv2\n",
    "import numpy as np\n",
    "from typing import List, Tuple\n",
    "import matplotlib.pyplot as plt\n",
    "from PIL import Image\n",
    "\n",
    "import os\n",
    "import sys\n",
    "import glob\n",
    "\n",
    "pytesseract.tesseract_cmd = r'/usr/bin/tesseract'\n",
    "\n",
    "import warnings\n",
    "warnings.simplefilter(\"ignore\")"
   ]
  },
  {
   "cell_type": "code",
   "execution_count": 3,
   "metadata": {},
   "outputs": [],
   "source": [
    "sys.path.append(\"../scripts\")\n",
    "from load_data import Loader\n",
    "\n",
    "loader = Loader()"
   ]
  },
  {
   "cell_type": "code",
   "execution_count": 4,
   "metadata": {},
   "outputs": [],
   "source": [
    "DIRECTORY_PATH = \"/home/amanuel_zewdu/creative_image_optimization/data/Challenge_Data/Assets/\"\n",
    "\n",
    "IMAGES_EXT = [\"JPG\",\"PNG\",\"GIF\",\"WEBP\",\"TIFF\",\"PSD\",\"RAW\",\"BMP\",\"HEIF\",\"INDD\",\"JPEG\"]\n",
    "\n",
    "VIDEO_EXT = [\"WEBM\",\"MPG\",\"MP2\",\"MPEG\",\"MPE\",\"MPV\",\"OGG\",\"MP4\",\"M4P\",\"M4V\",\"AVI\",\"WMV\",\"MOV\",\"QT\",\"FLV\",\"SWF\"]"
   ]
  },
  {
   "cell_type": "markdown",
   "metadata": {},
   "source": [
    "### methods"
   ]
  },
  {
   "cell_type": "code",
   "execution_count": 5,
   "metadata": {},
   "outputs": [],
   "source": [
    "def filter_list(all_values:list,key_word:str):\n",
    "    filtered_list = filter(lambda x: key_word in x.lower(), all_values)\n",
    "    return list(filtered_list)"
   ]
  },
  {
   "cell_type": "code",
   "execution_count": 6,
   "metadata": {},
   "outputs": [],
   "source": [
    "def get_files_name(directory:str, filter_extension:list=None)->list:\n",
    "    \n",
    "    # directory = f'/home/amanuel_zewdu/creative_image_optimization/data/Challenge_Data/Assets/{directory}/'\n",
    "    \n",
    "    files = []\n",
    "    for filename in os.listdir(directory):\n",
    "        f = os.path.join(directory, filename)\n",
    "        \n",
    "        # checking if it is a file\n",
    "        if filter_extension != None:\n",
    "            if os.path.isfile(f):\n",
    "                if filename.split('.')[-1].upper() in filter_extension:\n",
    "                    files.append(filename)\n",
    "        else:\n",
    "            if os.path.isfile(f):\n",
    "                files.append(filename)\n",
    "\n",
    "    return files"
   ]
  },
  {
   "cell_type": "code",
   "execution_count": 7,
   "metadata": {},
   "outputs": [],
   "source": [
    "def locate_image_on_image(locate_image: str, on_image: str, prefix: str = '', visualize: bool = False, color: Tuple[int, int, int] = (0, 0, 255)):\n",
    "    try:\n",
    "\n",
    "        image = cv2.imread(on_image)\n",
    "        gray = cv2.cvtColor(image, cv2.COLOR_RGB2GRAY)\n",
    "        shape = gray.shape\n",
    "\n",
    "        \n",
    "        template = cv2.imread(locate_image, 0)\n",
    "\n",
    "        result = cv2.matchTemplate(gray, template, cv2.TM_CCOEFF)\n",
    "        _, _, _, max_loc = cv2.minMaxLoc(result)\n",
    "\n",
    "        height, width = template.shape[:2]\n",
    "\n",
    "        top_left = max_loc\n",
    "        bottom_right = (top_left[0] + width, top_left[1] + height)\n",
    "\n",
    "        if visualize:\n",
    "            cv2.rectangle(image, top_left, bottom_right, color, 1)\n",
    "            plt.figure(figsize=(10, 10))\n",
    "            plt.axis('off')\n",
    "            image = cv2.cvtColor(image, cv2.COLOR_BGR2RGB)\n",
    "            plt.imshow(image)\n",
    "        \n",
    "        return (shape,top_left,bottom_right)\n",
    "            \n",
    "        \n",
    "        # return {f'{prefix}top_left_pos': top_left, f'{prefix}bottom_right_pos': bottom_right}\n",
    "\n",
    "    except cv2.error as err:\n",
    "        # print(err)\n",
    "        # top_left = (0,0)\n",
    "        # bottom_right = (0,0)\n",
    "        # shape = (0,0)\n",
    "\n",
    "        # return (shape,top_left,bottom_right)\n",
    "        raise Exception"
   ]
  },
  {
   "cell_type": "code",
   "execution_count": 107,
   "metadata": {},
   "outputs": [],
   "source": [
    "def find_logo_position(folder_id:str,candidate_logo:list,ntry=0):\n",
    "    \n",
    "    prospect_on_image_names = [\"preview\",\"endframe\",\"game\"]\n",
    "    max_try = len(prospect_on_image_names)\n",
    "\n",
    "    try:\n",
    "\n",
    "        img_path = glob.glob(f'{DIRECTORY_PATH}{folder_id}/*{prospect_on_image_names[ntry]}*.*')[0]\n",
    "        logo_img = f'{DIRECTORY_PATH}{folder_id}/{candidate_logo[0]}'\n",
    "\n",
    "        shape, top_left, bottom_right = locate_image_on_image(locate_image=logo_img, on_image=img_path)\n",
    "        return (shape, top_left, bottom_right)\n",
    "    \n",
    "    except Exception as e:\n",
    "        n = ntry + 1\n",
    "        if n < max_try:\n",
    "            return find_logo_position(folder_id,candidate_logo,n)\n",
    "        return ((0,0), (0,0), (0,0))\n"
   ]
  },
  {
   "cell_type": "markdown",
   "metadata": {},
   "source": [
    "### identify assets with logo information"
   ]
  },
  {
   "cell_type": "code",
   "execution_count": 9,
   "metadata": {},
   "outputs": [],
   "source": [
    "bucket = \"s3://10ac-batch-6/data/w11/Challenge_Data.zip\"\n",
    "file_path = \"Challenge_Data/performance_data.csv\"\n",
    "\n",
    "df = loader.load_csv(bucket,file_path)"
   ]
  },
  {
   "cell_type": "code",
   "execution_count": 10,
   "metadata": {},
   "outputs": [],
   "source": [
    "logos = df.copy()\n",
    "logos.drop(columns=[\"preview_link\",\"ER\",\"CTR\"],inplace=True)"
   ]
  },
  {
   "cell_type": "code",
   "execution_count": 11,
   "metadata": {},
   "outputs": [],
   "source": [
    "logos[\"all_files\"] = df.game_id.apply(lambda x:get_files_name(f'/home/amanuel_zewdu/creative_image_optimization/data/Challenge_Data/Assets/{x}/'))"
   ]
  },
  {
   "cell_type": "code",
   "execution_count": 12,
   "metadata": {},
   "outputs": [
    {
     "data": {
      "text/html": [
       "<div>\n",
       "<style scoped>\n",
       "    .dataframe tbody tr th:only-of-type {\n",
       "        vertical-align: middle;\n",
       "    }\n",
       "\n",
       "    .dataframe tbody tr th {\n",
       "        vertical-align: top;\n",
       "    }\n",
       "\n",
       "    .dataframe thead th {\n",
       "        text-align: right;\n",
       "    }\n",
       "</style>\n",
       "<table border=\"1\" class=\"dataframe\">\n",
       "  <thead>\n",
       "    <tr style=\"text-align: right;\">\n",
       "      <th></th>\n",
       "      <th>game_id</th>\n",
       "      <th>all_files</th>\n",
       "    </tr>\n",
       "  </thead>\n",
       "  <tbody>\n",
       "    <tr>\n",
       "      <th>1</th>\n",
       "      <td>bfbf7a2b7ac635e67877b1ab87fd6629</td>\n",
       "      <td>[endtext.png, landing_2.jpg, video.mp4, end-ha...</td>\n",
       "    </tr>\n",
       "    <tr>\n",
       "      <th>2</th>\n",
       "      <td>945010afbf9a55bbdffcb0895f946155</td>\n",
       "      <td>[landing_2.jpg, video.mp4, end-mtlaurel.png, e...</td>\n",
       "    </tr>\n",
       "    <tr>\n",
       "      <th>3</th>\n",
       "      <td>e68e20f592457b875ce29757ab855dfe</td>\n",
       "      <td>[endtext.png, thumbnail.jpg, landing_2.jpg, en...</td>\n",
       "    </tr>\n",
       "    <tr>\n",
       "      <th>4</th>\n",
       "      <td>adunit-nestle-purina-friskies-mob</td>\n",
       "      <td>[logo.png, game_2.png, cta.png, engagement_ani...</td>\n",
       "    </tr>\n",
       "    <tr>\n",
       "      <th>5</th>\n",
       "      <td>adunit-lionsgate-uwomt-user-slider-sensory-vid...</td>\n",
       "      <td>[logo.png, cta.png, shade.png, engagement_anim...</td>\n",
       "    </tr>\n",
       "  </tbody>\n",
       "</table>\n",
       "</div>"
      ],
      "text/plain": [
       "0                                            game_id  \\\n",
       "1                   bfbf7a2b7ac635e67877b1ab87fd6629   \n",
       "2                   945010afbf9a55bbdffcb0895f946155   \n",
       "3                   e68e20f592457b875ce29757ab855dfe   \n",
       "4                  adunit-nestle-purina-friskies-mob   \n",
       "5  adunit-lionsgate-uwomt-user-slider-sensory-vid...   \n",
       "\n",
       "0                                          all_files  \n",
       "1  [endtext.png, landing_2.jpg, video.mp4, end-ha...  \n",
       "2  [landing_2.jpg, video.mp4, end-mtlaurel.png, e...  \n",
       "3  [endtext.png, thumbnail.jpg, landing_2.jpg, en...  \n",
       "4  [logo.png, game_2.png, cta.png, engagement_ani...  \n",
       "5  [logo.png, cta.png, shade.png, engagement_anim...  "
      ]
     },
     "execution_count": 12,
     "metadata": {},
     "output_type": "execute_result"
    }
   ],
   "source": [
    "logos.head()"
   ]
  },
  {
   "cell_type": "code",
   "execution_count": 13,
   "metadata": {},
   "outputs": [],
   "source": [
    "logos['concat'] = logos.all_files.apply(lambda x: \" \".join(x))"
   ]
  },
  {
   "cell_type": "code",
   "execution_count": 14,
   "metadata": {},
   "outputs": [
    {
     "data": {
      "text/plain": [
       "False    474\n",
       "True     431\n",
       "Name: concat, dtype: int64"
      ]
     },
     "execution_count": 14,
     "metadata": {},
     "output_type": "execute_result"
    }
   ],
   "source": [
    "logos.concat.str.lower().str.contains(\"logo\").value_counts()"
   ]
  },
  {
   "cell_type": "markdown",
   "metadata": {},
   "source": [
    "only 431 creative assets directory contains information about logo"
   ]
  },
  {
   "cell_type": "code",
   "execution_count": 15,
   "metadata": {},
   "outputs": [],
   "source": [
    "contain_logo = logos[logos.concat.str.lower().str.contains(\"logo\")]"
   ]
  },
  {
   "cell_type": "code",
   "execution_count": 16,
   "metadata": {},
   "outputs": [
    {
     "data": {
      "text/html": [
       "<div>\n",
       "<style scoped>\n",
       "    .dataframe tbody tr th:only-of-type {\n",
       "        vertical-align: middle;\n",
       "    }\n",
       "\n",
       "    .dataframe tbody tr th {\n",
       "        vertical-align: top;\n",
       "    }\n",
       "\n",
       "    .dataframe thead th {\n",
       "        text-align: right;\n",
       "    }\n",
       "</style>\n",
       "<table border=\"1\" class=\"dataframe\">\n",
       "  <thead>\n",
       "    <tr style=\"text-align: right;\">\n",
       "      <th></th>\n",
       "      <th>game_id</th>\n",
       "      <th>all_files</th>\n",
       "      <th>concat</th>\n",
       "    </tr>\n",
       "  </thead>\n",
       "  <tbody>\n",
       "    <tr>\n",
       "      <th>62</th>\n",
       "      <td>adunit-chevy-tap-and-hold-600-1200-mob</td>\n",
       "      <td>[vidbg.png, homecharginglegal.png, logo.png, v...</td>\n",
       "      <td>vidbg.png homecharginglegal.png logo.png video...</td>\n",
       "    </tr>\n",
       "    <tr>\n",
       "      <th>630</th>\n",
       "      <td>f1cc75828bb3b7419b0d210e971a7cdf</td>\n",
       "      <td>[fg-fixed.png, landingtext.png, logo.png, vide...</td>\n",
       "      <td>fg-fixed.png landingtext.png logo.png video.mp...</td>\n",
       "    </tr>\n",
       "    <tr>\n",
       "      <th>267</th>\n",
       "      <td>3f749b8fd9e49bca68b5fdc0ca391cd8</td>\n",
       "      <td>[end2.png, engagement_instruction_en.png, ligh...</td>\n",
       "      <td>end2.png engagement_instruction_en.png light.p...</td>\n",
       "    </tr>\n",
       "    <tr>\n",
       "      <th>107</th>\n",
       "      <td>adunit-the-botanist-gin-mpu</td>\n",
       "      <td>[endtext.png, endframe_4.png, logo.png, gamete...</td>\n",
       "      <td>endtext.png endframe_4.png logo.png gametext_7...</td>\n",
       "    </tr>\n",
       "    <tr>\n",
       "      <th>573</th>\n",
       "      <td>286ce285a3a28445c972ba9d09090937</td>\n",
       "      <td>[logo.png, video.mp4, cta.png, engagement_anim...</td>\n",
       "      <td>logo.png video.mp4 cta.png engagement_animatio...</td>\n",
       "    </tr>\n",
       "  </tbody>\n",
       "</table>\n",
       "</div>"
      ],
      "text/plain": [
       "0                                   game_id  \\\n",
       "62   adunit-chevy-tap-and-hold-600-1200-mob   \n",
       "630        f1cc75828bb3b7419b0d210e971a7cdf   \n",
       "267        3f749b8fd9e49bca68b5fdc0ca391cd8   \n",
       "107             adunit-the-botanist-gin-mpu   \n",
       "573        286ce285a3a28445c972ba9d09090937   \n",
       "\n",
       "0                                            all_files  \\\n",
       "62   [vidbg.png, homecharginglegal.png, logo.png, v...   \n",
       "630  [fg-fixed.png, landingtext.png, logo.png, vide...   \n",
       "267  [end2.png, engagement_instruction_en.png, ligh...   \n",
       "107  [endtext.png, endframe_4.png, logo.png, gamete...   \n",
       "573  [logo.png, video.mp4, cta.png, engagement_anim...   \n",
       "\n",
       "0                                               concat  \n",
       "62   vidbg.png homecharginglegal.png logo.png video...  \n",
       "630  fg-fixed.png landingtext.png logo.png video.mp...  \n",
       "267  end2.png engagement_instruction_en.png light.p...  \n",
       "107  endtext.png endframe_4.png logo.png gametext_7...  \n",
       "573  logo.png video.mp4 cta.png engagement_animatio...  "
      ]
     },
     "execution_count": 16,
     "metadata": {},
     "output_type": "execute_result"
    }
   ],
   "source": [
    "contain_logo.sample(5)"
   ]
  },
  {
   "cell_type": "code",
   "execution_count": 17,
   "metadata": {},
   "outputs": [
    {
     "data": {
      "text/html": [
       "<div>\n",
       "<style scoped>\n",
       "    .dataframe tbody tr th:only-of-type {\n",
       "        vertical-align: middle;\n",
       "    }\n",
       "\n",
       "    .dataframe tbody tr th {\n",
       "        vertical-align: top;\n",
       "    }\n",
       "\n",
       "    .dataframe thead th {\n",
       "        text-align: right;\n",
       "    }\n",
       "</style>\n",
       "<table border=\"1\" class=\"dataframe\">\n",
       "  <thead>\n",
       "    <tr style=\"text-align: right;\">\n",
       "      <th></th>\n",
       "      <th>game_id</th>\n",
       "      <th>all_files</th>\n",
       "      <th>concat</th>\n",
       "    </tr>\n",
       "  </thead>\n",
       "  <tbody>\n",
       "    <tr>\n",
       "      <th>338</th>\n",
       "      <td>adunit-windhoek-beer-year-end-2021-bio-v2-mob</td>\n",
       "      <td>[game_2.png, landing_3.png, game_3.png, game_4...</td>\n",
       "      <td>game_2.png landing_3.png game_3.png game_4.png...</td>\n",
       "    </tr>\n",
       "    <tr>\n",
       "      <th>136</th>\n",
       "      <td>adunit-ggpoker-gamification-user-choice-mpu</td>\n",
       "      <td>[end.jpg, fold-emoji-1.png, allin-card-5-blur....</td>\n",
       "      <td>end.jpg fold-emoji-1.png allin-card-5-blur.png...</td>\n",
       "    </tr>\n",
       "    <tr>\n",
       "      <th>415</th>\n",
       "      <td>9155a2e9b6ccf3449b2403031ed99468</td>\n",
       "      <td>[video.mp4, video-cta.jpg, rev-video-cta-getti...</td>\n",
       "      <td>video.mp4 video-cta.jpg rev-video-cta-getticke...</td>\n",
       "    </tr>\n",
       "    <tr>\n",
       "      <th>297</th>\n",
       "      <td>be3f931b8039ef187f1dcfa3d488c041</td>\n",
       "      <td>[video.mp4, end-cta-mpu-swap-1.png, cta.png, _...</td>\n",
       "      <td>video.mp4 end-cta-mpu-swap-1.png cta.png _prev...</td>\n",
       "    </tr>\n",
       "    <tr>\n",
       "      <th>411</th>\n",
       "      <td>68c52769f63d072ef64e0dde04ed5ff0</td>\n",
       "      <td>[video.mp4, cta.png, engagement_animation.png,...</td>\n",
       "      <td>video.mp4 cta.png engagement_animation.png lan...</td>\n",
       "    </tr>\n",
       "  </tbody>\n",
       "</table>\n",
       "</div>"
      ],
      "text/plain": [
       "0                                          game_id  \\\n",
       "338  adunit-windhoek-beer-year-end-2021-bio-v2-mob   \n",
       "136    adunit-ggpoker-gamification-user-choice-mpu   \n",
       "415               9155a2e9b6ccf3449b2403031ed99468   \n",
       "297               be3f931b8039ef187f1dcfa3d488c041   \n",
       "411               68c52769f63d072ef64e0dde04ed5ff0   \n",
       "\n",
       "0                                            all_files  \\\n",
       "338  [game_2.png, landing_3.png, game_3.png, game_4...   \n",
       "136  [end.jpg, fold-emoji-1.png, allin-card-5-blur....   \n",
       "415  [video.mp4, video-cta.jpg, rev-video-cta-getti...   \n",
       "297  [video.mp4, end-cta-mpu-swap-1.png, cta.png, _...   \n",
       "411  [video.mp4, cta.png, engagement_animation.png,...   \n",
       "\n",
       "0                                               concat  \n",
       "338  game_2.png landing_3.png game_3.png game_4.png...  \n",
       "136  end.jpg fold-emoji-1.png allin-card-5-blur.png...  \n",
       "415  video.mp4 video-cta.jpg rev-video-cta-getticke...  \n",
       "297  video.mp4 end-cta-mpu-swap-1.png cta.png _prev...  \n",
       "411  video.mp4 cta.png engagement_animation.png lan...  "
      ]
     },
     "execution_count": 17,
     "metadata": {},
     "output_type": "execute_result"
    }
   ],
   "source": [
    "not_contain_logo = logos[~logos.concat.str.lower().str.contains(\"logo\")]\n",
    "not_contain_logo.sample(5)"
   ]
  },
  {
   "cell_type": "markdown",
   "metadata": {},
   "source": [
    "### work with the first asset group"
   ]
  },
  {
   "cell_type": "code",
   "execution_count": 18,
   "metadata": {},
   "outputs": [],
   "source": [
    "# img_path = \"/home/amanuel_zewdu/creative_image_optimization/data/Challenge_Data/Assets/2524439faeafa1c2ca1a27cac00a97b1/_preview.png\"\n",
    "# logo_path = \"/home/amanuel_zewdu/creative_image_optimization/data/Challenge_Data/Assets/2524439faeafa1c2ca1a27cac00a97b1/logo.png\"\n",
    "\n",
    "img_path = \"/home/amanuel_zewdu/creative_image_optimization/data/Challenge_Data/Assets/79c36d2adb94900291f5ddf1f6580c43/endframe_2.png\"\n",
    "logo_path = \"/home/amanuel_zewdu/creative_image_optimization/data/Challenge_Data/Assets/79c36d2adb94900291f5ddf1f6580c43/logo.png\""
   ]
  },
  {
   "cell_type": "code",
   "execution_count": 19,
   "metadata": {},
   "outputs": [],
   "source": [
    "contain_logo['file_name'] = contain_logo.all_files.apply(lambda x: filter_list(x,\"logo\"))"
   ]
  },
  {
   "cell_type": "code",
   "execution_count": 20,
   "metadata": {},
   "outputs": [],
   "source": [
    "contain_logo.drop(columns=[\"all_files\",\"concat\"],inplace=True)"
   ]
  },
  {
   "cell_type": "code",
   "execution_count": 21,
   "metadata": {},
   "outputs": [
    {
     "data": {
      "text/html": [
       "<div>\n",
       "<style scoped>\n",
       "    .dataframe tbody tr th:only-of-type {\n",
       "        vertical-align: middle;\n",
       "    }\n",
       "\n",
       "    .dataframe tbody tr th {\n",
       "        vertical-align: top;\n",
       "    }\n",
       "\n",
       "    .dataframe thead th {\n",
       "        text-align: right;\n",
       "    }\n",
       "</style>\n",
       "<table border=\"1\" class=\"dataframe\">\n",
       "  <thead>\n",
       "    <tr style=\"text-align: right;\">\n",
       "      <th></th>\n",
       "      <th>game_id</th>\n",
       "      <th>file_name</th>\n",
       "    </tr>\n",
       "  </thead>\n",
       "  <tbody>\n",
       "    <tr>\n",
       "      <th>766</th>\n",
       "      <td>adunit-lionsgate-uwomt-user-slider-sensory-vid...</td>\n",
       "      <td>[logo.png]</td>\n",
       "    </tr>\n",
       "    <tr>\n",
       "      <th>224</th>\n",
       "      <td>050fd94fd028e2b766dcbfa5a9586d2c</td>\n",
       "      <td>[logo1.png, logo-swap.png, logo2.png, logo-tab...</td>\n",
       "    </tr>\n",
       "    <tr>\n",
       "      <th>267</th>\n",
       "      <td>3f749b8fd9e49bca68b5fdc0ca391cd8</td>\n",
       "      <td>[endlogo.png]</td>\n",
       "    </tr>\n",
       "    <tr>\n",
       "      <th>812</th>\n",
       "      <td>adunit-chanel-j12-tw-white-en-2022-v1-mpu</td>\n",
       "      <td>[logo.png]</td>\n",
       "    </tr>\n",
       "    <tr>\n",
       "      <th>213</th>\n",
       "      <td>adunit-ge-biofuel-userchoice-mob</td>\n",
       "      <td>[logo.png, end-logo.png]</td>\n",
       "    </tr>\n",
       "  </tbody>\n",
       "</table>\n",
       "</div>"
      ],
      "text/plain": [
       "0                                              game_id  \\\n",
       "766  adunit-lionsgate-uwomt-user-slider-sensory-vid...   \n",
       "224                   050fd94fd028e2b766dcbfa5a9586d2c   \n",
       "267                   3f749b8fd9e49bca68b5fdc0ca391cd8   \n",
       "812          adunit-chanel-j12-tw-white-en-2022-v1-mpu   \n",
       "213                   adunit-ge-biofuel-userchoice-mob   \n",
       "\n",
       "0                                            file_name  \n",
       "766                                         [logo.png]  \n",
       "224  [logo1.png, logo-swap.png, logo2.png, logo-tab...  \n",
       "267                                      [endlogo.png]  \n",
       "812                                         [logo.png]  \n",
       "213                           [logo.png, end-logo.png]  "
      ]
     },
     "execution_count": 21,
     "metadata": {},
     "output_type": "execute_result"
    }
   ],
   "source": [
    "contain_logo.sample(5)"
   ]
  },
  {
   "cell_type": "code",
   "execution_count": 22,
   "metadata": {},
   "outputs": [],
   "source": [
    "back_up_logo_list = contain_logo.copy()"
   ]
  },
  {
   "cell_type": "code",
   "execution_count": 108,
   "metadata": {},
   "outputs": [],
   "source": [
    "contain_logo = back_up_logo_list.copy()"
   ]
  },
  {
   "cell_type": "code",
   "execution_count": 109,
   "metadata": {},
   "outputs": [],
   "source": [
    "\n",
    "contain_logo[[\"shape\",\"top_left\",\"bottom_right\"]] =  contain_logo.apply(lambda x: pd.Series(find_logo_position(x.game_id,x.file_name)) ,axis = 1)"
   ]
  },
  {
   "cell_type": "code",
   "execution_count": 25,
   "metadata": {},
   "outputs": [],
   "source": [
    "# contain_logo.drop(columns=['shape','top_left','bottom_right'],inplace=True)"
   ]
  },
  {
   "cell_type": "code",
   "execution_count": 111,
   "metadata": {},
   "outputs": [],
   "source": [
    "# contain_logo[contain_logo['shape'] == (0,0)]"
   ]
  }
 ],
 "metadata": {
  "kernelspec": {
   "display_name": "Python 3.8.10 ('.venv': venv)",
   "language": "python",
   "name": "python3"
  },
  "language_info": {
   "codemirror_mode": {
    "name": "ipython",
    "version": 3
   },
   "file_extension": ".py",
   "mimetype": "text/x-python",
   "name": "python",
   "nbconvert_exporter": "python",
   "pygments_lexer": "ipython3",
   "version": "3.8.10"
  },
  "orig_nbformat": 4,
  "vscode": {
   "interpreter": {
    "hash": "dbf403a3c9e5b1045cd4c434062db8ff078a8da38114201bf3355baf5f5e4cb2"
   }
  }
 },
 "nbformat": 4,
 "nbformat_minor": 2
}
