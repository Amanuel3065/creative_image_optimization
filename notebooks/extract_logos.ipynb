{
 "cells": [
  {
   "cell_type": "code",
   "execution_count": 55,
   "metadata": {},
   "outputs": [],
   "source": [
    "import pandas as pd\n",
    "from pytesseract import pytesseract\n",
    "import cv2\n",
    "import numpy as np\n",
    "from typing import List, Tuple\n",
    "import matplotlib.pyplot as plt\n",
    "from PIL import Image\n",
    "\n",
    "import os\n",
    "import sys\n",
    "\n",
    "pytesseract.tesseract_cmd = r'/usr/bin/tesseract'\n",
    "\n",
    "import warnings\n",
    "warnings.simplefilter(\"ignore\")"
   ]
  },
  {
   "cell_type": "code",
   "execution_count": 2,
   "metadata": {},
   "outputs": [],
   "source": [
    "sys.path.append(\"../scripts\")\n",
    "from load_data import Loader\n",
    "\n",
    "loader = Loader()"
   ]
  },
  {
   "cell_type": "markdown",
   "metadata": {},
   "source": [
    "### methods"
   ]
  },
  {
   "cell_type": "code",
   "execution_count": 31,
   "metadata": {},
   "outputs": [],
   "source": [
    "def filter_list(all_values:list,key_word:str):\n",
    "    filtered_list = filter(lambda x: key_word in x, all_values)\n",
    "    return list(filtered_list)"
   ]
  },
  {
   "cell_type": "code",
   "execution_count": 3,
   "metadata": {},
   "outputs": [],
   "source": [
    "def get_files_name(directory:str, filter_extension:list=None)->list:\n",
    "    \n",
    "    # directory = f'/home/amanuel_zewdu/creative_image_optimization/data/Challenge_Data/Assets/{directory}/'\n",
    "    \n",
    "    files = []\n",
    "    for filename in os.listdir(directory):\n",
    "        f = os.path.join(directory, filename)\n",
    "        \n",
    "        # checking if it is a file\n",
    "        if filter_extension != None:\n",
    "            if os.path.isfile(f):\n",
    "                if filename.split('.')[-1].upper() in filter_extension:\n",
    "                    files.append(filename)\n",
    "        else:\n",
    "            if os.path.isfile(f):\n",
    "                files.append(filename)\n",
    "\n",
    "    return files"
   ]
  },
  {
   "cell_type": "code",
   "execution_count": 12,
   "metadata": {},
   "outputs": [],
   "source": [
    "def locate_image_on_image(locate_image: str, on_image: str, prefix: str = '', visualize: bool = False, color: Tuple[int, int, int] = (0, 0, 255)):\n",
    "    try:\n",
    "\n",
    "        image = cv2.imread(on_image)\n",
    "        gray = cv2.cvtColor(image, cv2.COLOR_RGB2GRAY)\n",
    "\n",
    "        template = cv2.imread(locate_image, 0)\n",
    "\n",
    "        result = cv2.matchTemplate(gray, template, cv2.TM_CCOEFF)\n",
    "        _, _, _, max_loc = cv2.minMaxLoc(result)\n",
    "\n",
    "        height, width = template.shape[:2]\n",
    "\n",
    "        top_left = max_loc\n",
    "        bottom_right = (top_left[0] + width, top_left[1] + height)\n",
    "\n",
    "        if visualize:\n",
    "            cv2.rectangle(image, top_left, bottom_right, color, 1)\n",
    "            plt.figure(figsize=(10, 10))\n",
    "            plt.axis('off')\n",
    "            image = cv2.cvtColor(image, cv2.COLOR_BGR2RGB)\n",
    "            plt.imshow(image)\n",
    "\n",
    "        return {f'{prefix}top_left_pos': top_left, f'{prefix}bottom_right_pos': bottom_right}\n",
    "\n",
    "    except cv2.error as err:\n",
    "        print(err)"
   ]
  },
  {
   "cell_type": "markdown",
   "metadata": {},
   "source": [
    "### identify assets with logo information"
   ]
  },
  {
   "cell_type": "code",
   "execution_count": 14,
   "metadata": {},
   "outputs": [],
   "source": [
    "bucket = \"s3://10ac-batch-6/data/w11/Challenge_Data.zip\"\n",
    "file_path = \"Challenge_Data/performance_data.csv\"\n",
    "\n",
    "df = loader.load_csv(bucket,file_path)"
   ]
  },
  {
   "cell_type": "code",
   "execution_count": 40,
   "metadata": {},
   "outputs": [],
   "source": [
    "logos = df.copy()\n",
    "logos.drop(columns=[\"preview_link\",\"ER\",\"CTR\"],inplace=True)"
   ]
  },
  {
   "cell_type": "code",
   "execution_count": 41,
   "metadata": {},
   "outputs": [],
   "source": [
    "logos[\"all_files\"] = df.game_id.apply(lambda x:get_files_name(f'/home/amanuel_zewdu/creative_image_optimization/data/Challenge_Data/Assets/{x}/'))"
   ]
  },
  {
   "cell_type": "code",
   "execution_count": 42,
   "metadata": {},
   "outputs": [
    {
     "data": {
      "text/html": [
       "<div>\n",
       "<style scoped>\n",
       "    .dataframe tbody tr th:only-of-type {\n",
       "        vertical-align: middle;\n",
       "    }\n",
       "\n",
       "    .dataframe tbody tr th {\n",
       "        vertical-align: top;\n",
       "    }\n",
       "\n",
       "    .dataframe thead th {\n",
       "        text-align: right;\n",
       "    }\n",
       "</style>\n",
       "<table border=\"1\" class=\"dataframe\">\n",
       "  <thead>\n",
       "    <tr style=\"text-align: right;\">\n",
       "      <th></th>\n",
       "      <th>game_id</th>\n",
       "      <th>all_files</th>\n",
       "    </tr>\n",
       "  </thead>\n",
       "  <tbody>\n",
       "    <tr>\n",
       "      <th>1</th>\n",
       "      <td>bfbf7a2b7ac635e67877b1ab87fd6629</td>\n",
       "      <td>[endtext.png, landing_2.jpg, video.mp4, end-ha...</td>\n",
       "    </tr>\n",
       "    <tr>\n",
       "      <th>2</th>\n",
       "      <td>945010afbf9a55bbdffcb0895f946155</td>\n",
       "      <td>[landing_2.jpg, video.mp4, end-mtlaurel.png, e...</td>\n",
       "    </tr>\n",
       "    <tr>\n",
       "      <th>3</th>\n",
       "      <td>e68e20f592457b875ce29757ab855dfe</td>\n",
       "      <td>[endtext.png, thumbnail.jpg, landing_2.jpg, en...</td>\n",
       "    </tr>\n",
       "    <tr>\n",
       "      <th>4</th>\n",
       "      <td>adunit-nestle-purina-friskies-mob</td>\n",
       "      <td>[logo.png, game_2.png, cta.png, engagement_ani...</td>\n",
       "    </tr>\n",
       "    <tr>\n",
       "      <th>5</th>\n",
       "      <td>adunit-lionsgate-uwomt-user-slider-sensory-vid...</td>\n",
       "      <td>[logo.png, cta.png, shade.png, engagement_anim...</td>\n",
       "    </tr>\n",
       "  </tbody>\n",
       "</table>\n",
       "</div>"
      ],
      "text/plain": [
       "0                                            game_id  \\\n",
       "1                   bfbf7a2b7ac635e67877b1ab87fd6629   \n",
       "2                   945010afbf9a55bbdffcb0895f946155   \n",
       "3                   e68e20f592457b875ce29757ab855dfe   \n",
       "4                  adunit-nestle-purina-friskies-mob   \n",
       "5  adunit-lionsgate-uwomt-user-slider-sensory-vid...   \n",
       "\n",
       "0                                          all_files  \n",
       "1  [endtext.png, landing_2.jpg, video.mp4, end-ha...  \n",
       "2  [landing_2.jpg, video.mp4, end-mtlaurel.png, e...  \n",
       "3  [endtext.png, thumbnail.jpg, landing_2.jpg, en...  \n",
       "4  [logo.png, game_2.png, cta.png, engagement_ani...  \n",
       "5  [logo.png, cta.png, shade.png, engagement_anim...  "
      ]
     },
     "execution_count": 42,
     "metadata": {},
     "output_type": "execute_result"
    }
   ],
   "source": [
    "logos.head()"
   ]
  },
  {
   "cell_type": "code",
   "execution_count": 44,
   "metadata": {},
   "outputs": [],
   "source": [
    "logos['concat'] = logos.all_files.apply(lambda x: \" \".join(x))"
   ]
  },
  {
   "cell_type": "code",
   "execution_count": 45,
   "metadata": {},
   "outputs": [
    {
     "data": {
      "text/plain": [
       "False    474\n",
       "True     431\n",
       "Name: concat, dtype: int64"
      ]
     },
     "execution_count": 45,
     "metadata": {},
     "output_type": "execute_result"
    }
   ],
   "source": [
    "logos.concat.str.contains(\"logo\").value_counts()"
   ]
  },
  {
   "cell_type": "markdown",
   "metadata": {},
   "source": [
    "only 431 creative assets directory contains information about logo"
   ]
  },
  {
   "cell_type": "code",
   "execution_count": 46,
   "metadata": {},
   "outputs": [],
   "source": [
    "contain_logo = logos[logos.concat.str.contains(\"logo\")]"
   ]
  },
  {
   "cell_type": "code",
   "execution_count": 47,
   "metadata": {},
   "outputs": [
    {
     "data": {
      "text/html": [
       "<div>\n",
       "<style scoped>\n",
       "    .dataframe tbody tr th:only-of-type {\n",
       "        vertical-align: middle;\n",
       "    }\n",
       "\n",
       "    .dataframe tbody tr th {\n",
       "        vertical-align: top;\n",
       "    }\n",
       "\n",
       "    .dataframe thead th {\n",
       "        text-align: right;\n",
       "    }\n",
       "</style>\n",
       "<table border=\"1\" class=\"dataframe\">\n",
       "  <thead>\n",
       "    <tr style=\"text-align: right;\">\n",
       "      <th></th>\n",
       "      <th>game_id</th>\n",
       "      <th>all_files</th>\n",
       "      <th>concat</th>\n",
       "    </tr>\n",
       "  </thead>\n",
       "  <tbody>\n",
       "    <tr>\n",
       "      <th>781</th>\n",
       "      <td>adunit-nestle-maggi-varieties-bouillon-ar-ksa-...</td>\n",
       "      <td>[endtext.png, logo.png, start-bg.png, game_2.p...</td>\n",
       "      <td>endtext.png logo.png start-bg.png game_2.png c...</td>\n",
       "    </tr>\n",
       "    <tr>\n",
       "      <th>785</th>\n",
       "      <td>adunit-mouser-user-choice-cpe-av-aus-nz-mpu</td>\n",
       "      <td>[logo.png, arrow1.png, bg.png, background.png,...</td>\n",
       "      <td>logo.png arrow1.png bg.png background.png cta....</td>\n",
       "    </tr>\n",
       "    <tr>\n",
       "      <th>887</th>\n",
       "      <td>ee8ae60b2e46e44da79fb7e59b07eae4</td>\n",
       "      <td>[endtext.png, game_1.jpg, video-copy-VOD.png, ...</td>\n",
       "      <td>endtext.png game_1.jpg video-copy-VOD.png logo...</td>\n",
       "    </tr>\n",
       "    <tr>\n",
       "      <th>467</th>\n",
       "      <td>26877a2094850375ec053651dd7aa4ea</td>\n",
       "      <td>[endtext.png, flower-circle2.png, logo.png, di...</td>\n",
       "      <td>endtext.png flower-circle2.png logo.png discov...</td>\n",
       "    </tr>\n",
       "    <tr>\n",
       "      <th>129</th>\n",
       "      <td>adunit-mouser-user-choice-v2-cpe-uk-mob</td>\n",
       "      <td>[option2-image.png, logo.png, arrow1.png, back...</td>\n",
       "      <td>option2-image.png logo.png arrow1.png backgrou...</td>\n",
       "    </tr>\n",
       "  </tbody>\n",
       "</table>\n",
       "</div>"
      ],
      "text/plain": [
       "0                                              game_id  \\\n",
       "781  adunit-nestle-maggi-varieties-bouillon-ar-ksa-...   \n",
       "785        adunit-mouser-user-choice-cpe-av-aus-nz-mpu   \n",
       "887                   ee8ae60b2e46e44da79fb7e59b07eae4   \n",
       "467                   26877a2094850375ec053651dd7aa4ea   \n",
       "129            adunit-mouser-user-choice-v2-cpe-uk-mob   \n",
       "\n",
       "0                                            all_files  \\\n",
       "781  [endtext.png, logo.png, start-bg.png, game_2.p...   \n",
       "785  [logo.png, arrow1.png, bg.png, background.png,...   \n",
       "887  [endtext.png, game_1.jpg, video-copy-VOD.png, ...   \n",
       "467  [endtext.png, flower-circle2.png, logo.png, di...   \n",
       "129  [option2-image.png, logo.png, arrow1.png, back...   \n",
       "\n",
       "0                                               concat  \n",
       "781  endtext.png logo.png start-bg.png game_2.png c...  \n",
       "785  logo.png arrow1.png bg.png background.png cta....  \n",
       "887  endtext.png game_1.jpg video-copy-VOD.png logo...  \n",
       "467  endtext.png flower-circle2.png logo.png discov...  \n",
       "129  option2-image.png logo.png arrow1.png backgrou...  "
      ]
     },
     "execution_count": 47,
     "metadata": {},
     "output_type": "execute_result"
    }
   ],
   "source": [
    "contain_logo.sample(5)"
   ]
  },
  {
   "cell_type": "code",
   "execution_count": 48,
   "metadata": {},
   "outputs": [
    {
     "data": {
      "text/html": [
       "<div>\n",
       "<style scoped>\n",
       "    .dataframe tbody tr th:only-of-type {\n",
       "        vertical-align: middle;\n",
       "    }\n",
       "\n",
       "    .dataframe tbody tr th {\n",
       "        vertical-align: top;\n",
       "    }\n",
       "\n",
       "    .dataframe thead th {\n",
       "        text-align: right;\n",
       "    }\n",
       "</style>\n",
       "<table border=\"1\" class=\"dataframe\">\n",
       "  <thead>\n",
       "    <tr style=\"text-align: right;\">\n",
       "      <th></th>\n",
       "      <th>game_id</th>\n",
       "      <th>all_files</th>\n",
       "      <th>concat</th>\n",
       "    </tr>\n",
       "  </thead>\n",
       "  <tbody>\n",
       "    <tr>\n",
       "      <th>791</th>\n",
       "      <td>ba9ca629a79e79a0b652b5b275ecd5e1</td>\n",
       "      <td>[game_2.png, game_10.png, 5.png, 12.png, 8.png...</td>\n",
       "      <td>game_2.png game_10.png 5.png 12.png 8.png game...</td>\n",
       "    </tr>\n",
       "    <tr>\n",
       "      <th>78</th>\n",
       "      <td>b4d26946d68754d77027cc419d36892f</td>\n",
       "      <td>[game_2.png, click.png, game_10.png, game_7.pn...</td>\n",
       "      <td>game_2.png click.png game_10.png game_7.png en...</td>\n",
       "    </tr>\n",
       "    <tr>\n",
       "      <th>234</th>\n",
       "      <td>adunit-not-co-icecream-br-mob</td>\n",
       "      <td>[endtext.png, game_2.png, cta.png, game_3.png,...</td>\n",
       "      <td>endtext.png game_2.png cta.png game_3.png game...</td>\n",
       "    </tr>\n",
       "    <tr>\n",
       "      <th>15</th>\n",
       "      <td>7fc571f85358c5d37efafde99b6896d7</td>\n",
       "      <td>[thumbnail.jpg, landing_2.jpg, video.mp4, MPU-...</td>\n",
       "      <td>thumbnail.jpg landing_2.jpg video.mp4 MPU-clic...</td>\n",
       "    </tr>\n",
       "    <tr>\n",
       "      <th>805</th>\n",
       "      <td>adunit-heineken-pure-malt-v2-mob</td>\n",
       "      <td>[closebutton.png, popup1.png, hotspot4.png, bg...</td>\n",
       "      <td>closebutton.png popup1.png hotspot4.png bg.png...</td>\n",
       "    </tr>\n",
       "  </tbody>\n",
       "</table>\n",
       "</div>"
      ],
      "text/plain": [
       "0                             game_id  \\\n",
       "791  ba9ca629a79e79a0b652b5b275ecd5e1   \n",
       "78   b4d26946d68754d77027cc419d36892f   \n",
       "234     adunit-not-co-icecream-br-mob   \n",
       "15   7fc571f85358c5d37efafde99b6896d7   \n",
       "805  adunit-heineken-pure-malt-v2-mob   \n",
       "\n",
       "0                                            all_files  \\\n",
       "791  [game_2.png, game_10.png, 5.png, 12.png, 8.png...   \n",
       "78   [game_2.png, click.png, game_10.png, game_7.pn...   \n",
       "234  [endtext.png, game_2.png, cta.png, game_3.png,...   \n",
       "15   [thumbnail.jpg, landing_2.jpg, video.mp4, MPU-...   \n",
       "805  [closebutton.png, popup1.png, hotspot4.png, bg...   \n",
       "\n",
       "0                                               concat  \n",
       "791  game_2.png game_10.png 5.png 12.png 8.png game...  \n",
       "78   game_2.png click.png game_10.png game_7.png en...  \n",
       "234  endtext.png game_2.png cta.png game_3.png game...  \n",
       "15   thumbnail.jpg landing_2.jpg video.mp4 MPU-clic...  \n",
       "805  closebutton.png popup1.png hotspot4.png bg.png...  "
      ]
     },
     "execution_count": 48,
     "metadata": {},
     "output_type": "execute_result"
    }
   ],
   "source": [
    "not_contain_logo = logos[~logos.concat.str.contains(\"logo\")]\n",
    "not_contain_logo.sample(5)"
   ]
  },
  {
   "cell_type": "markdown",
   "metadata": {},
   "source": [
    "### work with the first asset group"
   ]
  },
  {
   "cell_type": "code",
   "execution_count": null,
   "metadata": {},
   "outputs": [],
   "source": [
    "# img_path = \"/home/amanuel_zewdu/creative_image_optimization/data/Challenge_Data/Assets/2524439faeafa1c2ca1a27cac00a97b1/_preview.png\"\n",
    "# logo_path = \"/home/amanuel_zewdu/creative_image_optimization/data/Challenge_Data/Assets/2524439faeafa1c2ca1a27cac00a97b1/logo.png\"\n",
    "\n",
    "img_path = \"/home/amanuel_zewdu/creative_image_optimization/data/Challenge_Data/Assets/79c36d2adb94900291f5ddf1f6580c43/endframe_2.png\"\n",
    "logo_path = \"/home/amanuel_zewdu/creative_image_optimization/data/Challenge_Data/Assets/79c36d2adb94900291f5ddf1f6580c43/logo.png\""
   ]
  },
  {
   "cell_type": "code",
   "execution_count": 56,
   "metadata": {},
   "outputs": [],
   "source": [
    "contain_logo['file_name'] = contain_logo.all_files.apply(lambda x: filter_list(x,\"logo\"))"
   ]
  },
  {
   "cell_type": "code",
   "execution_count": 57,
   "metadata": {},
   "outputs": [],
   "source": [
    "contain_logo.drop(columns=[\"all_files\",\"concat\"],inplace=True)"
   ]
  },
  {
   "cell_type": "code",
   "execution_count": 60,
   "metadata": {},
   "outputs": [
    {
     "data": {
      "text/html": [
       "<div>\n",
       "<style scoped>\n",
       "    .dataframe tbody tr th:only-of-type {\n",
       "        vertical-align: middle;\n",
       "    }\n",
       "\n",
       "    .dataframe tbody tr th {\n",
       "        vertical-align: top;\n",
       "    }\n",
       "\n",
       "    .dataframe thead th {\n",
       "        text-align: right;\n",
       "    }\n",
       "</style>\n",
       "<table border=\"1\" class=\"dataframe\">\n",
       "  <thead>\n",
       "    <tr style=\"text-align: right;\">\n",
       "      <th></th>\n",
       "      <th>game_id</th>\n",
       "      <th>file_name</th>\n",
       "    </tr>\n",
       "  </thead>\n",
       "  <tbody>\n",
       "    <tr>\n",
       "      <th>694</th>\n",
       "      <td>adunit-chanel-j12-tw-black-en-2022-v1-mpu</td>\n",
       "      <td>[logo.png]</td>\n",
       "    </tr>\n",
       "    <tr>\n",
       "      <th>59</th>\n",
       "      <td>adunit-van-cleef-and-arpels-frivole-wave-unit1...</td>\n",
       "      <td>[logo.png, end-logo-ring.png, end-logo-ring-ol...</td>\n",
       "    </tr>\n",
       "    <tr>\n",
       "      <th>325</th>\n",
       "      <td>adunit-nestle-maggi-varieties-bouillon-en-kwt-mob</td>\n",
       "      <td>[logo_2.png, logo_1.png]</td>\n",
       "    </tr>\n",
       "    <tr>\n",
       "      <th>516</th>\n",
       "      <td>3bf22f2c7f71986b690dc922cb0bee1f</td>\n",
       "      <td>[logo.png]</td>\n",
       "    </tr>\n",
       "    <tr>\n",
       "      <th>207</th>\n",
       "      <td>2b7e702f208b7fd60d15d0bdadd269f4</td>\n",
       "      <td>[logo.png, logo01.png]</td>\n",
       "    </tr>\n",
       "  </tbody>\n",
       "</table>\n",
       "</div>"
      ],
      "text/plain": [
       "0                                              game_id  \\\n",
       "694          adunit-chanel-j12-tw-black-en-2022-v1-mpu   \n",
       "59   adunit-van-cleef-and-arpels-frivole-wave-unit1...   \n",
       "325  adunit-nestle-maggi-varieties-bouillon-en-kwt-mob   \n",
       "516                   3bf22f2c7f71986b690dc922cb0bee1f   \n",
       "207                   2b7e702f208b7fd60d15d0bdadd269f4   \n",
       "\n",
       "0                                            file_name  \n",
       "694                                         [logo.png]  \n",
       "59   [logo.png, end-logo-ring.png, end-logo-ring-ol...  \n",
       "325                           [logo_2.png, logo_1.png]  \n",
       "516                                         [logo.png]  \n",
       "207                             [logo.png, logo01.png]  "
      ]
     },
     "execution_count": 60,
     "metadata": {},
     "output_type": "execute_result"
    }
   ],
   "source": [
    "contain_logo.sample(5)"
   ]
  },
  {
   "cell_type": "code",
   "execution_count": 62,
   "metadata": {},
   "outputs": [],
   "source": [
    "back_up_logo_list = contain_logo.copy()\n",
    "contain_logo[\"a\"]=contain_logo.apply(lambda x: x.file_name,axis=1)"
   ]
  },
  {
   "cell_type": "code",
   "execution_count": null,
   "metadata": {},
   "outputs": [],
   "source": [
    "def find_logo_position(folder_id:str,candidate_logo:list):\n",
    "    prospect_on_image_names = [\"_preview\",\"endframe\"]\n",
    "    \n",
    "\n",
    "\n",
    "\n",
    "\n",
    "\n"
   ]
  }
 ],
 "metadata": {
  "kernelspec": {
   "display_name": "local-venv",
   "language": "python",
   "name": "local-venv"
  },
  "language_info": {
   "codemirror_mode": {
    "name": "ipython",
    "version": 3
   },
   "file_extension": ".py",
   "mimetype": "text/x-python",
   "name": "python",
   "nbconvert_exporter": "python",
   "pygments_lexer": "ipython3",
   "version": "3.8.10"
  },
  "orig_nbformat": 4
 },
 "nbformat": 4,
 "nbformat_minor": 2
}
