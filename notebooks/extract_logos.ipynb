{
 "cells": [
  {
   "cell_type": "code",
   "execution_count": 1,
   "metadata": {},
   "outputs": [],
   "source": [
    "import pandas as pd\n",
    "from pytesseract import pytesseract\n",
    "import cv2\n",
    "import numpy as np\n",
    "from typing import List, Tuple\n",
    "import matplotlib.pyplot as plt\n",
    "from PIL import Image\n",
    "\n",
    "import os\n",
    "import sys\n",
    "\n",
    "pytesseract.tesseract_cmd = r'/usr/bin/tesseract'"
   ]
  },
  {
   "cell_type": "code",
   "execution_count": 2,
   "metadata": {},
   "outputs": [],
   "source": [
    "sys.path.append(\"../scripts\")\n",
    "from load_data import Loader\n",
    "\n",
    "loader = Loader()"
   ]
  },
  {
   "cell_type": "code",
   "execution_count": 3,
   "metadata": {},
   "outputs": [],
   "source": [
    "def get_files_name(directory:str, filter_extension:list=None)->list:\n",
    "    \n",
    "    # directory = f'/home/amanuel_zewdu/creative_image_optimization/data/Challenge_Data/Assets/{directory}/'\n",
    "    \n",
    "    files = []\n",
    "    for filename in os.listdir(directory):\n",
    "        f = os.path.join(directory, filename)\n",
    "        \n",
    "        # checking if it is a file\n",
    "        if filter_extension != None:\n",
    "            if os.path.isfile(f):\n",
    "                if filename.split('.')[-1].upper() in filter_extension:\n",
    "                    files.append(filename)\n",
    "        else:\n",
    "            if os.path.isfile(f):\n",
    "                files.append(filename)\n",
    "\n",
    "    return files"
   ]
  },
  {
   "cell_type": "code",
   "execution_count": 4,
   "metadata": {},
   "outputs": [],
   "source": [
    "bucket = \"s3://10ac-batch-6/data/w11/Challenge_Data.zip\"\n",
    "file_path = \"Challenge_Data/performance_data.csv\"\n",
    "\n",
    "df = loader.load_csv(bucket,file_path)"
   ]
  },
  {
   "cell_type": "code",
   "execution_count": 5,
   "metadata": {},
   "outputs": [],
   "source": [
    "logos = df.game_id.apply(lambda x:get_files_name(f'/home/amanuel_zewdu/creative_image_optimization/data/Challenge_Data/Assets/{x}/'))"
   ]
  },
  {
   "cell_type": "code",
   "execution_count": 6,
   "metadata": {},
   "outputs": [],
   "source": [
    "logos_df = pd.DataFrame(logos)"
   ]
  },
  {
   "cell_type": "code",
   "execution_count": 8,
   "metadata": {},
   "outputs": [],
   "source": [
    "logos_df['concat'] = logos_df.game_id.apply(lambda x: \" \".join(x))"
   ]
  },
  {
   "cell_type": "code",
   "execution_count": 9,
   "metadata": {},
   "outputs": [
    {
     "data": {
      "text/html": [
       "<div>\n",
       "<style scoped>\n",
       "    .dataframe tbody tr th:only-of-type {\n",
       "        vertical-align: middle;\n",
       "    }\n",
       "\n",
       "    .dataframe tbody tr th {\n",
       "        vertical-align: top;\n",
       "    }\n",
       "\n",
       "    .dataframe thead th {\n",
       "        text-align: right;\n",
       "    }\n",
       "</style>\n",
       "<table border=\"1\" class=\"dataframe\">\n",
       "  <thead>\n",
       "    <tr style=\"text-align: right;\">\n",
       "      <th></th>\n",
       "      <th>game_id</th>\n",
       "      <th>concat</th>\n",
       "    </tr>\n",
       "  </thead>\n",
       "  <tbody>\n",
       "    <tr>\n",
       "      <th>1</th>\n",
       "      <td>[endtext.png, landing_2.jpg, video.mp4, end-ha...</td>\n",
       "      <td>endtext.png landing_2.jpg video.mp4 end-haverf...</td>\n",
       "    </tr>\n",
       "    <tr>\n",
       "      <th>2</th>\n",
       "      <td>[landing_2.jpg, video.mp4, end-mtlaurel.png, e...</td>\n",
       "      <td>landing_2.jpg video.mp4 end-mtlaurel.png end-h...</td>\n",
       "    </tr>\n",
       "    <tr>\n",
       "      <th>3</th>\n",
       "      <td>[endtext.png, thumbnail.jpg, landing_2.jpg, en...</td>\n",
       "      <td>endtext.png thumbnail.jpg landing_2.jpg endfra...</td>\n",
       "    </tr>\n",
       "    <tr>\n",
       "      <th>4</th>\n",
       "      <td>[logo.png, game_2.png, cta.png, engagement_ani...</td>\n",
       "      <td>logo.png game_2.png cta.png engagement_animati...</td>\n",
       "    </tr>\n",
       "    <tr>\n",
       "      <th>5</th>\n",
       "      <td>[logo.png, cta.png, shade.png, engagement_anim...</td>\n",
       "      <td>logo.png cta.png shade.png engagement_animatio...</td>\n",
       "    </tr>\n",
       "  </tbody>\n",
       "</table>\n",
       "</div>"
      ],
      "text/plain": [
       "                                             game_id  \\\n",
       "1  [endtext.png, landing_2.jpg, video.mp4, end-ha...   \n",
       "2  [landing_2.jpg, video.mp4, end-mtlaurel.png, e...   \n",
       "3  [endtext.png, thumbnail.jpg, landing_2.jpg, en...   \n",
       "4  [logo.png, game_2.png, cta.png, engagement_ani...   \n",
       "5  [logo.png, cta.png, shade.png, engagement_anim...   \n",
       "\n",
       "                                              concat  \n",
       "1  endtext.png landing_2.jpg video.mp4 end-haverf...  \n",
       "2  landing_2.jpg video.mp4 end-mtlaurel.png end-h...  \n",
       "3  endtext.png thumbnail.jpg landing_2.jpg endfra...  \n",
       "4  logo.png game_2.png cta.png engagement_animati...  \n",
       "5  logo.png cta.png shade.png engagement_animatio...  "
      ]
     },
     "execution_count": 9,
     "metadata": {},
     "output_type": "execute_result"
    }
   ],
   "source": [
    "logos_df.head()"
   ]
  },
  {
   "cell_type": "code",
   "execution_count": 25,
   "metadata": {},
   "outputs": [
    {
     "data": {
      "text/plain": [
       "False    474\n",
       "True     431\n",
       "Name: concat, dtype: int64"
      ]
     },
     "execution_count": 25,
     "metadata": {},
     "output_type": "execute_result"
    }
   ],
   "source": [
    "logos_df.concat.str.contains(\"logo\").value_counts()"
   ]
  },
  {
   "cell_type": "markdown",
   "metadata": {},
   "source": [
    "only 431 creative assets directory contains information about logo"
   ]
  }
 ],
 "metadata": {
  "kernelspec": {
   "display_name": "local-venv",
   "language": "python",
   "name": "local-venv"
  },
  "language_info": {
   "codemirror_mode": {
    "name": "ipython",
    "version": 3
   },
   "file_extension": ".py",
   "mimetype": "text/x-python",
   "name": "python",
   "nbconvert_exporter": "python",
   "pygments_lexer": "ipython3",
   "version": "3.8.10"
  },
  "orig_nbformat": 4
 },
 "nbformat": 4,
 "nbformat_minor": 2
}
