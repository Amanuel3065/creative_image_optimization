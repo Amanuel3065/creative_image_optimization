{
 "cells": [
  {
   "cell_type": "code",
   "execution_count": 1,
   "metadata": {},
   "outputs": [],
   "source": [
    "import pandas as pd\n",
    "from pytesseract import pytesseract\n",
    "import cv2\n",
    "from typing import List, Tuple\n",
    "import matplotlib.pyplot as plt\n",
    "\n",
    "import os\n",
    "import sys\n",
    "import glob\n",
    "\n",
    "pytesseract.tesseract_cmd = r'/usr/bin/tesseract'\n",
    "\n",
    "import warnings\n",
    "warnings.simplefilter(\"ignore\")"
   ]
  },
  {
   "cell_type": "code",
   "execution_count": 2,
   "metadata": {},
   "outputs": [],
   "source": [
    "sys.path.append(\"../scripts\")\n",
    "from load_data import Loader\n",
    "from utils import *\n",
    "from logo_extraction import *\n",
    "\n",
    "loader = Loader()"
   ]
  },
  {
   "cell_type": "code",
   "execution_count": 8,
   "metadata": {},
   "outputs": [],
   "source": [
    "DIRECTORY_PATH = \"/home/amanuel_zewdu/creative_image_optimization/data/Challenge_Data/Assets/\"\n",
    "\n",
    "IMAGES_EXT = [\"JPG\",\"PNG\",\"GIF\",\"WEBP\",\"TIFF\",\"PSD\",\"RAW\",\"BMP\",\"HEIF\",\"INDD\",\"JPEG\"]\n",
    "\n",
    "VIDEO_EXT = [\"WEBM\",\"MPG\",\"MP2\",\"MPEG\",\"MPE\",\"MPV\",\"OGG\",\"MP4\",\"M4P\",\"M4V\",\"AVI\",\"WMV\",\"MOV\",\"QT\",\"FLV\",\"SWF\"]"
   ]
  },
  {
   "cell_type": "markdown",
   "metadata": {},
   "source": [
    "### identify assets with logo information"
   ]
  },
  {
   "cell_type": "code",
   "execution_count": 3,
   "metadata": {},
   "outputs": [],
   "source": [
    "bucket = \"s3://10ac-batch-6/data/w11/Challenge_Data.zip\"\n",
    "file_path = \"Challenge_Data/performance_data.csv\"\n",
    "\n",
    "df = loader.load_csv(bucket,file_path)"
   ]
  },
  {
   "cell_type": "code",
   "execution_count": 4,
   "metadata": {},
   "outputs": [],
   "source": [
    "logos = df.copy()\n",
    "logos.drop(columns=[\"preview_link\",\"ER\",\"CTR\"],inplace=True)"
   ]
  },
  {
   "cell_type": "code",
   "execution_count": 5,
   "metadata": {},
   "outputs": [],
   "source": [
    "logos[\"all_files\"] = logos.game_id.apply(lambda x:get_files_name(f'{DIRECTORY_PATH}{x}/'))"
   ]
  },
  {
   "cell_type": "code",
   "execution_count": 12,
   "metadata": {},
   "outputs": [
    {
     "data": {
      "text/html": [
       "<div>\n",
       "<style scoped>\n",
       "    .dataframe tbody tr th:only-of-type {\n",
       "        vertical-align: middle;\n",
       "    }\n",
       "\n",
       "    .dataframe tbody tr th {\n",
       "        vertical-align: top;\n",
       "    }\n",
       "\n",
       "    .dataframe thead th {\n",
       "        text-align: right;\n",
       "    }\n",
       "</style>\n",
       "<table border=\"1\" class=\"dataframe\">\n",
       "  <thead>\n",
       "    <tr style=\"text-align: right;\">\n",
       "      <th></th>\n",
       "      <th>game_id</th>\n",
       "      <th>all_files</th>\n",
       "    </tr>\n",
       "  </thead>\n",
       "  <tbody>\n",
       "    <tr>\n",
       "      <th>1</th>\n",
       "      <td>bfbf7a2b7ac635e67877b1ab87fd6629</td>\n",
       "      <td>[endtext.png, landing_2.jpg, video.mp4, end-ha...</td>\n",
       "    </tr>\n",
       "    <tr>\n",
       "      <th>2</th>\n",
       "      <td>945010afbf9a55bbdffcb0895f946155</td>\n",
       "      <td>[landing_2.jpg, video.mp4, end-mtlaurel.png, e...</td>\n",
       "    </tr>\n",
       "    <tr>\n",
       "      <th>3</th>\n",
       "      <td>e68e20f592457b875ce29757ab855dfe</td>\n",
       "      <td>[endtext.png, thumbnail.jpg, landing_2.jpg, en...</td>\n",
       "    </tr>\n",
       "    <tr>\n",
       "      <th>4</th>\n",
       "      <td>adunit-nestle-purina-friskies-mob</td>\n",
       "      <td>[logo.png, game_2.png, cta.png, engagement_ani...</td>\n",
       "    </tr>\n",
       "    <tr>\n",
       "      <th>5</th>\n",
       "      <td>adunit-lionsgate-uwomt-user-slider-sensory-vid...</td>\n",
       "      <td>[logo.png, cta.png, shade.png, engagement_anim...</td>\n",
       "    </tr>\n",
       "  </tbody>\n",
       "</table>\n",
       "</div>"
      ],
      "text/plain": [
       "0                                            game_id  \\\n",
       "1                   bfbf7a2b7ac635e67877b1ab87fd6629   \n",
       "2                   945010afbf9a55bbdffcb0895f946155   \n",
       "3                   e68e20f592457b875ce29757ab855dfe   \n",
       "4                  adunit-nestle-purina-friskies-mob   \n",
       "5  adunit-lionsgate-uwomt-user-slider-sensory-vid...   \n",
       "\n",
       "0                                          all_files  \n",
       "1  [endtext.png, landing_2.jpg, video.mp4, end-ha...  \n",
       "2  [landing_2.jpg, video.mp4, end-mtlaurel.png, e...  \n",
       "3  [endtext.png, thumbnail.jpg, landing_2.jpg, en...  \n",
       "4  [logo.png, game_2.png, cta.png, engagement_ani...  \n",
       "5  [logo.png, cta.png, shade.png, engagement_anim...  "
      ]
     },
     "execution_count": 12,
     "metadata": {},
     "output_type": "execute_result"
    }
   ],
   "source": [
    "logos.head()"
   ]
  },
  {
   "cell_type": "code",
   "execution_count": 6,
   "metadata": {},
   "outputs": [],
   "source": [
    "logos['concat'] = logos.all_files.apply(lambda x: \" \".join(x))"
   ]
  },
  {
   "cell_type": "code",
   "execution_count": 14,
   "metadata": {},
   "outputs": [
    {
     "data": {
      "text/plain": [
       "False    474\n",
       "True     431\n",
       "Name: concat, dtype: int64"
      ]
     },
     "execution_count": 14,
     "metadata": {},
     "output_type": "execute_result"
    }
   ],
   "source": [
    "logos.concat.str.lower().str.contains(\"logo\").value_counts()"
   ]
  },
  {
   "cell_type": "markdown",
   "metadata": {},
   "source": [
    "only 431 creative assets directory contains information about logo"
   ]
  },
  {
   "cell_type": "code",
   "execution_count": 7,
   "metadata": {},
   "outputs": [],
   "source": [
    "contain_logo = logos[logos.concat.str.lower().str.contains(\"logo\")]"
   ]
  },
  {
   "cell_type": "code",
   "execution_count": 16,
   "metadata": {},
   "outputs": [
    {
     "data": {
      "text/html": [
       "<div>\n",
       "<style scoped>\n",
       "    .dataframe tbody tr th:only-of-type {\n",
       "        vertical-align: middle;\n",
       "    }\n",
       "\n",
       "    .dataframe tbody tr th {\n",
       "        vertical-align: top;\n",
       "    }\n",
       "\n",
       "    .dataframe thead th {\n",
       "        text-align: right;\n",
       "    }\n",
       "</style>\n",
       "<table border=\"1\" class=\"dataframe\">\n",
       "  <thead>\n",
       "    <tr style=\"text-align: right;\">\n",
       "      <th></th>\n",
       "      <th>game_id</th>\n",
       "      <th>all_files</th>\n",
       "      <th>concat</th>\n",
       "    </tr>\n",
       "  </thead>\n",
       "  <tbody>\n",
       "    <tr>\n",
       "      <th>831</th>\n",
       "      <td>9931c8470e7412c45c890f4f7c59c1f4</td>\n",
       "      <td>[logo.png, video.mp4, cta.png, engageable-laye...</td>\n",
       "      <td>logo.png video.mp4 cta.png engageable-layer.pn...</td>\n",
       "    </tr>\n",
       "    <tr>\n",
       "      <th>181</th>\n",
       "      <td>42c5b4b367187c29ac8fdd78c70837d6</td>\n",
       "      <td>[logo.png, arrowdown.png, star24.png, star33e....</td>\n",
       "      <td>logo.png arrowdown.png star24.png star33e.png ...</td>\n",
       "    </tr>\n",
       "    <tr>\n",
       "      <th>684</th>\n",
       "      <td>06615e719bb053415093a4572a1f1d31</td>\n",
       "      <td>[end.jpg, logo.png, video.mp4, landing_endfrma...</td>\n",
       "      <td>end.jpg logo.png video.mp4 landing_endfrmae.pn...</td>\n",
       "    </tr>\n",
       "    <tr>\n",
       "      <th>88</th>\n",
       "      <td>adunit-mouser-user-choice-flight4-canada-cpe-a...</td>\n",
       "      <td>[option2-image.png, logo.png, arrow1.png, back...</td>\n",
       "      <td>option2-image.png logo.png arrow1.png backgrou...</td>\n",
       "    </tr>\n",
       "    <tr>\n",
       "      <th>863</th>\n",
       "      <td>c8fc9c5e6ec515c610c73f772ed5d3a4</td>\n",
       "      <td>[endtext.png, logo.png, video.mp4, end-mtlaure...</td>\n",
       "      <td>endtext.png logo.png video.mp4 end-mtlaurel.pn...</td>\n",
       "    </tr>\n",
       "  </tbody>\n",
       "</table>\n",
       "</div>"
      ],
      "text/plain": [
       "0                                              game_id  \\\n",
       "831                   9931c8470e7412c45c890f4f7c59c1f4   \n",
       "181                   42c5b4b367187c29ac8fdd78c70837d6   \n",
       "684                   06615e719bb053415093a4572a1f1d31   \n",
       "88   adunit-mouser-user-choice-flight4-canada-cpe-a...   \n",
       "863                   c8fc9c5e6ec515c610c73f772ed5d3a4   \n",
       "\n",
       "0                                            all_files  \\\n",
       "831  [logo.png, video.mp4, cta.png, engageable-laye...   \n",
       "181  [logo.png, arrowdown.png, star24.png, star33e....   \n",
       "684  [end.jpg, logo.png, video.mp4, landing_endfrma...   \n",
       "88   [option2-image.png, logo.png, arrow1.png, back...   \n",
       "863  [endtext.png, logo.png, video.mp4, end-mtlaure...   \n",
       "\n",
       "0                                               concat  \n",
       "831  logo.png video.mp4 cta.png engageable-layer.pn...  \n",
       "181  logo.png arrowdown.png star24.png star33e.png ...  \n",
       "684  end.jpg logo.png video.mp4 landing_endfrmae.pn...  \n",
       "88   option2-image.png logo.png arrow1.png backgrou...  \n",
       "863  endtext.png logo.png video.mp4 end-mtlaurel.pn...  "
      ]
     },
     "execution_count": 16,
     "metadata": {},
     "output_type": "execute_result"
    }
   ],
   "source": [
    "contain_logo.sample(5)"
   ]
  },
  {
   "cell_type": "code",
   "execution_count": 17,
   "metadata": {},
   "outputs": [],
   "source": [
    "not_contain_logo = logos[~logos.concat.str.lower().str.contains(\"logo\")]"
   ]
  },
  {
   "cell_type": "code",
   "execution_count": 18,
   "metadata": {},
   "outputs": [
    {
     "data": {
      "text/html": [
       "<div>\n",
       "<style scoped>\n",
       "    .dataframe tbody tr th:only-of-type {\n",
       "        vertical-align: middle;\n",
       "    }\n",
       "\n",
       "    .dataframe tbody tr th {\n",
       "        vertical-align: top;\n",
       "    }\n",
       "\n",
       "    .dataframe thead th {\n",
       "        text-align: right;\n",
       "    }\n",
       "</style>\n",
       "<table border=\"1\" class=\"dataframe\">\n",
       "  <thead>\n",
       "    <tr style=\"text-align: right;\">\n",
       "      <th></th>\n",
       "      <th>game_id</th>\n",
       "      <th>all_files</th>\n",
       "      <th>concat</th>\n",
       "    </tr>\n",
       "  </thead>\n",
       "  <tbody>\n",
       "    <tr>\n",
       "      <th>15</th>\n",
       "      <td>7fc571f85358c5d37efafde99b6896d7</td>\n",
       "      <td>[thumbnail.jpg, landing_2.jpg, video.mp4, MPU-...</td>\n",
       "      <td>thumbnail.jpg landing_2.jpg video.mp4 MPU-clic...</td>\n",
       "    </tr>\n",
       "    <tr>\n",
       "      <th>261</th>\n",
       "      <td>267aa12df20c85a8c215e3d6f7a74879</td>\n",
       "      <td>[video.mp4, rev-end-bg.jpg, fs-engage.png, cta...</td>\n",
       "      <td>video.mp4 rev-end-bg.jpg fs-engage.png cta.png...</td>\n",
       "    </tr>\n",
       "    <tr>\n",
       "      <th>782</th>\n",
       "      <td>f52568446cd557df708c44efb668789c</td>\n",
       "      <td>[endtext.png, video.mp4, video-cta.jpg, engage...</td>\n",
       "      <td>endtext.png video.mp4 video-cta.jpg engagement...</td>\n",
       "    </tr>\n",
       "    <tr>\n",
       "      <th>625</th>\n",
       "      <td>623735c2b4b2d78c61e08073dbaa352d</td>\n",
       "      <td>[thumbnail.jpg, landing_2.jpg, video.mp4, MPU-...</td>\n",
       "      <td>thumbnail.jpg landing_2.jpg video.mp4 MPU-clic...</td>\n",
       "    </tr>\n",
       "    <tr>\n",
       "      <th>729</th>\n",
       "      <td>adunit-gm-ces-user-choice-mpu</td>\n",
       "      <td>[endframe_4.png, bg.png, arrow-3.png, cta.png,...</td>\n",
       "      <td>endframe_4.png bg.png arrow-3.png cta.png endt...</td>\n",
       "    </tr>\n",
       "  </tbody>\n",
       "</table>\n",
       "</div>"
      ],
      "text/plain": [
       "0                             game_id  \\\n",
       "15   7fc571f85358c5d37efafde99b6896d7   \n",
       "261  267aa12df20c85a8c215e3d6f7a74879   \n",
       "782  f52568446cd557df708c44efb668789c   \n",
       "625  623735c2b4b2d78c61e08073dbaa352d   \n",
       "729     adunit-gm-ces-user-choice-mpu   \n",
       "\n",
       "0                                            all_files  \\\n",
       "15   [thumbnail.jpg, landing_2.jpg, video.mp4, MPU-...   \n",
       "261  [video.mp4, rev-end-bg.jpg, fs-engage.png, cta...   \n",
       "782  [endtext.png, video.mp4, video-cta.jpg, engage...   \n",
       "625  [thumbnail.jpg, landing_2.jpg, video.mp4, MPU-...   \n",
       "729  [endframe_4.png, bg.png, arrow-3.png, cta.png,...   \n",
       "\n",
       "0                                               concat  \n",
       "15   thumbnail.jpg landing_2.jpg video.mp4 MPU-clic...  \n",
       "261  video.mp4 rev-end-bg.jpg fs-engage.png cta.png...  \n",
       "782  endtext.png video.mp4 video-cta.jpg engagement...  \n",
       "625  thumbnail.jpg landing_2.jpg video.mp4 MPU-clic...  \n",
       "729  endframe_4.png bg.png arrow-3.png cta.png endt...  "
      ]
     },
     "execution_count": 18,
     "metadata": {},
     "output_type": "execute_result"
    }
   ],
   "source": [
    "not_contain_logo.sample(5)"
   ]
  },
  {
   "cell_type": "markdown",
   "metadata": {},
   "source": [
    "### work with the first asset group"
   ]
  },
  {
   "cell_type": "code",
   "execution_count": 19,
   "metadata": {},
   "outputs": [],
   "source": [
    "# img_path = \"/home/amanuel_zewdu/creative_image_optimization/data/Challenge_Data/Assets/2524439faeafa1c2ca1a27cac00a97b1/_preview.png\"\n",
    "# logo_path = \"/home/amanuel_zewdu/creative_image_optimization/data/Challenge_Data/Assets/2524439faeafa1c2ca1a27cac00a97b1/logo.png\"\n",
    "\n",
    "img_path = \"/home/amanuel_zewdu/creative_image_optimization/data/Challenge_Data/Assets/79c36d2adb94900291f5ddf1f6580c43/endframe_2.png\"\n",
    "logo_path = \"/home/amanuel_zewdu/creative_image_optimization/data/Challenge_Data/Assets/79c36d2adb94900291f5ddf1f6580c43/logo.png\""
   ]
  },
  {
   "cell_type": "code",
   "execution_count": 8,
   "metadata": {},
   "outputs": [],
   "source": [
    "contain_logo['file_name'] = contain_logo.all_files.apply(lambda x: filter_list(x,\"logo\"))"
   ]
  },
  {
   "cell_type": "code",
   "execution_count": 9,
   "metadata": {},
   "outputs": [],
   "source": [
    "contain_logo.drop(columns=[\"all_files\",\"concat\"],inplace=True)"
   ]
  },
  {
   "cell_type": "code",
   "execution_count": 22,
   "metadata": {},
   "outputs": [
    {
     "data": {
      "text/html": [
       "<div>\n",
       "<style scoped>\n",
       "    .dataframe tbody tr th:only-of-type {\n",
       "        vertical-align: middle;\n",
       "    }\n",
       "\n",
       "    .dataframe tbody tr th {\n",
       "        vertical-align: top;\n",
       "    }\n",
       "\n",
       "    .dataframe thead th {\n",
       "        text-align: right;\n",
       "    }\n",
       "</style>\n",
       "<table border=\"1\" class=\"dataframe\">\n",
       "  <thead>\n",
       "    <tr style=\"text-align: right;\">\n",
       "      <th></th>\n",
       "      <th>game_id</th>\n",
       "      <th>file_name</th>\n",
       "    </tr>\n",
       "  </thead>\n",
       "  <tbody>\n",
       "    <tr>\n",
       "      <th>749</th>\n",
       "      <td>e17b6db0e4fb777ab569ef0a81b5000e</td>\n",
       "      <td>[logo.png]</td>\n",
       "    </tr>\n",
       "    <tr>\n",
       "      <th>807</th>\n",
       "      <td>9e068e03269af51054a95146bdaf3d45</td>\n",
       "      <td>[logo.png]</td>\n",
       "    </tr>\n",
       "    <tr>\n",
       "      <th>207</th>\n",
       "      <td>2b7e702f208b7fd60d15d0bdadd269f4</td>\n",
       "      <td>[logo.png, LOGO.png, logo01.png]</td>\n",
       "    </tr>\n",
       "    <tr>\n",
       "      <th>124</th>\n",
       "      <td>2a7069f1ccdc33dd1f7a200e3026b4ad</td>\n",
       "      <td>[logo.png]</td>\n",
       "    </tr>\n",
       "    <tr>\n",
       "      <th>295</th>\n",
       "      <td>adunit-chevy-user-slider-seat-interior-v1-cpe-...</td>\n",
       "      <td>[logo.png]</td>\n",
       "    </tr>\n",
       "  </tbody>\n",
       "</table>\n",
       "</div>"
      ],
      "text/plain": [
       "0                                              game_id  \\\n",
       "749                   e17b6db0e4fb777ab569ef0a81b5000e   \n",
       "807                   9e068e03269af51054a95146bdaf3d45   \n",
       "207                   2b7e702f208b7fd60d15d0bdadd269f4   \n",
       "124                   2a7069f1ccdc33dd1f7a200e3026b4ad   \n",
       "295  adunit-chevy-user-slider-seat-interior-v1-cpe-...   \n",
       "\n",
       "0                           file_name  \n",
       "749                        [logo.png]  \n",
       "807                        [logo.png]  \n",
       "207  [logo.png, LOGO.png, logo01.png]  \n",
       "124                        [logo.png]  \n",
       "295                        [logo.png]  "
      ]
     },
     "execution_count": 22,
     "metadata": {},
     "output_type": "execute_result"
    }
   ],
   "source": [
    "contain_logo.sample(5)"
   ]
  },
  {
   "cell_type": "code",
   "execution_count": 10,
   "metadata": {},
   "outputs": [],
   "source": [
    "back_up_logo_list = contain_logo.copy()"
   ]
  },
  {
   "cell_type": "code",
   "execution_count": 24,
   "metadata": {},
   "outputs": [],
   "source": [
    "contain_logo = back_up_logo_list.copy()"
   ]
  },
  {
   "cell_type": "code",
   "execution_count": 25,
   "metadata": {},
   "outputs": [],
   "source": [
    "\n",
    "contain_logo[[\"shape\",\"top_left\",\"bottom_right\"]] =  contain_logo.apply(lambda x: pd.Series(find_logo_position(x.game_id,x.file_name)) ,axis = 1)"
   ]
  },
  {
   "cell_type": "code",
   "execution_count": 26,
   "metadata": {},
   "outputs": [
    {
     "data": {
      "text/html": [
       "<div>\n",
       "<style scoped>\n",
       "    .dataframe tbody tr th:only-of-type {\n",
       "        vertical-align: middle;\n",
       "    }\n",
       "\n",
       "    .dataframe tbody tr th {\n",
       "        vertical-align: top;\n",
       "    }\n",
       "\n",
       "    .dataframe thead th {\n",
       "        text-align: right;\n",
       "    }\n",
       "</style>\n",
       "<table border=\"1\" class=\"dataframe\">\n",
       "  <thead>\n",
       "    <tr style=\"text-align: right;\">\n",
       "      <th></th>\n",
       "      <th>game_id</th>\n",
       "      <th>file_name</th>\n",
       "      <th>shape</th>\n",
       "      <th>top_left</th>\n",
       "      <th>bottom_right</th>\n",
       "    </tr>\n",
       "  </thead>\n",
       "  <tbody>\n",
       "    <tr>\n",
       "      <th>717</th>\n",
       "      <td>adunit-nestle-maggi-varieties-bouillon-en-uae-mpu</td>\n",
       "      <td>[logo.png]</td>\n",
       "      <td>(604, 452)</td>\n",
       "      <td>(65, 374)</td>\n",
       "      <td>(175, 439)</td>\n",
       "    </tr>\n",
       "    <tr>\n",
       "      <th>135</th>\n",
       "      <td>adunit-mouser-user-choice-v3-us-cpe-av-mob</td>\n",
       "      <td>[logo.png]</td>\n",
       "      <td>(652, 1046)</td>\n",
       "      <td>(533, 482)</td>\n",
       "      <td>(1037, 648)</td>\n",
       "    </tr>\n",
       "    <tr>\n",
       "      <th>303</th>\n",
       "      <td>e0c8ecc4ba1bc299fb4e43f6faccffb9</td>\n",
       "      <td>[logo.png]</td>\n",
       "      <td>(900, 600)</td>\n",
       "      <td>(0, 0)</td>\n",
       "      <td>(600, 900)</td>\n",
       "    </tr>\n",
       "    <tr>\n",
       "      <th>636</th>\n",
       "      <td>6de62384e53319712bf7910e4db4e189</td>\n",
       "      <td>[logo.png]</td>\n",
       "      <td>(900, 600)</td>\n",
       "      <td>(365, 525)</td>\n",
       "      <td>(599, 615)</td>\n",
       "    </tr>\n",
       "    <tr>\n",
       "      <th>256</th>\n",
       "      <td>edd62a365ff46ae8c2e7a88dcb48ba56</td>\n",
       "      <td>[logo.png]</td>\n",
       "      <td>(900, 600)</td>\n",
       "      <td>(54, 411)</td>\n",
       "      <td>(544, 489)</td>\n",
       "    </tr>\n",
       "  </tbody>\n",
       "</table>\n",
       "</div>"
      ],
      "text/plain": [
       "0                                              game_id   file_name  \\\n",
       "717  adunit-nestle-maggi-varieties-bouillon-en-uae-mpu  [logo.png]   \n",
       "135         adunit-mouser-user-choice-v3-us-cpe-av-mob  [logo.png]   \n",
       "303                   e0c8ecc4ba1bc299fb4e43f6faccffb9  [logo.png]   \n",
       "636                   6de62384e53319712bf7910e4db4e189  [logo.png]   \n",
       "256                   edd62a365ff46ae8c2e7a88dcb48ba56  [logo.png]   \n",
       "\n",
       "0          shape    top_left bottom_right  \n",
       "717   (604, 452)   (65, 374)   (175, 439)  \n",
       "135  (652, 1046)  (533, 482)  (1037, 648)  \n",
       "303   (900, 600)      (0, 0)   (600, 900)  \n",
       "636   (900, 600)  (365, 525)   (599, 615)  \n",
       "256   (900, 600)   (54, 411)   (544, 489)  "
      ]
     },
     "execution_count": 26,
     "metadata": {},
     "output_type": "execute_result"
    }
   ],
   "source": [
    "contain_logo.sample(5)"
   ]
  },
  {
   "cell_type": "code",
   "execution_count": 27,
   "metadata": {},
   "outputs": [],
   "source": [
    "# Logo Area Ratio\n",
    "contain_logo[[\"LAR\"]] =  contain_logo.apply(lambda x: pd.Series(find_logo_area_ratio(x[\"shape\"],x[\"top_left\"],x[\"bottom_right\"])) ,axis = 1)\n",
    "contain_logo[\"LAR\"] =  contain_logo.LAR.apply(lambda x: x if x <=1 else 0 )"
   ]
  },
  {
   "cell_type": "code",
   "execution_count": 28,
   "metadata": {},
   "outputs": [
    {
     "data": {
      "text/html": [
       "<div>\n",
       "<style scoped>\n",
       "    .dataframe tbody tr th:only-of-type {\n",
       "        vertical-align: middle;\n",
       "    }\n",
       "\n",
       "    .dataframe tbody tr th {\n",
       "        vertical-align: top;\n",
       "    }\n",
       "\n",
       "    .dataframe thead th {\n",
       "        text-align: right;\n",
       "    }\n",
       "</style>\n",
       "<table border=\"1\" class=\"dataframe\">\n",
       "  <thead>\n",
       "    <tr style=\"text-align: right;\">\n",
       "      <th></th>\n",
       "      <th>LAR</th>\n",
       "    </tr>\n",
       "  </thead>\n",
       "  <tbody>\n",
       "    <tr>\n",
       "      <th>count</th>\n",
       "      <td>431.000000</td>\n",
       "    </tr>\n",
       "    <tr>\n",
       "      <th>mean</th>\n",
       "      <td>0.132191</td>\n",
       "    </tr>\n",
       "    <tr>\n",
       "      <th>std</th>\n",
       "      <td>0.230897</td>\n",
       "    </tr>\n",
       "    <tr>\n",
       "      <th>min</th>\n",
       "      <td>0.000000</td>\n",
       "    </tr>\n",
       "    <tr>\n",
       "      <th>25%</th>\n",
       "      <td>0.026848</td>\n",
       "    </tr>\n",
       "    <tr>\n",
       "      <th>50%</th>\n",
       "      <td>0.050883</td>\n",
       "    </tr>\n",
       "    <tr>\n",
       "      <th>75%</th>\n",
       "      <td>0.122676</td>\n",
       "    </tr>\n",
       "    <tr>\n",
       "      <th>max</th>\n",
       "      <td>1.000000</td>\n",
       "    </tr>\n",
       "  </tbody>\n",
       "</table>\n",
       "</div>"
      ],
      "text/plain": [
       "0             LAR\n",
       "count  431.000000\n",
       "mean     0.132191\n",
       "std      0.230897\n",
       "min      0.000000\n",
       "25%      0.026848\n",
       "50%      0.050883\n",
       "75%      0.122676\n",
       "max      1.000000"
      ]
     },
     "execution_count": 28,
     "metadata": {},
     "output_type": "execute_result"
    }
   ],
   "source": [
    "contain_logo.describe()"
   ]
  },
  {
   "cell_type": "code",
   "execution_count": 29,
   "metadata": {},
   "outputs": [],
   "source": [
    "# contain_logo.sample(5)"
   ]
  },
  {
   "cell_type": "code",
   "execution_count": 30,
   "metadata": {},
   "outputs": [
    {
     "data": {
      "text/plain": [
       "(63, 6)"
      ]
     },
     "execution_count": 30,
     "metadata": {},
     "output_type": "execute_result"
    }
   ],
   "source": [
    "contain_logo[contain_logo['LAR'] == 0 ].shape"
   ]
  },
  {
   "cell_type": "code",
   "execution_count": null,
   "metadata": {},
   "outputs": [],
   "source": [
    "contain_logo.to_csv('game_id_with_logo_positions_and_ratio.csv')"
   ]
  }
 ],
 "metadata": {
  "kernelspec": {
   "display_name": "Python 3.8.10 ('.venv': venv)",
   "language": "python",
   "name": "python3"
  },
  "language_info": {
   "codemirror_mode": {
    "name": "ipython",
    "version": 3
   },
   "file_extension": ".py",
   "mimetype": "text/x-python",
   "name": "python",
   "nbconvert_exporter": "python",
   "pygments_lexer": "ipython3",
   "version": "3.8.10"
  },
  "orig_nbformat": 4,
  "vscode": {
   "interpreter": {
    "hash": "dbf403a3c9e5b1045cd4c434062db8ff078a8da38114201bf3355baf5f5e4cb2"
   }
  }
 },
 "nbformat": 4,
 "nbformat_minor": 2
}
