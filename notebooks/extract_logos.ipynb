{
 "cells": [
  {
   "cell_type": "code",
   "execution_count": 1,
   "metadata": {},
   "outputs": [],
   "source": [
    "import pandas as pd\n",
    "from pytesseract import pytesseract\n",
    "import cv2\n",
    "import numpy as np\n",
    "from typing import List, Tuple\n",
    "import matplotlib.pyplot as plt\n",
    "from PIL import Image\n",
    "\n",
    "import os\n",
    "import sys\n",
    "import glob\n",
    "\n",
    "pytesseract.tesseract_cmd = r'/usr/bin/tesseract'\n",
    "\n",
    "import warnings\n",
    "warnings.simplefilter(\"ignore\")"
   ]
  },
  {
   "cell_type": "code",
   "execution_count": 2,
   "metadata": {},
   "outputs": [],
   "source": [
    "sys.path.append(\"../scripts\")\n",
    "from load_data import Loader\n",
    "\n",
    "loader = Loader()"
   ]
  },
  {
   "cell_type": "code",
   "execution_count": 3,
   "metadata": {},
   "outputs": [],
   "source": [
    "DIRECTORY_PATH = \"/home/amanuel_zewdu/creative_image_optimization/data/Challenge_Data/Assets/\"\n",
    "\n",
    "IMAGES_EXT = [\"JPG\",\"PNG\",\"GIF\",\"WEBP\",\"TIFF\",\"PSD\",\"RAW\",\"BMP\",\"HEIF\",\"INDD\",\"JPEG\"]\n",
    "\n",
    "VIDEO_EXT = [\"WEBM\",\"MPG\",\"MP2\",\"MPEG\",\"MPE\",\"MPV\",\"OGG\",\"MP4\",\"M4P\",\"M4V\",\"AVI\",\"WMV\",\"MOV\",\"QT\",\"FLV\",\"SWF\"]"
   ]
  },
  {
   "cell_type": "markdown",
   "metadata": {},
   "source": [
    "### methods"
   ]
  },
  {
   "cell_type": "code",
   "execution_count": 4,
   "metadata": {},
   "outputs": [],
   "source": [
    "def filter_list(all_values:list,key_word:str):\n",
    "    filtered_list = filter(lambda x: key_word in x.lower(), all_values)\n",
    "    return list(filtered_list)"
   ]
  },
  {
   "cell_type": "code",
   "execution_count": 5,
   "metadata": {},
   "outputs": [],
   "source": [
    "def get_files_name(directory:str, filter_extension:list=None)->list:\n",
    "    \n",
    "    # directory = f'/home/amanuel_zewdu/creative_image_optimization/data/Challenge_Data/Assets/{directory}/'\n",
    "    \n",
    "    files = []\n",
    "    for filename in os.listdir(directory):\n",
    "        f = os.path.join(directory, filename)\n",
    "        \n",
    "        # checking if it is a file\n",
    "        if filter_extension != None:\n",
    "            if os.path.isfile(f):\n",
    "                if filename.split('.')[-1].upper() in filter_extension:\n",
    "                    files.append(filename)\n",
    "        else:\n",
    "            if os.path.isfile(f):\n",
    "                files.append(filename)\n",
    "\n",
    "    return files"
   ]
  },
  {
   "cell_type": "code",
   "execution_count": 6,
   "metadata": {},
   "outputs": [],
   "source": [
    "def locate_image_on_image(locate_image: str, on_image: str, prefix: str = '', visualize: bool = False, color: Tuple[int, int, int] = (0, 0, 255)):\n",
    "    try:\n",
    "\n",
    "        image = cv2.imread(on_image)\n",
    "        gray = cv2.cvtColor(image, cv2.COLOR_RGB2GRAY)\n",
    "        shape = gray.shape\n",
    "\n",
    "        \n",
    "        template = cv2.imread(locate_image, 0)\n",
    "\n",
    "        result = cv2.matchTemplate(gray, template, cv2.TM_CCOEFF)\n",
    "        _, _, _, max_loc = cv2.minMaxLoc(result)\n",
    "\n",
    "        height, width = template.shape[:2]\n",
    "\n",
    "        top_left = max_loc\n",
    "        bottom_right = (top_left[0] + width, top_left[1] + height)\n",
    "\n",
    "        if visualize:\n",
    "            cv2.rectangle(image, top_left, bottom_right, color, 1)\n",
    "            plt.figure(figsize=(10, 10))\n",
    "            plt.axis('off')\n",
    "            image = cv2.cvtColor(image, cv2.COLOR_BGR2RGB)\n",
    "            plt.imshow(image)\n",
    "        \n",
    "        return (shape,top_left,bottom_right)\n",
    "            \n",
    "        \n",
    "        # return {f'{prefix}top_left_pos': top_left, f'{prefix}bottom_right_pos': bottom_right}\n",
    "\n",
    "    except cv2.error as err:\n",
    "        # print(err)\n",
    "        # top_left = (0,0)\n",
    "        # bottom_right = (0,0)\n",
    "        # shape = (0,0)\n",
    "\n",
    "        # return (shape,top_left,bottom_right)\n",
    "        raise Exception"
   ]
  },
  {
   "cell_type": "code",
   "execution_count": 7,
   "metadata": {},
   "outputs": [],
   "source": [
    "def find_logo_position(folder_id:str,candidate_logo:list,ntry=0):\n",
    "    \n",
    "    prospect_on_image_names = [\"preview\",\"endframe\",\"game\"]\n",
    "    max_try = len(prospect_on_image_names)\n",
    "\n",
    "    try:\n",
    "\n",
    "        img_path = glob.glob(f'{DIRECTORY_PATH}{folder_id}/*{prospect_on_image_names[ntry]}*.*')[0]\n",
    "        logo_img = f'{DIRECTORY_PATH}{folder_id}/{candidate_logo[0]}'\n",
    "\n",
    "        shape, top_left, bottom_right = locate_image_on_image(locate_image=logo_img, on_image=img_path)\n",
    "        return (shape, top_left, bottom_right)\n",
    "    \n",
    "    except Exception as e:\n",
    "        n = ntry + 1\n",
    "        if n < max_try:\n",
    "            return find_logo_position(folder_id,candidate_logo,n)\n",
    "        return ((0,0), (0,0), (0,0))\n"
   ]
  },
  {
   "cell_type": "code",
   "execution_count": 8,
   "metadata": {},
   "outputs": [],
   "source": [
    "def find_logo_area_ratio(shape:tuple,top_left:tuple,bottom_right:tuple):\n",
    "    try:\n",
    "        total_area = shape[0] * shape[1]\n",
    "        logo_area = (bottom_right[0]-top_left[0]) * (bottom_right[1]*top_left[1])\n",
    "        return logo_area/total_area\n",
    "    except:\n",
    "        return 0"
   ]
  },
  {
   "cell_type": "markdown",
   "metadata": {},
   "source": [
    "### identify assets with logo information"
   ]
  },
  {
   "cell_type": "code",
   "execution_count": 9,
   "metadata": {},
   "outputs": [],
   "source": [
    "bucket = \"s3://10ac-batch-6/data/w11/Challenge_Data.zip\"\n",
    "file_path = \"Challenge_Data/performance_data.csv\"\n",
    "\n",
    "df = loader.load_csv(bucket,file_path)"
   ]
  },
  {
   "cell_type": "code",
   "execution_count": 10,
   "metadata": {},
   "outputs": [],
   "source": [
    "logos = df.copy()\n",
    "logos.drop(columns=[\"preview_link\",\"ER\",\"CTR\"],inplace=True)"
   ]
  },
  {
   "cell_type": "code",
   "execution_count": 11,
   "metadata": {},
   "outputs": [],
   "source": [
    "logos[\"all_files\"] = df.game_id.apply(lambda x:get_files_name(f'/home/amanuel_zewdu/creative_image_optimization/data/Challenge_Data/Assets/{x}/'))"
   ]
  },
  {
   "cell_type": "code",
   "execution_count": 12,
   "metadata": {},
   "outputs": [
    {
     "data": {
      "text/html": [
       "<div>\n",
       "<style scoped>\n",
       "    .dataframe tbody tr th:only-of-type {\n",
       "        vertical-align: middle;\n",
       "    }\n",
       "\n",
       "    .dataframe tbody tr th {\n",
       "        vertical-align: top;\n",
       "    }\n",
       "\n",
       "    .dataframe thead th {\n",
       "        text-align: right;\n",
       "    }\n",
       "</style>\n",
       "<table border=\"1\" class=\"dataframe\">\n",
       "  <thead>\n",
       "    <tr style=\"text-align: right;\">\n",
       "      <th></th>\n",
       "      <th>game_id</th>\n",
       "      <th>all_files</th>\n",
       "    </tr>\n",
       "  </thead>\n",
       "  <tbody>\n",
       "    <tr>\n",
       "      <th>1</th>\n",
       "      <td>bfbf7a2b7ac635e67877b1ab87fd6629</td>\n",
       "      <td>[endtext.png, landing_2.jpg, video.mp4, end-ha...</td>\n",
       "    </tr>\n",
       "    <tr>\n",
       "      <th>2</th>\n",
       "      <td>945010afbf9a55bbdffcb0895f946155</td>\n",
       "      <td>[landing_2.jpg, video.mp4, end-mtlaurel.png, e...</td>\n",
       "    </tr>\n",
       "    <tr>\n",
       "      <th>3</th>\n",
       "      <td>e68e20f592457b875ce29757ab855dfe</td>\n",
       "      <td>[endtext.png, thumbnail.jpg, landing_2.jpg, en...</td>\n",
       "    </tr>\n",
       "    <tr>\n",
       "      <th>4</th>\n",
       "      <td>adunit-nestle-purina-friskies-mob</td>\n",
       "      <td>[logo.png, game_2.png, cta.png, engagement_ani...</td>\n",
       "    </tr>\n",
       "    <tr>\n",
       "      <th>5</th>\n",
       "      <td>adunit-lionsgate-uwomt-user-slider-sensory-vid...</td>\n",
       "      <td>[logo.png, cta.png, shade.png, engagement_anim...</td>\n",
       "    </tr>\n",
       "  </tbody>\n",
       "</table>\n",
       "</div>"
      ],
      "text/plain": [
       "0                                            game_id  \\\n",
       "1                   bfbf7a2b7ac635e67877b1ab87fd6629   \n",
       "2                   945010afbf9a55bbdffcb0895f946155   \n",
       "3                   e68e20f592457b875ce29757ab855dfe   \n",
       "4                  adunit-nestle-purina-friskies-mob   \n",
       "5  adunit-lionsgate-uwomt-user-slider-sensory-vid...   \n",
       "\n",
       "0                                          all_files  \n",
       "1  [endtext.png, landing_2.jpg, video.mp4, end-ha...  \n",
       "2  [landing_2.jpg, video.mp4, end-mtlaurel.png, e...  \n",
       "3  [endtext.png, thumbnail.jpg, landing_2.jpg, en...  \n",
       "4  [logo.png, game_2.png, cta.png, engagement_ani...  \n",
       "5  [logo.png, cta.png, shade.png, engagement_anim...  "
      ]
     },
     "execution_count": 12,
     "metadata": {},
     "output_type": "execute_result"
    }
   ],
   "source": [
    "logos.head()"
   ]
  },
  {
   "cell_type": "code",
   "execution_count": 13,
   "metadata": {},
   "outputs": [],
   "source": [
    "logos['concat'] = logos.all_files.apply(lambda x: \" \".join(x))"
   ]
  },
  {
   "cell_type": "code",
   "execution_count": 14,
   "metadata": {},
   "outputs": [
    {
     "data": {
      "text/plain": [
       "False    474\n",
       "True     431\n",
       "Name: concat, dtype: int64"
      ]
     },
     "execution_count": 14,
     "metadata": {},
     "output_type": "execute_result"
    }
   ],
   "source": [
    "logos.concat.str.lower().str.contains(\"logo\").value_counts()"
   ]
  },
  {
   "cell_type": "markdown",
   "metadata": {},
   "source": [
    "only 431 creative assets directory contains information about logo"
   ]
  },
  {
   "cell_type": "code",
   "execution_count": 15,
   "metadata": {},
   "outputs": [],
   "source": [
    "contain_logo = logos[logos.concat.str.lower().str.contains(\"logo\")]"
   ]
  },
  {
   "cell_type": "code",
   "execution_count": 16,
   "metadata": {},
   "outputs": [
    {
     "data": {
      "text/html": [
       "<div>\n",
       "<style scoped>\n",
       "    .dataframe tbody tr th:only-of-type {\n",
       "        vertical-align: middle;\n",
       "    }\n",
       "\n",
       "    .dataframe tbody tr th {\n",
       "        vertical-align: top;\n",
       "    }\n",
       "\n",
       "    .dataframe thead th {\n",
       "        text-align: right;\n",
       "    }\n",
       "</style>\n",
       "<table border=\"1\" class=\"dataframe\">\n",
       "  <thead>\n",
       "    <tr style=\"text-align: right;\">\n",
       "      <th></th>\n",
       "      <th>game_id</th>\n",
       "      <th>all_files</th>\n",
       "      <th>concat</th>\n",
       "    </tr>\n",
       "  </thead>\n",
       "  <tbody>\n",
       "    <tr>\n",
       "      <th>446</th>\n",
       "      <td>adunit-heineken-celebrations2-za-mob</td>\n",
       "      <td>[star.png, bottle2.png, game_text_2.png, logo....</td>\n",
       "      <td>star.png bottle2.png game_text_2.png logo.png ...</td>\n",
       "    </tr>\n",
       "    <tr>\n",
       "      <th>56</th>\n",
       "      <td>73adaebd0fbf7778d06d9d711ba5c152</td>\n",
       "      <td>[logo.png, video.mp4, f1-top-banner.png, f2-ct...</td>\n",
       "      <td>logo.png video.mp4 f1-top-banner.png f2-cta.jp...</td>\n",
       "    </tr>\n",
       "    <tr>\n",
       "      <th>252</th>\n",
       "      <td>23fb8e9094b55306b08f7157c4b5ec43</td>\n",
       "      <td>[logo.png, video.mp4, engagement_animation.png...</td>\n",
       "      <td>logo.png video.mp4 engagement_animation.png mp...</td>\n",
       "    </tr>\n",
       "    <tr>\n",
       "      <th>17</th>\n",
       "      <td>79c36d2adb94900291f5ddf1f6580c43</td>\n",
       "      <td>[f4-copy-2.png, logo.png, f4-cta.png, video.mp...</td>\n",
       "      <td>f4-copy-2.png logo.png f4-cta.png video.mp4 f4...</td>\n",
       "    </tr>\n",
       "    <tr>\n",
       "      <th>862</th>\n",
       "      <td>b12b03c2dec5e71fe630d3b06062982a</td>\n",
       "      <td>[logo.png, f3-bg.jpg, cta.png, f3-logo.png, _p...</td>\n",
       "      <td>logo.png f3-bg.jpg cta.png f3-logo.png _previe...</td>\n",
       "    </tr>\n",
       "  </tbody>\n",
       "</table>\n",
       "</div>"
      ],
      "text/plain": [
       "0                                 game_id  \\\n",
       "446  adunit-heineken-celebrations2-za-mob   \n",
       "56       73adaebd0fbf7778d06d9d711ba5c152   \n",
       "252      23fb8e9094b55306b08f7157c4b5ec43   \n",
       "17       79c36d2adb94900291f5ddf1f6580c43   \n",
       "862      b12b03c2dec5e71fe630d3b06062982a   \n",
       "\n",
       "0                                            all_files  \\\n",
       "446  [star.png, bottle2.png, game_text_2.png, logo....   \n",
       "56   [logo.png, video.mp4, f1-top-banner.png, f2-ct...   \n",
       "252  [logo.png, video.mp4, engagement_animation.png...   \n",
       "17   [f4-copy-2.png, logo.png, f4-cta.png, video.mp...   \n",
       "862  [logo.png, f3-bg.jpg, cta.png, f3-logo.png, _p...   \n",
       "\n",
       "0                                               concat  \n",
       "446  star.png bottle2.png game_text_2.png logo.png ...  \n",
       "56   logo.png video.mp4 f1-top-banner.png f2-cta.jp...  \n",
       "252  logo.png video.mp4 engagement_animation.png mp...  \n",
       "17   f4-copy-2.png logo.png f4-cta.png video.mp4 f4...  \n",
       "862  logo.png f3-bg.jpg cta.png f3-logo.png _previe...  "
      ]
     },
     "execution_count": 16,
     "metadata": {},
     "output_type": "execute_result"
    }
   ],
   "source": [
    "contain_logo.sample(5)"
   ]
  },
  {
   "cell_type": "code",
   "execution_count": 17,
   "metadata": {},
   "outputs": [
    {
     "data": {
      "text/html": [
       "<div>\n",
       "<style scoped>\n",
       "    .dataframe tbody tr th:only-of-type {\n",
       "        vertical-align: middle;\n",
       "    }\n",
       "\n",
       "    .dataframe tbody tr th {\n",
       "        vertical-align: top;\n",
       "    }\n",
       "\n",
       "    .dataframe thead th {\n",
       "        text-align: right;\n",
       "    }\n",
       "</style>\n",
       "<table border=\"1\" class=\"dataframe\">\n",
       "  <thead>\n",
       "    <tr style=\"text-align: right;\">\n",
       "      <th></th>\n",
       "      <th>game_id</th>\n",
       "      <th>all_files</th>\n",
       "      <th>concat</th>\n",
       "    </tr>\n",
       "  </thead>\n",
       "  <tbody>\n",
       "    <tr>\n",
       "      <th>378</th>\n",
       "      <td>0a18978cdc8b64f900b0db6a297eb99d</td>\n",
       "      <td>[engagement_instruction_2.png, engagement_inst...</td>\n",
       "      <td>engagement_instruction_2.png engagement_instru...</td>\n",
       "    </tr>\n",
       "    <tr>\n",
       "      <th>464</th>\n",
       "      <td>adunit-chanel-j12-singapore-exxon-mob</td>\n",
       "      <td>[white-rect.png, landing_2.jpg, end_text_1.png...</td>\n",
       "      <td>white-rect.png landing_2.jpg end_text_1.png ct...</td>\n",
       "    </tr>\n",
       "    <tr>\n",
       "      <th>662</th>\n",
       "      <td>cc6c33bd4409ded3155793811af5c72b</td>\n",
       "      <td>[thumbnail.jpg, video.mp4, MPU-click-area.png,...</td>\n",
       "      <td>thumbnail.jpg video.mp4 MPU-click-area.png hea...</td>\n",
       "    </tr>\n",
       "    <tr>\n",
       "      <th>176</th>\n",
       "      <td>adunit-lionsgate-uwomt-sensory-plus-tune-3-mob</td>\n",
       "      <td>[video.mp4, fr-1-bg.jpg, end-cta.png, end-bg.jpg]</td>\n",
       "      <td>video.mp4 fr-1-bg.jpg end-cta.png end-bg.jpg</td>\n",
       "    </tr>\n",
       "    <tr>\n",
       "      <th>495</th>\n",
       "      <td>adunit-yamaha-wolverine-user-choice-av-reuse-mpu</td>\n",
       "      <td>[2-highlight.png, engagement_instruction.png, ...</td>\n",
       "      <td>2-highlight.png engagement_instruction.png end...</td>\n",
       "    </tr>\n",
       "  </tbody>\n",
       "</table>\n",
       "</div>"
      ],
      "text/plain": [
       "0                                             game_id  \\\n",
       "378                  0a18978cdc8b64f900b0db6a297eb99d   \n",
       "464             adunit-chanel-j12-singapore-exxon-mob   \n",
       "662                  cc6c33bd4409ded3155793811af5c72b   \n",
       "176    adunit-lionsgate-uwomt-sensory-plus-tune-3-mob   \n",
       "495  adunit-yamaha-wolverine-user-choice-av-reuse-mpu   \n",
       "\n",
       "0                                            all_files  \\\n",
       "378  [engagement_instruction_2.png, engagement_inst...   \n",
       "464  [white-rect.png, landing_2.jpg, end_text_1.png...   \n",
       "662  [thumbnail.jpg, video.mp4, MPU-click-area.png,...   \n",
       "176  [video.mp4, fr-1-bg.jpg, end-cta.png, end-bg.jpg]   \n",
       "495  [2-highlight.png, engagement_instruction.png, ...   \n",
       "\n",
       "0                                               concat  \n",
       "378  engagement_instruction_2.png engagement_instru...  \n",
       "464  white-rect.png landing_2.jpg end_text_1.png ct...  \n",
       "662  thumbnail.jpg video.mp4 MPU-click-area.png hea...  \n",
       "176       video.mp4 fr-1-bg.jpg end-cta.png end-bg.jpg  \n",
       "495  2-highlight.png engagement_instruction.png end...  "
      ]
     },
     "execution_count": 17,
     "metadata": {},
     "output_type": "execute_result"
    }
   ],
   "source": [
    "not_contain_logo = logos[~logos.concat.str.lower().str.contains(\"logo\")]\n",
    "not_contain_logo.sample(5)"
   ]
  },
  {
   "cell_type": "markdown",
   "metadata": {},
   "source": [
    "### work with the first asset group"
   ]
  },
  {
   "cell_type": "code",
   "execution_count": 18,
   "metadata": {},
   "outputs": [],
   "source": [
    "# img_path = \"/home/amanuel_zewdu/creative_image_optimization/data/Challenge_Data/Assets/2524439faeafa1c2ca1a27cac00a97b1/_preview.png\"\n",
    "# logo_path = \"/home/amanuel_zewdu/creative_image_optimization/data/Challenge_Data/Assets/2524439faeafa1c2ca1a27cac00a97b1/logo.png\"\n",
    "\n",
    "img_path = \"/home/amanuel_zewdu/creative_image_optimization/data/Challenge_Data/Assets/79c36d2adb94900291f5ddf1f6580c43/endframe_2.png\"\n",
    "logo_path = \"/home/amanuel_zewdu/creative_image_optimization/data/Challenge_Data/Assets/79c36d2adb94900291f5ddf1f6580c43/logo.png\""
   ]
  },
  {
   "cell_type": "code",
   "execution_count": 18,
   "metadata": {},
   "outputs": [],
   "source": [
    "contain_logo['file_name'] = contain_logo.all_files.apply(lambda x: filter_list(x,\"logo\"))"
   ]
  },
  {
   "cell_type": "code",
   "execution_count": 19,
   "metadata": {},
   "outputs": [],
   "source": [
    "contain_logo.drop(columns=[\"all_files\",\"concat\"],inplace=True)"
   ]
  },
  {
   "cell_type": "code",
   "execution_count": 20,
   "metadata": {},
   "outputs": [
    {
     "data": {
      "text/html": [
       "<div>\n",
       "<style scoped>\n",
       "    .dataframe tbody tr th:only-of-type {\n",
       "        vertical-align: middle;\n",
       "    }\n",
       "\n",
       "    .dataframe tbody tr th {\n",
       "        vertical-align: top;\n",
       "    }\n",
       "\n",
       "    .dataframe thead th {\n",
       "        text-align: right;\n",
       "    }\n",
       "</style>\n",
       "<table border=\"1\" class=\"dataframe\">\n",
       "  <thead>\n",
       "    <tr style=\"text-align: right;\">\n",
       "      <th></th>\n",
       "      <th>game_id</th>\n",
       "      <th>file_name</th>\n",
       "    </tr>\n",
       "  </thead>\n",
       "  <tbody>\n",
       "    <tr>\n",
       "      <th>781</th>\n",
       "      <td>adunit-nestle-maggi-varieties-bouillon-ar-ksa-...</td>\n",
       "      <td>[logo.png]</td>\n",
       "    </tr>\n",
       "    <tr>\n",
       "      <th>75</th>\n",
       "      <td>adunit-mouser-user-choice-v2-cpe-av-canada-mpu</td>\n",
       "      <td>[logo.png]</td>\n",
       "    </tr>\n",
       "    <tr>\n",
       "      <th>189</th>\n",
       "      <td>adunit-mouser-user-choice-v2-cpe-aus-nz-mpu</td>\n",
       "      <td>[logo.png]</td>\n",
       "    </tr>\n",
       "    <tr>\n",
       "      <th>175</th>\n",
       "      <td>adunit-ihop-window4-scary-face-mob</td>\n",
       "      <td>[logo.png, f2-ihop-logo.png]</td>\n",
       "    </tr>\n",
       "    <tr>\n",
       "      <th>316</th>\n",
       "      <td>3a6d279abd87aadd09f950bcb123e358</td>\n",
       "      <td>[f1-logo.png, f4-logo-rev.png, f3-logo.png, f2...</td>\n",
       "    </tr>\n",
       "  </tbody>\n",
       "</table>\n",
       "</div>"
      ],
      "text/plain": [
       "0                                              game_id  \\\n",
       "781  adunit-nestle-maggi-varieties-bouillon-ar-ksa-...   \n",
       "75      adunit-mouser-user-choice-v2-cpe-av-canada-mpu   \n",
       "189        adunit-mouser-user-choice-v2-cpe-aus-nz-mpu   \n",
       "175                 adunit-ihop-window4-scary-face-mob   \n",
       "316                   3a6d279abd87aadd09f950bcb123e358   \n",
       "\n",
       "0                                            file_name  \n",
       "781                                         [logo.png]  \n",
       "75                                          [logo.png]  \n",
       "189                                         [logo.png]  \n",
       "175                       [logo.png, f2-ihop-logo.png]  \n",
       "316  [f1-logo.png, f4-logo-rev.png, f3-logo.png, f2...  "
      ]
     },
     "execution_count": 20,
     "metadata": {},
     "output_type": "execute_result"
    }
   ],
   "source": [
    "contain_logo.sample(5)"
   ]
  },
  {
   "cell_type": "code",
   "execution_count": 21,
   "metadata": {},
   "outputs": [],
   "source": [
    "back_up_logo_list = contain_logo.copy()"
   ]
  },
  {
   "cell_type": "code",
   "execution_count": 108,
   "metadata": {},
   "outputs": [],
   "source": [
    "contain_logo = back_up_logo_list.copy()"
   ]
  },
  {
   "cell_type": "code",
   "execution_count": 22,
   "metadata": {},
   "outputs": [],
   "source": [
    "\n",
    "contain_logo[[\"shape\",\"top_left\",\"bottom_right\"]] =  contain_logo.apply(lambda x: pd.Series(find_logo_position(x.game_id,x.file_name)) ,axis = 1)"
   ]
  },
  {
   "cell_type": "code",
   "execution_count": 112,
   "metadata": {},
   "outputs": [
    {
     "data": {
      "text/html": [
       "<div>\n",
       "<style scoped>\n",
       "    .dataframe tbody tr th:only-of-type {\n",
       "        vertical-align: middle;\n",
       "    }\n",
       "\n",
       "    .dataframe tbody tr th {\n",
       "        vertical-align: top;\n",
       "    }\n",
       "\n",
       "    .dataframe thead th {\n",
       "        text-align: right;\n",
       "    }\n",
       "</style>\n",
       "<table border=\"1\" class=\"dataframe\">\n",
       "  <thead>\n",
       "    <tr style=\"text-align: right;\">\n",
       "      <th></th>\n",
       "      <th>game_id</th>\n",
       "      <th>file_name</th>\n",
       "      <th>shape</th>\n",
       "      <th>top_left</th>\n",
       "      <th>bottom_right</th>\n",
       "    </tr>\n",
       "  </thead>\n",
       "  <tbody>\n",
       "    <tr>\n",
       "      <th>454</th>\n",
       "      <td>265680a6c85f2381bb49965579b0fd89</td>\n",
       "      <td>[logo.png]</td>\n",
       "      <td>(900, 600)</td>\n",
       "      <td>(266, 40)</td>\n",
       "      <td>(335, 126)</td>\n",
       "    </tr>\n",
       "    <tr>\n",
       "      <th>85</th>\n",
       "      <td>adunit-nutrella-barrilito-mpu</td>\n",
       "      <td>[nutrella-logo.png, logo-end.png]</td>\n",
       "      <td>(0, 0)</td>\n",
       "      <td>(0, 0)</td>\n",
       "      <td>(0, 0)</td>\n",
       "    </tr>\n",
       "    <tr>\n",
       "      <th>705</th>\n",
       "      <td>eb31bf1739ffa01b1d458fe2c610230a</td>\n",
       "      <td>[logo.png, f5-logo.png, video-logo.png]</td>\n",
       "      <td>(900, 600)</td>\n",
       "      <td>(135, 21)</td>\n",
       "      <td>(466, 85)</td>\n",
       "    </tr>\n",
       "    <tr>\n",
       "      <th>727</th>\n",
       "      <td>adunit-mouser-user-choice-v3-cpe-av-us-mpu</td>\n",
       "      <td>[logo.png]</td>\n",
       "      <td>(500, 600)</td>\n",
       "      <td>(151, 327)</td>\n",
       "      <td>(366, 398)</td>\n",
       "    </tr>\n",
       "    <tr>\n",
       "      <th>469</th>\n",
       "      <td>adunit-christian-dior-popup-store-mob</td>\n",
       "      <td>[logo.jpg]</td>\n",
       "      <td>(57, 57)</td>\n",
       "      <td>(195, 7)</td>\n",
       "      <td>(795, 97)</td>\n",
       "    </tr>\n",
       "  </tbody>\n",
       "</table>\n",
       "</div>"
      ],
      "text/plain": [
       "0                                       game_id  \\\n",
       "454            265680a6c85f2381bb49965579b0fd89   \n",
       "85                adunit-nutrella-barrilito-mpu   \n",
       "705            eb31bf1739ffa01b1d458fe2c610230a   \n",
       "727  adunit-mouser-user-choice-v3-cpe-av-us-mpu   \n",
       "469       adunit-christian-dior-popup-store-mob   \n",
       "\n",
       "0                                  file_name       shape    top_left  \\\n",
       "454                               [logo.png]  (900, 600)   (266, 40)   \n",
       "85         [nutrella-logo.png, logo-end.png]      (0, 0)      (0, 0)   \n",
       "705  [logo.png, f5-logo.png, video-logo.png]  (900, 600)   (135, 21)   \n",
       "727                               [logo.png]  (500, 600)  (151, 327)   \n",
       "469                               [logo.jpg]    (57, 57)    (195, 7)   \n",
       "\n",
       "0   bottom_right  \n",
       "454   (335, 126)  \n",
       "85        (0, 0)  \n",
       "705    (466, 85)  \n",
       "727   (366, 398)  \n",
       "469    (795, 97)  "
      ]
     },
     "execution_count": 112,
     "metadata": {},
     "output_type": "execute_result"
    }
   ],
   "source": [
    "contain_logo.sample(5)"
   ]
  },
  {
   "cell_type": "code",
   "execution_count": 121,
   "metadata": {},
   "outputs": [],
   "source": [
    "# Logo Area Ratio\n",
    "contain_logo[[\"LAR\"]] =  contain_logo.apply(lambda x: pd.Series(find_logo_area_ratio(x[\"shape\"],x[\"top_left\"],x[\"bottom_right\"])) ,axis = 1)\n"
   ]
  },
  {
   "cell_type": "code",
   "execution_count": 125,
   "metadata": {},
   "outputs": [
    {
     "data": {
      "text/html": [
       "<div>\n",
       "<style scoped>\n",
       "    .dataframe tbody tr th:only-of-type {\n",
       "        vertical-align: middle;\n",
       "    }\n",
       "\n",
       "    .dataframe tbody tr th {\n",
       "        vertical-align: top;\n",
       "    }\n",
       "\n",
       "    .dataframe thead th {\n",
       "        text-align: right;\n",
       "    }\n",
       "</style>\n",
       "<table border=\"1\" class=\"dataframe\">\n",
       "  <thead>\n",
       "    <tr style=\"text-align: right;\">\n",
       "      <th></th>\n",
       "      <th>game_id</th>\n",
       "      <th>file_name</th>\n",
       "      <th>shape</th>\n",
       "      <th>top_left</th>\n",
       "      <th>bottom_right</th>\n",
       "      <th>LAR</th>\n",
       "    </tr>\n",
       "  </thead>\n",
       "  <tbody>\n",
       "    <tr>\n",
       "      <th>268</th>\n",
       "      <td>5a051f7c0a58d5301f9953827218bc55</td>\n",
       "      <td>[logo.png, f2-logo.png]</td>\n",
       "      <td>(900, 600)</td>\n",
       "      <td>(89, 6)</td>\n",
       "      <td>(511, 202)</td>\n",
       "      <td>0.947156</td>\n",
       "    </tr>\n",
       "    <tr>\n",
       "      <th>749</th>\n",
       "      <td>e17b6db0e4fb777ab569ef0a81b5000e</td>\n",
       "      <td>[logo.png]</td>\n",
       "      <td>(900, 600)</td>\n",
       "      <td>(0, 0)</td>\n",
       "      <td>(600, 900)</td>\n",
       "      <td>0.000000</td>\n",
       "    </tr>\n",
       "    <tr>\n",
       "      <th>580</th>\n",
       "      <td>d7c5bf54f39eb745b553d06813cffb23</td>\n",
       "      <td>[logo.png]</td>\n",
       "      <td>(900, 600)</td>\n",
       "      <td>(162, 39)</td>\n",
       "      <td>(438, 86)</td>\n",
       "      <td>1.714267</td>\n",
       "    </tr>\n",
       "    <tr>\n",
       "      <th>648</th>\n",
       "      <td>adunit-lionsgate-uwomt-user-slider-sensory-vid...</td>\n",
       "      <td>[logo.png, logo-old.png]</td>\n",
       "      <td>(900, 600)</td>\n",
       "      <td>(217, 346)</td>\n",
       "      <td>(540, 461)</td>\n",
       "      <td>95.408219</td>\n",
       "    </tr>\n",
       "    <tr>\n",
       "      <th>686</th>\n",
       "      <td>5b4d2cc82bf11b1fa80b366fdd7a5867</td>\n",
       "      <td>[logo.png, f3-logo.png]</td>\n",
       "      <td>(900, 600)</td>\n",
       "      <td>(173, 39)</td>\n",
       "      <td>(427, 125)</td>\n",
       "      <td>2.293056</td>\n",
       "    </tr>\n",
       "  </tbody>\n",
       "</table>\n",
       "</div>"
      ],
      "text/plain": [
       "0                                              game_id  \\\n",
       "268                   5a051f7c0a58d5301f9953827218bc55   \n",
       "749                   e17b6db0e4fb777ab569ef0a81b5000e   \n",
       "580                   d7c5bf54f39eb745b553d06813cffb23   \n",
       "648  adunit-lionsgate-uwomt-user-slider-sensory-vid...   \n",
       "686                   5b4d2cc82bf11b1fa80b366fdd7a5867   \n",
       "\n",
       "0                   file_name       shape    top_left bottom_right        LAR  \n",
       "268   [logo.png, f2-logo.png]  (900, 600)     (89, 6)   (511, 202)   0.947156  \n",
       "749                [logo.png]  (900, 600)      (0, 0)   (600, 900)   0.000000  \n",
       "580                [logo.png]  (900, 600)   (162, 39)    (438, 86)   1.714267  \n",
       "648  [logo.png, logo-old.png]  (900, 600)  (217, 346)   (540, 461)  95.408219  \n",
       "686   [logo.png, f3-logo.png]  (900, 600)   (173, 39)   (427, 125)   2.293056  "
      ]
     },
     "execution_count": 125,
     "metadata": {},
     "output_type": "execute_result"
    }
   ],
   "source": [
    "contain_logo.sample(5)"
   ]
  },
  {
   "cell_type": "code",
   "execution_count": 25,
   "metadata": {},
   "outputs": [],
   "source": [
    "# contain_logo.drop(columns=['shape','top_left','bottom_right'],inplace=True)"
   ]
  },
  {
   "cell_type": "code",
   "execution_count": 111,
   "metadata": {},
   "outputs": [],
   "source": [
    "# contain_logo[contain_logo['shape'] == (0,0)]"
   ]
  }
 ],
 "metadata": {
  "kernelspec": {
   "display_name": "Python 3.8.10 ('.venv': venv)",
   "language": "python",
   "name": "python3"
  },
  "language_info": {
   "codemirror_mode": {
    "name": "ipython",
    "version": 3
   },
   "file_extension": ".py",
   "mimetype": "text/x-python",
   "name": "python",
   "nbconvert_exporter": "python",
   "pygments_lexer": "ipython3",
   "version": "3.8.10"
  },
  "orig_nbformat": 4,
  "vscode": {
   "interpreter": {
    "hash": "dbf403a3c9e5b1045cd4c434062db8ff078a8da38114201bf3355baf5f5e4cb2"
   }
  }
 },
 "nbformat": 4,
 "nbformat_minor": 2
}
