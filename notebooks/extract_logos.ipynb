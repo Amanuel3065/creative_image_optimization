{
 "cells": [
  {
   "cell_type": "code",
   "execution_count": 126,
   "metadata": {},
   "outputs": [],
   "source": [
    "import pandas as pd\n",
    "from pytesseract import pytesseract\n",
    "import cv2\n",
    "import numpy as np\n",
    "from typing import List, Tuple\n",
    "import matplotlib.pyplot as plt\n",
    "from PIL import Image\n",
    "\n",
    "import os\n",
    "import sys\n",
    "\n",
    "pytesseract.tesseract_cmd = r'/usr/bin/tesseract'\n",
    "\n",
    "import warnings\n",
    "warnings.simplefilter(\"ignore\")"
   ]
  },
  {
   "cell_type": "code",
   "execution_count": 2,
   "metadata": {},
   "outputs": [],
   "source": [
    "sys.path.append(\"../scripts\")\n",
    "from load_data import Loader\n",
    "\n",
    "loader = Loader()"
   ]
  },
  {
   "cell_type": "code",
   "execution_count": 66,
   "metadata": {},
   "outputs": [],
   "source": [
    "DIRECTORY_PATH = \"/home/amanuel_zewdu/creative_image_optimization/data/Challenge_Data/Assets/\"\n",
    "\n",
    "IMAGES_EXT = [\"JPG\",\"PNG\",\"GIF\",\"WEBP\",\"TIFF\",\"PSD\",\"RAW\",\"BMP\",\"HEIF\",\"INDD\",\"JPEG\"]\n",
    "\n",
    "VIDEO_EXT = [\"WEBM\",\"MPG\",\"MP2\",\"MPEG\",\"MPE\",\"MPV\",\"OGG\",\"MP4\",\"M4P\",\"M4V\",\"AVI\",\"WMV\",\"MOV\",\"QT\",\"FLV\",\"SWF\"]"
   ]
  },
  {
   "cell_type": "markdown",
   "metadata": {},
   "source": [
    "### methods"
   ]
  },
  {
   "cell_type": "code",
   "execution_count": 85,
   "metadata": {},
   "outputs": [],
   "source": [
    "def filter_list(all_values:list,key_word:str):\n",
    "    filtered_list = filter(lambda x: key_word in x.lower(), all_values)\n",
    "    return list(filtered_list)"
   ]
  },
  {
   "cell_type": "code",
   "execution_count": 3,
   "metadata": {},
   "outputs": [],
   "source": [
    "def get_files_name(directory:str, filter_extension:list=None)->list:\n",
    "    \n",
    "    # directory = f'/home/amanuel_zewdu/creative_image_optimization/data/Challenge_Data/Assets/{directory}/'\n",
    "    \n",
    "    files = []\n",
    "    for filename in os.listdir(directory):\n",
    "        f = os.path.join(directory, filename)\n",
    "        \n",
    "        # checking if it is a file\n",
    "        if filter_extension != None:\n",
    "            if os.path.isfile(f):\n",
    "                if filename.split('.')[-1].upper() in filter_extension:\n",
    "                    files.append(filename)\n",
    "        else:\n",
    "            if os.path.isfile(f):\n",
    "                files.append(filename)\n",
    "\n",
    "    return files"
   ]
  },
  {
   "cell_type": "code",
   "execution_count": 149,
   "metadata": {},
   "outputs": [],
   "source": [
    "def locate_image_on_image(locate_image: str, on_image: str, prefix: str = '', visualize: bool = False, color: Tuple[int, int, int] = (0, 0, 255)):\n",
    "    try:\n",
    "\n",
    "        image = cv2.imread(on_image)\n",
    "        gray = cv2.cvtColor(image, cv2.COLOR_RGB2GRAY)\n",
    "        shape = gray.shape\n",
    "\n",
    "        \n",
    "        template = cv2.imread(locate_image, 0)\n",
    "\n",
    "        result = cv2.matchTemplate(gray, template, cv2.TM_CCOEFF)\n",
    "        _, _, _, max_loc = cv2.minMaxLoc(result)\n",
    "\n",
    "        height, width = template.shape[:2]\n",
    "\n",
    "        top_left = max_loc\n",
    "        bottom_right = (top_left[0] + width, top_left[1] + height)\n",
    "\n",
    "        if visualize:\n",
    "            cv2.rectangle(image, top_left, bottom_right, color, 1)\n",
    "            plt.figure(figsize=(10, 10))\n",
    "            plt.axis('off')\n",
    "            image = cv2.cvtColor(image, cv2.COLOR_BGR2RGB)\n",
    "            plt.imshow(image)\n",
    "        \n",
    "        return (shape,top_left,bottom_right)\n",
    "            \n",
    "        \n",
    "        # return {f'{prefix}top_left_pos': top_left, f'{prefix}bottom_right_pos': bottom_right}\n",
    "\n",
    "    except cv2.error as err:\n",
    "        # print(err)\n",
    "        top_left = (0,0)\n",
    "        bottom_right = (0,0)\n",
    "        shape = (0,0)\n",
    "\n",
    "        return (shape,top_left,bottom_right)"
   ]
  },
  {
   "cell_type": "markdown",
   "metadata": {},
   "source": [
    "### identify assets with logo information"
   ]
  },
  {
   "cell_type": "code",
   "execution_count": 71,
   "metadata": {},
   "outputs": [],
   "source": [
    "bucket = \"s3://10ac-batch-6/data/w11/Challenge_Data.zip\"\n",
    "file_path = \"Challenge_Data/performance_data.csv\"\n",
    "\n",
    "df = loader.load_csv(bucket,file_path)"
   ]
  },
  {
   "cell_type": "code",
   "execution_count": 72,
   "metadata": {},
   "outputs": [],
   "source": [
    "logos = df.copy()\n",
    "logos.drop(columns=[\"preview_link\",\"ER\",\"CTR\"],inplace=True)"
   ]
  },
  {
   "cell_type": "code",
   "execution_count": 73,
   "metadata": {},
   "outputs": [],
   "source": [
    "logos[\"all_files\"] = df.game_id.apply(lambda x:get_files_name(f'/home/amanuel_zewdu/creative_image_optimization/data/Challenge_Data/Assets/{x}/'))"
   ]
  },
  {
   "cell_type": "code",
   "execution_count": 74,
   "metadata": {},
   "outputs": [
    {
     "data": {
      "text/html": [
       "<div>\n",
       "<style scoped>\n",
       "    .dataframe tbody tr th:only-of-type {\n",
       "        vertical-align: middle;\n",
       "    }\n",
       "\n",
       "    .dataframe tbody tr th {\n",
       "        vertical-align: top;\n",
       "    }\n",
       "\n",
       "    .dataframe thead th {\n",
       "        text-align: right;\n",
       "    }\n",
       "</style>\n",
       "<table border=\"1\" class=\"dataframe\">\n",
       "  <thead>\n",
       "    <tr style=\"text-align: right;\">\n",
       "      <th></th>\n",
       "      <th>game_id</th>\n",
       "      <th>all_files</th>\n",
       "    </tr>\n",
       "  </thead>\n",
       "  <tbody>\n",
       "    <tr>\n",
       "      <th>1</th>\n",
       "      <td>bfbf7a2b7ac635e67877b1ab87fd6629</td>\n",
       "      <td>[endtext.png, landing_2.jpg, video.mp4, end-ha...</td>\n",
       "    </tr>\n",
       "    <tr>\n",
       "      <th>2</th>\n",
       "      <td>945010afbf9a55bbdffcb0895f946155</td>\n",
       "      <td>[landing_2.jpg, video.mp4, end-mtlaurel.png, e...</td>\n",
       "    </tr>\n",
       "    <tr>\n",
       "      <th>3</th>\n",
       "      <td>e68e20f592457b875ce29757ab855dfe</td>\n",
       "      <td>[endtext.png, thumbnail.jpg, landing_2.jpg, en...</td>\n",
       "    </tr>\n",
       "    <tr>\n",
       "      <th>4</th>\n",
       "      <td>adunit-nestle-purina-friskies-mob</td>\n",
       "      <td>[logo.png, game_2.png, cta.png, engagement_ani...</td>\n",
       "    </tr>\n",
       "    <tr>\n",
       "      <th>5</th>\n",
       "      <td>adunit-lionsgate-uwomt-user-slider-sensory-vid...</td>\n",
       "      <td>[logo.png, cta.png, shade.png, engagement_anim...</td>\n",
       "    </tr>\n",
       "  </tbody>\n",
       "</table>\n",
       "</div>"
      ],
      "text/plain": [
       "0                                            game_id  \\\n",
       "1                   bfbf7a2b7ac635e67877b1ab87fd6629   \n",
       "2                   945010afbf9a55bbdffcb0895f946155   \n",
       "3                   e68e20f592457b875ce29757ab855dfe   \n",
       "4                  adunit-nestle-purina-friskies-mob   \n",
       "5  adunit-lionsgate-uwomt-user-slider-sensory-vid...   \n",
       "\n",
       "0                                          all_files  \n",
       "1  [endtext.png, landing_2.jpg, video.mp4, end-ha...  \n",
       "2  [landing_2.jpg, video.mp4, end-mtlaurel.png, e...  \n",
       "3  [endtext.png, thumbnail.jpg, landing_2.jpg, en...  \n",
       "4  [logo.png, game_2.png, cta.png, engagement_ani...  \n",
       "5  [logo.png, cta.png, shade.png, engagement_anim...  "
      ]
     },
     "execution_count": 74,
     "metadata": {},
     "output_type": "execute_result"
    }
   ],
   "source": [
    "logos.head()"
   ]
  },
  {
   "cell_type": "code",
   "execution_count": 75,
   "metadata": {},
   "outputs": [],
   "source": [
    "logos['concat'] = logos.all_files.apply(lambda x: \" \".join(x))"
   ]
  },
  {
   "cell_type": "code",
   "execution_count": 80,
   "metadata": {},
   "outputs": [
    {
     "data": {
      "text/plain": [
       "False    474\n",
       "True     431\n",
       "Name: concat, dtype: int64"
      ]
     },
     "execution_count": 80,
     "metadata": {},
     "output_type": "execute_result"
    }
   ],
   "source": [
    "logos.concat.str.lower().str.contains(\"logo\").value_counts()"
   ]
  },
  {
   "cell_type": "markdown",
   "metadata": {},
   "source": [
    "only 431 creative assets directory contains information about logo"
   ]
  },
  {
   "cell_type": "code",
   "execution_count": 81,
   "metadata": {},
   "outputs": [],
   "source": [
    "contain_logo = logos[logos.concat.str.lower().str.contains(\"logo\")]"
   ]
  },
  {
   "cell_type": "code",
   "execution_count": 82,
   "metadata": {},
   "outputs": [
    {
     "data": {
      "text/html": [
       "<div>\n",
       "<style scoped>\n",
       "    .dataframe tbody tr th:only-of-type {\n",
       "        vertical-align: middle;\n",
       "    }\n",
       "\n",
       "    .dataframe tbody tr th {\n",
       "        vertical-align: top;\n",
       "    }\n",
       "\n",
       "    .dataframe thead th {\n",
       "        text-align: right;\n",
       "    }\n",
       "</style>\n",
       "<table border=\"1\" class=\"dataframe\">\n",
       "  <thead>\n",
       "    <tr style=\"text-align: right;\">\n",
       "      <th></th>\n",
       "      <th>game_id</th>\n",
       "      <th>all_files</th>\n",
       "      <th>concat</th>\n",
       "    </tr>\n",
       "  </thead>\n",
       "  <tbody>\n",
       "    <tr>\n",
       "      <th>44</th>\n",
       "      <td>adunit-gme-user-choice-mpu</td>\n",
       "      <td>[game_text_2.png, logo.png, game_2.png, 3-img-...</td>\n",
       "      <td>game_text_2.png logo.png game_2.png 3-img-high...</td>\n",
       "    </tr>\n",
       "    <tr>\n",
       "      <th>631</th>\n",
       "      <td>b3fd525be390ec4cbebdcbd225362f12</td>\n",
       "      <td>[landingtext.png, logo.png, video.mp4, cta.png...</td>\n",
       "      <td>landingtext.png logo.png video.mp4 cta.png eng...</td>\n",
       "    </tr>\n",
       "    <tr>\n",
       "      <th>209</th>\n",
       "      <td>adunit-mouser-user-choice-flight4-uk-cpe-mob</td>\n",
       "      <td>[logo.png, landing_3.png, landingtext_3.png, c...</td>\n",
       "      <td>logo.png landing_3.png landingtext_3.png cta.p...</td>\n",
       "    </tr>\n",
       "    <tr>\n",
       "      <th>650</th>\n",
       "      <td>adunit-lexus-video-carousel-cpe-av-mob</td>\n",
       "      <td>[logo.png, rx-copy.png, cta.png, engagement_an...</td>\n",
       "      <td>logo.png rx-copy.png cta.png engagement_animat...</td>\n",
       "    </tr>\n",
       "    <tr>\n",
       "      <th>512</th>\n",
       "      <td>adunit-mouser-user-choice-v3-cpe-us-mpu</td>\n",
       "      <td>[logo.png, landing_3.png, background.png, cta....</td>\n",
       "      <td>logo.png landing_3.png background.png cta.png ...</td>\n",
       "    </tr>\n",
       "  </tbody>\n",
       "</table>\n",
       "</div>"
      ],
      "text/plain": [
       "0                                         game_id  \\\n",
       "44                     adunit-gme-user-choice-mpu   \n",
       "631              b3fd525be390ec4cbebdcbd225362f12   \n",
       "209  adunit-mouser-user-choice-flight4-uk-cpe-mob   \n",
       "650        adunit-lexus-video-carousel-cpe-av-mob   \n",
       "512       adunit-mouser-user-choice-v3-cpe-us-mpu   \n",
       "\n",
       "0                                            all_files  \\\n",
       "44   [game_text_2.png, logo.png, game_2.png, 3-img-...   \n",
       "631  [landingtext.png, logo.png, video.mp4, cta.png...   \n",
       "209  [logo.png, landing_3.png, landingtext_3.png, c...   \n",
       "650  [logo.png, rx-copy.png, cta.png, engagement_an...   \n",
       "512  [logo.png, landing_3.png, background.png, cta....   \n",
       "\n",
       "0                                               concat  \n",
       "44   game_text_2.png logo.png game_2.png 3-img-high...  \n",
       "631  landingtext.png logo.png video.mp4 cta.png eng...  \n",
       "209  logo.png landing_3.png landingtext_3.png cta.p...  \n",
       "650  logo.png rx-copy.png cta.png engagement_animat...  \n",
       "512  logo.png landing_3.png background.png cta.png ...  "
      ]
     },
     "execution_count": 82,
     "metadata": {},
     "output_type": "execute_result"
    }
   ],
   "source": [
    "contain_logo.sample(5)"
   ]
  },
  {
   "cell_type": "code",
   "execution_count": 83,
   "metadata": {},
   "outputs": [
    {
     "data": {
      "text/html": [
       "<div>\n",
       "<style scoped>\n",
       "    .dataframe tbody tr th:only-of-type {\n",
       "        vertical-align: middle;\n",
       "    }\n",
       "\n",
       "    .dataframe tbody tr th {\n",
       "        vertical-align: top;\n",
       "    }\n",
       "\n",
       "    .dataframe thead th {\n",
       "        text-align: right;\n",
       "    }\n",
       "</style>\n",
       "<table border=\"1\" class=\"dataframe\">\n",
       "  <thead>\n",
       "    <tr style=\"text-align: right;\">\n",
       "      <th></th>\n",
       "      <th>game_id</th>\n",
       "      <th>all_files</th>\n",
       "      <th>concat</th>\n",
       "    </tr>\n",
       "  </thead>\n",
       "  <tbody>\n",
       "    <tr>\n",
       "      <th>846</th>\n",
       "      <td>b22916b05fb1e90b8b8d33812483022c</td>\n",
       "      <td>[thumbnail.jpg, landing_2.jpg, endframe_4.png,...</td>\n",
       "      <td>thumbnail.jpg landing_2.jpg endframe_4.png vid...</td>\n",
       "    </tr>\n",
       "    <tr>\n",
       "      <th>857</th>\n",
       "      <td>015efcdd8de3698ffc4dad6dabd6664a</td>\n",
       "      <td>[video.mp4, discover.png, landing_3.png, landi...</td>\n",
       "      <td>video.mp4 discover.png landing_3.png landing_e...</td>\n",
       "    </tr>\n",
       "    <tr>\n",
       "      <th>701</th>\n",
       "      <td>adunit-ggpoker-spin-and-gold-sensory-v1-mob</td>\n",
       "      <td>[end.jpg, wheel-spin-static.png, wheel-spin-bl...</td>\n",
       "      <td>end.jpg wheel-spin-static.png wheel-spin-blur....</td>\n",
       "    </tr>\n",
       "    <tr>\n",
       "      <th>662</th>\n",
       "      <td>cc6c33bd4409ded3155793811af5c72b</td>\n",
       "      <td>[thumbnail.jpg, video.mp4, MPU-click-area.png,...</td>\n",
       "      <td>thumbnail.jpg video.mp4 MPU-click-area.png hea...</td>\n",
       "    </tr>\n",
       "    <tr>\n",
       "      <th>710</th>\n",
       "      <td>3dfba0efa433d3f1f248b373edc2b176</td>\n",
       "      <td>[video.mp4, cta.png, engage_area.png, engageme...</td>\n",
       "      <td>video.mp4 cta.png engage_area.png engagement_a...</td>\n",
       "    </tr>\n",
       "  </tbody>\n",
       "</table>\n",
       "</div>"
      ],
      "text/plain": [
       "0                                        game_id  \\\n",
       "846             b22916b05fb1e90b8b8d33812483022c   \n",
       "857             015efcdd8de3698ffc4dad6dabd6664a   \n",
       "701  adunit-ggpoker-spin-and-gold-sensory-v1-mob   \n",
       "662             cc6c33bd4409ded3155793811af5c72b   \n",
       "710             3dfba0efa433d3f1f248b373edc2b176   \n",
       "\n",
       "0                                            all_files  \\\n",
       "846  [thumbnail.jpg, landing_2.jpg, endframe_4.png,...   \n",
       "857  [video.mp4, discover.png, landing_3.png, landi...   \n",
       "701  [end.jpg, wheel-spin-static.png, wheel-spin-bl...   \n",
       "662  [thumbnail.jpg, video.mp4, MPU-click-area.png,...   \n",
       "710  [video.mp4, cta.png, engage_area.png, engageme...   \n",
       "\n",
       "0                                               concat  \n",
       "846  thumbnail.jpg landing_2.jpg endframe_4.png vid...  \n",
       "857  video.mp4 discover.png landing_3.png landing_e...  \n",
       "701  end.jpg wheel-spin-static.png wheel-spin-blur....  \n",
       "662  thumbnail.jpg video.mp4 MPU-click-area.png hea...  \n",
       "710  video.mp4 cta.png engage_area.png engagement_a...  "
      ]
     },
     "execution_count": 83,
     "metadata": {},
     "output_type": "execute_result"
    }
   ],
   "source": [
    "not_contain_logo = logos[~logos.concat.str.lower().str.contains(\"logo\")]\n",
    "not_contain_logo.sample(5)"
   ]
  },
  {
   "cell_type": "markdown",
   "metadata": {},
   "source": [
    "### work with the first asset group"
   ]
  },
  {
   "cell_type": "code",
   "execution_count": null,
   "metadata": {},
   "outputs": [],
   "source": [
    "# img_path = \"/home/amanuel_zewdu/creative_image_optimization/data/Challenge_Data/Assets/2524439faeafa1c2ca1a27cac00a97b1/_preview.png\"\n",
    "# logo_path = \"/home/amanuel_zewdu/creative_image_optimization/data/Challenge_Data/Assets/2524439faeafa1c2ca1a27cac00a97b1/logo.png\"\n",
    "\n",
    "img_path = \"/home/amanuel_zewdu/creative_image_optimization/data/Challenge_Data/Assets/79c36d2adb94900291f5ddf1f6580c43/endframe_2.png\"\n",
    "logo_path = \"/home/amanuel_zewdu/creative_image_optimization/data/Challenge_Data/Assets/79c36d2adb94900291f5ddf1f6580c43/logo.png\""
   ]
  },
  {
   "cell_type": "code",
   "execution_count": null,
   "metadata": {},
   "outputs": [],
   "source": [
    "contain_logo['file_name'] = contain_logo.all_files.apply(lambda x: filter_list(x,\"logo\"))"
   ]
  },
  {
   "cell_type": "code",
   "execution_count": 140,
   "metadata": {},
   "outputs": [],
   "source": [
    "contain_logo.drop(columns=[\"all_files\",\"concat\"],inplace=True)"
   ]
  },
  {
   "cell_type": "code",
   "execution_count": 88,
   "metadata": {},
   "outputs": [
    {
     "data": {
      "text/html": [
       "<div>\n",
       "<style scoped>\n",
       "    .dataframe tbody tr th:only-of-type {\n",
       "        vertical-align: middle;\n",
       "    }\n",
       "\n",
       "    .dataframe tbody tr th {\n",
       "        vertical-align: top;\n",
       "    }\n",
       "\n",
       "    .dataframe thead th {\n",
       "        text-align: right;\n",
       "    }\n",
       "</style>\n",
       "<table border=\"1\" class=\"dataframe\">\n",
       "  <thead>\n",
       "    <tr style=\"text-align: right;\">\n",
       "      <th></th>\n",
       "      <th>game_id</th>\n",
       "      <th>file_name</th>\n",
       "    </tr>\n",
       "  </thead>\n",
       "  <tbody>\n",
       "    <tr>\n",
       "      <th>523</th>\n",
       "      <td>adunit-mouser-user-choice-cpe-aus-nz-mpu</td>\n",
       "      <td>[logo.png]</td>\n",
       "    </tr>\n",
       "    <tr>\n",
       "      <th>119</th>\n",
       "      <td>adunit-lexus-video-carousel-mpu</td>\n",
       "      <td>[logo.png]</td>\n",
       "    </tr>\n",
       "    <tr>\n",
       "      <th>386</th>\n",
       "      <td>08fc9a9f04de967fe87c5061c32d3b84</td>\n",
       "      <td>[logo-1.png]</td>\n",
       "    </tr>\n",
       "    <tr>\n",
       "      <th>204</th>\n",
       "      <td>06162b54235c76bfc73c297dd000614a</td>\n",
       "      <td>[end-logo-two.png, logo.png, end-logo.png, log...</td>\n",
       "    </tr>\n",
       "    <tr>\n",
       "      <th>549</th>\n",
       "      <td>adunit-lionsgate-moonfall-parallax-dec-mob</td>\n",
       "      <td>[logo.png, video-logo.png]</td>\n",
       "    </tr>\n",
       "  </tbody>\n",
       "</table>\n",
       "</div>"
      ],
      "text/plain": [
       "0                                       game_id  \\\n",
       "523    adunit-mouser-user-choice-cpe-aus-nz-mpu   \n",
       "119             adunit-lexus-video-carousel-mpu   \n",
       "386            08fc9a9f04de967fe87c5061c32d3b84   \n",
       "204            06162b54235c76bfc73c297dd000614a   \n",
       "549  adunit-lionsgate-moonfall-parallax-dec-mob   \n",
       "\n",
       "0                                            file_name  \n",
       "523                                         [logo.png]  \n",
       "119                                         [logo.png]  \n",
       "386                                       [logo-1.png]  \n",
       "204  [end-logo-two.png, logo.png, end-logo.png, log...  \n",
       "549                         [logo.png, video-logo.png]  "
      ]
     },
     "execution_count": 88,
     "metadata": {},
     "output_type": "execute_result"
    }
   ],
   "source": [
    "contain_logo.sample(5)"
   ]
  },
  {
   "cell_type": "code",
   "execution_count": 173,
   "metadata": {},
   "outputs": [],
   "source": [
    "back_up_logo_list = contain_logo.copy()\n",
    "contain_logo[[\"shape\",\"top_left\",\"bottom_right\"]] =  contain_logo.apply(lambda x: pd.Series(find_logo_position(x.game_id,x.file_name)) ,axis = 1)"
   ]
  },
  {
   "cell_type": "code",
   "execution_count": 172,
   "metadata": {},
   "outputs": [],
   "source": [
    "contain_logo.drop(columns=['shape','top_left','bottom_right'],inplace=True)"
   ]
  },
  {
   "cell_type": "code",
   "execution_count": 175,
   "metadata": {},
   "outputs": [
    {
     "data": {
      "text/html": [
       "<div>\n",
       "<style scoped>\n",
       "    .dataframe tbody tr th:only-of-type {\n",
       "        vertical-align: middle;\n",
       "    }\n",
       "\n",
       "    .dataframe tbody tr th {\n",
       "        vertical-align: top;\n",
       "    }\n",
       "\n",
       "    .dataframe thead th {\n",
       "        text-align: right;\n",
       "    }\n",
       "</style>\n",
       "<table border=\"1\" class=\"dataframe\">\n",
       "  <thead>\n",
       "    <tr style=\"text-align: right;\">\n",
       "      <th></th>\n",
       "      <th>game_id</th>\n",
       "      <th>file_name</th>\n",
       "      <th>shape</th>\n",
       "      <th>top_left</th>\n",
       "      <th>bottom_right</th>\n",
       "    </tr>\n",
       "  </thead>\n",
       "  <tbody>\n",
       "    <tr>\n",
       "      <th>105</th>\n",
       "      <td>f6c6774bb267182cf248fd64a5b25b59</td>\n",
       "      <td>[logo.png, f5-logo.png]</td>\n",
       "      <td>(900, 600)</td>\n",
       "      <td>(135, 21)</td>\n",
       "      <td>(466, 85)</td>\n",
       "    </tr>\n",
       "    <tr>\n",
       "      <th>318</th>\n",
       "      <td>adunit-mouser-user-choice-cpe-av-uk-mpu</td>\n",
       "      <td>[logo.png]</td>\n",
       "      <td>(0, 0)</td>\n",
       "      <td>(0, 0)</td>\n",
       "      <td>(0, 0)</td>\n",
       "    </tr>\n",
       "    <tr>\n",
       "      <th>884</th>\n",
       "      <td>adunit-mouser-user-choice-v2-cpe-av-uk-mpu</td>\n",
       "      <td>[logo.png]</td>\n",
       "      <td>(0, 0)</td>\n",
       "      <td>(0, 0)</td>\n",
       "      <td>(0, 0)</td>\n",
       "    </tr>\n",
       "    <tr>\n",
       "      <th>545</th>\n",
       "      <td>b378c281edcaebfbe47a3104fdc2e036</td>\n",
       "      <td>[logo.png]</td>\n",
       "      <td>(900, 600)</td>\n",
       "      <td>(162, 39)</td>\n",
       "      <td>(438, 86)</td>\n",
       "    </tr>\n",
       "    <tr>\n",
       "      <th>101</th>\n",
       "      <td>adunit-city-square-mall-cny-mob</td>\n",
       "      <td>[logo.png]</td>\n",
       "      <td>(0, 0)</td>\n",
       "      <td>(0, 0)</td>\n",
       "      <td>(0, 0)</td>\n",
       "    </tr>\n",
       "  </tbody>\n",
       "</table>\n",
       "</div>"
      ],
      "text/plain": [
       "0                                       game_id                file_name  \\\n",
       "105            f6c6774bb267182cf248fd64a5b25b59  [logo.png, f5-logo.png]   \n",
       "318     adunit-mouser-user-choice-cpe-av-uk-mpu               [logo.png]   \n",
       "884  adunit-mouser-user-choice-v2-cpe-av-uk-mpu               [logo.png]   \n",
       "545            b378c281edcaebfbe47a3104fdc2e036               [logo.png]   \n",
       "101             adunit-city-square-mall-cny-mob               [logo.png]   \n",
       "\n",
       "0         shape   top_left bottom_right  \n",
       "105  (900, 600)  (135, 21)    (466, 85)  \n",
       "318      (0, 0)     (0, 0)       (0, 0)  \n",
       "884      (0, 0)     (0, 0)       (0, 0)  \n",
       "545  (900, 600)  (162, 39)    (438, 86)  \n",
       "101      (0, 0)     (0, 0)       (0, 0)  "
      ]
     },
     "execution_count": 175,
     "metadata": {},
     "output_type": "execute_result"
    }
   ],
   "source": [
    "contain_logo.sample(5)"
   ]
  },
  {
   "cell_type": "code",
   "execution_count": 171,
   "metadata": {},
   "outputs": [],
   "source": [
    "def find_logo_position(folder_id:str,candidate_logo:list,ntry=0):\n",
    "    \n",
    "    prospect_on_image_names = [\"preview\",\"endframe\"]\n",
    "    max_try = len(prospect_on_image_names)\n",
    "\n",
    "    try:\n",
    "\n",
    "        img_path = glob.glob(f'{DIRECTORY_PATH}{folder_id}/*{prospect_on_image_names[ntry]}*.*')[0]\n",
    "        logo_img = f'{DIRECTORY_PATH}{folder_id}/{candidate_logo[0]}'\n",
    "\n",
    "        shape, top_left, bottom_right = locate_image_on_image(locate_image=logo_img, on_image=img_path)\n",
    "        return (shape, top_left, bottom_right)\n",
    "    \n",
    "    except:\n",
    "        n = ntry + 1\n",
    "        if n < max_try:\n",
    "            find_logo_position(folder_id,candidate_logo,n)\n",
    "        return ((0,0), (0,0), (0,0))\n"
   ]
  },
  {
   "cell_type": "code",
   "execution_count": null,
   "metadata": {},
   "outputs": [],
   "source": []
  },
  {
   "cell_type": "code",
   "execution_count": 170,
   "metadata": {},
   "outputs": [
    {
     "data": {
      "text/plain": [
       "((900, 600), (0, 0), (600, 900))"
      ]
     },
     "execution_count": 170,
     "metadata": {},
     "output_type": "execute_result"
    }
   ],
   "source": [
    "find_logo_position(\"adunit-ihop-ihoppy-hour-no-offer-mob\",[\"logo.jpg\"])"
   ]
  },
  {
   "cell_type": "code",
   "execution_count": 165,
   "metadata": {},
   "outputs": [],
   "source": [
    "a"
   ]
  },
  {
   "cell_type": "code",
   "execution_count": 162,
   "metadata": {},
   "outputs": [
    {
     "data": {
      "text/plain": [
       "[]"
      ]
     },
     "execution_count": 162,
     "metadata": {},
     "output_type": "execute_result"
    }
   ],
   "source": [
    "glob.glob(f'{DIRECTORY_PATH}adunit-nutrella-barrilito-mpu/*endframe*.*')"
   ]
  }
 ],
 "metadata": {
  "kernelspec": {
   "display_name": "local-venv",
   "language": "python",
   "name": "local-venv"
  },
  "language_info": {
   "codemirror_mode": {
    "name": "ipython",
    "version": 3
   },
   "file_extension": ".py",
   "mimetype": "text/x-python",
   "name": "python",
   "nbconvert_exporter": "python",
   "pygments_lexer": "ipython3",
   "version": "3.8.10"
  },
  "orig_nbformat": 4
 },
 "nbformat": 4,
 "nbformat_minor": 2
}
