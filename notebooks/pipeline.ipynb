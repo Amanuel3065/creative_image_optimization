{
 "cells": [
  {
   "cell_type": "code",
   "execution_count": 1,
   "metadata": {},
   "outputs": [],
   "source": [
    "import sys\n",
    "import pandas as pd\n",
    "sys.path.append('../scripts/')\n",
    "from extraction_pipeline import ExtractionPipeline\n"
   ]
  },
  {
   "cell_type": "code",
   "execution_count": 2,
   "metadata": {},
   "outputs": [],
   "source": [
    "# for test, we will import only 2 col df\n",
    "from load_data import Loader\n",
    "loader = Loader()\n",
    "bucket = \"s3://10ac-batch-6/data/w11/Challenge_Data.zip\"\n",
    "file_path = \"Challenge_Data/performance_data.csv\"\n",
    "df = loader.load_csv(bucket,file_path)\n"
   ]
  },
  {
   "cell_type": "code",
   "execution_count": 4,
   "metadata": {},
   "outputs": [
    {
     "data": {
      "text/html": [
       "<div>\n",
       "<style scoped>\n",
       "    .dataframe tbody tr th:only-of-type {\n",
       "        vertical-align: middle;\n",
       "    }\n",
       "\n",
       "    .dataframe tbody tr th {\n",
       "        vertical-align: top;\n",
       "    }\n",
       "\n",
       "    .dataframe thead th {\n",
       "        text-align: right;\n",
       "    }\n",
       "</style>\n",
       "<table border=\"1\" class=\"dataframe\">\n",
       "  <thead>\n",
       "    <tr style=\"text-align: right;\">\n",
       "      <th></th>\n",
       "      <th>game_id</th>\n",
       "      <th>preview_link</th>\n",
       "      <th>ER</th>\n",
       "      <th>CTR</th>\n",
       "      <th>all_text</th>\n",
       "      <th>file_name</th>\n",
       "      <th>shape</th>\n",
       "      <th>top_left</th>\n",
       "      <th>bottom_right</th>\n",
       "      <th>LAR</th>\n",
       "    </tr>\n",
       "  </thead>\n",
       "  <tbody>\n",
       "    <tr>\n",
       "      <th>0</th>\n",
       "      <td>adunit-hennessy-vsop-refik-anadol</td>\n",
       "      <td>https://s3.ap-southeast-1.amazonaws.com/a.futu...</td>\n",
       "      <td>0.0378945069345855</td>\n",
       "      <td>0.0022933275090095</td>\n",
       "      <td>[Hennessy, V:'S:O:-P Reeve, hd, REFIK ANADOL, ...</td>\n",
       "      <td>[logo.png]</td>\n",
       "      <td>(900, 600)</td>\n",
       "      <td>(164, 473)</td>\n",
       "      <td>(499, 640)</td>\n",
       "      <td>0.103602</td>\n",
       "    </tr>\n",
       "    <tr>\n",
       "      <th>1</th>\n",
       "      <td>adunit-mouser-user-choice-flight4-us-cpe-av-mob</td>\n",
       "      <td>https://s3.us-east-1.amazonaws.com/a.futureadl...</td>\n",
       "      <td>0.0334788937409024</td>\n",
       "      <td>0.0080543425521591</td>\n",
       "      <td>[      , Psi cick ane, Sion ees, Cy, Ro eee, M...</td>\n",
       "      <td>[logo.png]</td>\n",
       "      <td>(0, 0)</td>\n",
       "      <td>(0, 0)</td>\n",
       "      <td>(0, 0)</td>\n",
       "      <td>0.000000</td>\n",
       "    </tr>\n",
       "    <tr>\n",
       "      <th>2</th>\n",
       "      <td>5d8310907217d0f5385f765f133ad475</td>\n",
       "      <td>https://s3.us-east-1.amazonaws.com/a.futureadl...</td>\n",
       "      <td>0.1193715600004577</td>\n",
       "      <td>0.0463205593253309</td>\n",
       "      <td>[LEARN MORE, Ovexus, L/CERTIFIED BY LEXUS, THO...</td>\n",
       "      <td>NaN</td>\n",
       "      <td>NaN</td>\n",
       "      <td>NaN</td>\n",
       "      <td>NaN</td>\n",
       "      <td>NaN</td>\n",
       "    </tr>\n",
       "  </tbody>\n",
       "</table>\n",
       "</div>"
      ],
      "text/plain": [
       "0                                          game_id  \\\n",
       "0                adunit-hennessy-vsop-refik-anadol   \n",
       "1  adunit-mouser-user-choice-flight4-us-cpe-av-mob   \n",
       "2                 5d8310907217d0f5385f765f133ad475   \n",
       "\n",
       "0                                       preview_link                  ER  \\\n",
       "0  https://s3.ap-southeast-1.amazonaws.com/a.futu...  0.0378945069345855   \n",
       "1  https://s3.us-east-1.amazonaws.com/a.futureadl...  0.0334788937409024   \n",
       "2  https://s3.us-east-1.amazonaws.com/a.futureadl...  0.1193715600004577   \n",
       "\n",
       "0                 CTR                                           all_text  \\\n",
       "0  0.0022933275090095  [Hennessy, V:'S:O:-P Reeve, hd, REFIK ANADOL, ...   \n",
       "1  0.0080543425521591  [      , Psi cick ane, Sion ees, Cy, Ro eee, M...   \n",
       "2  0.0463205593253309  [LEARN MORE, Ovexus, L/CERTIFIED BY LEXUS, THO...   \n",
       "\n",
       "0   file_name       shape    top_left bottom_right       LAR  \n",
       "0  [logo.png]  (900, 600)  (164, 473)   (499, 640)  0.103602  \n",
       "1  [logo.png]      (0, 0)      (0, 0)       (0, 0)  0.000000  \n",
       "2         NaN         NaN         NaN          NaN       NaN  "
      ]
     },
     "execution_count": 4,
     "metadata": {},
     "output_type": "execute_result"
    }
   ],
   "source": [
    "\n",
    "tst = df.sample(3)\n",
    "extractor = ExtractionPipeline(df=tst)\n",
    "extractor.extract_features()"
   ]
  }
 ],
 "metadata": {
  "kernelspec": {
   "display_name": "Python 3.8.10 ('.venv': venv)",
   "language": "python",
   "name": "python3"
  },
  "language_info": {
   "codemirror_mode": {
    "name": "ipython",
    "version": 3
   },
   "file_extension": ".py",
   "mimetype": "text/x-python",
   "name": "python",
   "nbconvert_exporter": "python",
   "pygments_lexer": "ipython3",
   "version": "3.8.10"
  },
  "orig_nbformat": 4,
  "vscode": {
   "interpreter": {
    "hash": "dbf403a3c9e5b1045cd4c434062db8ff078a8da38114201bf3355baf5f5e4cb2"
   }
  }
 },
 "nbformat": 4,
 "nbformat_minor": 2
}
