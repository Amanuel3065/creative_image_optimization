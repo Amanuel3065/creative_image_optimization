{
 "cells": [
  {
   "cell_type": "code",
   "execution_count": 3,
   "metadata": {},
   "outputs": [],
   "source": [
    "# importing useful modules\n",
    "import pandas as pd\n",
    "import seaborn as sns\n",
    "from sklearn.model_selection import train_test_split \n",
    "from sklearn.linear_model import LinearRegression\n",
    "from sklearn.preprocessing import StandardScaler\n",
    "from sklearn.ensemble import RandomForestRegressor\n",
    "from sklearn.compose import ColumnTransformer\n",
    "from sklearn.pipeline import Pipeline\n",
    "from sklearn.impute import SimpleImputer\n",
    "from sklearn import preprocessing\n",
    "from sklearn import metrics\n",
    "import numpy as np \n",
    "import matplotlib.pyplot as plt\n",
    "import category_encoders as ce\n",
    "%matplotlib inline\n",
    "import pickle\n",
    "from datetime import datetime\n",
    "from pickle import dump\n",
    "import mlflow\n",
    "from sklearn.svm import SVC\n",
    "from sklearn.model_selection import train_test_split, GridSearchCV\n",
    "import warnings\n",
    "warnings.filterwarnings(\"ignore\")\n",
    "np.random.seed(40)\n",
    "from sklearn.metrics import mean_squared_error, mean_absolute_error, r2_score\n",
    "from sklearn.model_selection import train_test_split\n",
    "from sklearn.linear_model import ElasticNet\n",
    "from urllib.parse import urlparse\n",
    "import mlflow\n",
    "import mlflow.sklearn"
   ]
  },
  {
   "cell_type": "code",
   "execution_count": 5,
   "metadata": {},
   "outputs": [
    {
     "data": {
      "text/html": [
       "<div>\n",
       "<style scoped>\n",
       "    .dataframe tbody tr th:only-of-type {\n",
       "        vertical-align: middle;\n",
       "    }\n",
       "\n",
       "    .dataframe tbody tr th {\n",
       "        vertical-align: top;\n",
       "    }\n",
       "\n",
       "    .dataframe thead th {\n",
       "        text-align: right;\n",
       "    }\n",
       "</style>\n",
       "<table border=\"1\" class=\"dataframe\">\n",
       "  <thead>\n",
       "    <tr style=\"text-align: right;\">\n",
       "      <th></th>\n",
       "      <th>ER</th>\n",
       "      <th>CTR</th>\n",
       "      <th>all_text_word_count</th>\n",
       "      <th>LAR</th>\n",
       "      <th>all_objects_count</th>\n",
       "      <th>unique_objects_count</th>\n",
       "      <th>cta_text_word_count</th>\n",
       "      <th>cta_width</th>\n",
       "      <th>cta_height</th>\n",
       "      <th>red</th>\n",
       "      <th>green</th>\n",
       "      <th>blue</th>\n",
       "      <th>logo_width</th>\n",
       "      <th>logo_height</th>\n",
       "      <th>eng_width</th>\n",
       "      <th>eng_height</th>\n",
       "      <th>preview_width</th>\n",
       "      <th>preview_height</th>\n",
       "    </tr>\n",
       "  </thead>\n",
       "  <tbody>\n",
       "    <tr>\n",
       "      <th>0</th>\n",
       "      <td>0.209269</td>\n",
       "      <td>0.058438</td>\n",
       "      <td>0.286957</td>\n",
       "      <td>0.000000</td>\n",
       "      <td>9</td>\n",
       "      <td>2</td>\n",
       "      <td>0.057143</td>\n",
       "      <td>0.052052</td>\n",
       "      <td>0.366577</td>\n",
       "      <td>0.090196</td>\n",
       "      <td>0.145098</td>\n",
       "      <td>0.098039</td>\n",
       "      <td>0.000000</td>\n",
       "      <td>0.000000</td>\n",
       "      <td>0.776667</td>\n",
       "      <td>0.085556</td>\n",
       "      <td>0.000000</td>\n",
       "      <td>0.000000</td>\n",
       "    </tr>\n",
       "    <tr>\n",
       "      <th>1</th>\n",
       "      <td>0.274552</td>\n",
       "      <td>0.074731</td>\n",
       "      <td>0.556522</td>\n",
       "      <td>0.000000</td>\n",
       "      <td>13</td>\n",
       "      <td>2</td>\n",
       "      <td>0.057143</td>\n",
       "      <td>0.052052</td>\n",
       "      <td>0.366577</td>\n",
       "      <td>0.090196</td>\n",
       "      <td>0.145098</td>\n",
       "      <td>0.098039</td>\n",
       "      <td>0.000000</td>\n",
       "      <td>0.000000</td>\n",
       "      <td>0.776667</td>\n",
       "      <td>0.085556</td>\n",
       "      <td>0.000000</td>\n",
       "      <td>0.000000</td>\n",
       "    </tr>\n",
       "    <tr>\n",
       "      <th>2</th>\n",
       "      <td>0.103688</td>\n",
       "      <td>0.042228</td>\n",
       "      <td>0.217391</td>\n",
       "      <td>0.000000</td>\n",
       "      <td>11</td>\n",
       "      <td>2</td>\n",
       "      <td>0.057143</td>\n",
       "      <td>0.038038</td>\n",
       "      <td>0.277628</td>\n",
       "      <td>0.090196</td>\n",
       "      <td>0.145098</td>\n",
       "      <td>0.098039</td>\n",
       "      <td>0.000000</td>\n",
       "      <td>0.000000</td>\n",
       "      <td>0.633333</td>\n",
       "      <td>0.070000</td>\n",
       "      <td>0.000000</td>\n",
       "      <td>0.000000</td>\n",
       "    </tr>\n",
       "    <tr>\n",
       "      <th>3</th>\n",
       "      <td>0.136963</td>\n",
       "      <td>0.005393</td>\n",
       "      <td>0.091304</td>\n",
       "      <td>0.078828</td>\n",
       "      <td>6</td>\n",
       "      <td>4</td>\n",
       "      <td>0.028571</td>\n",
       "      <td>0.067067</td>\n",
       "      <td>0.268194</td>\n",
       "      <td>0.584314</td>\n",
       "      <td>0.305882</td>\n",
       "      <td>0.254902</td>\n",
       "      <td>0.160738</td>\n",
       "      <td>0.193333</td>\n",
       "      <td>0.000000</td>\n",
       "      <td>0.000000</td>\n",
       "      <td>0.545051</td>\n",
       "      <td>0.350671</td>\n",
       "    </tr>\n",
       "    <tr>\n",
       "      <th>4</th>\n",
       "      <td>0.114208</td>\n",
       "      <td>0.016443</td>\n",
       "      <td>0.052174</td>\n",
       "      <td>0.123817</td>\n",
       "      <td>8</td>\n",
       "      <td>1</td>\n",
       "      <td>0.028571</td>\n",
       "      <td>0.048048</td>\n",
       "      <td>0.239892</td>\n",
       "      <td>0.501961</td>\n",
       "      <td>0.749020</td>\n",
       "      <td>0.996078</td>\n",
       "      <td>0.212780</td>\n",
       "      <td>0.127778</td>\n",
       "      <td>0.000000</td>\n",
       "      <td>0.000000</td>\n",
       "      <td>0.317259</td>\n",
       "      <td>0.335570</td>\n",
       "    </tr>\n",
       "  </tbody>\n",
       "</table>\n",
       "</div>"
      ],
      "text/plain": [
       "         ER       CTR  all_text_word_count       LAR  all_objects_count  \\\n",
       "0  0.209269  0.058438             0.286957  0.000000                  9   \n",
       "1  0.274552  0.074731             0.556522  0.000000                 13   \n",
       "2  0.103688  0.042228             0.217391  0.000000                 11   \n",
       "3  0.136963  0.005393             0.091304  0.078828                  6   \n",
       "4  0.114208  0.016443             0.052174  0.123817                  8   \n",
       "\n",
       "   unique_objects_count  cta_text_word_count  cta_width  cta_height       red  \\\n",
       "0                     2             0.057143   0.052052    0.366577  0.090196   \n",
       "1                     2             0.057143   0.052052    0.366577  0.090196   \n",
       "2                     2             0.057143   0.038038    0.277628  0.090196   \n",
       "3                     4             0.028571   0.067067    0.268194  0.584314   \n",
       "4                     1             0.028571   0.048048    0.239892  0.501961   \n",
       "\n",
       "      green      blue  logo_width  logo_height  eng_width  eng_height  \\\n",
       "0  0.145098  0.098039    0.000000     0.000000   0.776667    0.085556   \n",
       "1  0.145098  0.098039    0.000000     0.000000   0.776667    0.085556   \n",
       "2  0.145098  0.098039    0.000000     0.000000   0.633333    0.070000   \n",
       "3  0.305882  0.254902    0.160738     0.193333   0.000000    0.000000   \n",
       "4  0.749020  0.996078    0.212780     0.127778   0.000000    0.000000   \n",
       "\n",
       "   preview_width  preview_height  \n",
       "0       0.000000        0.000000  \n",
       "1       0.000000        0.000000  \n",
       "2       0.000000        0.000000  \n",
       "3       0.545051        0.350671  \n",
       "4       0.317259        0.335570  "
      ]
     },
     "execution_count": 5,
     "metadata": {},
     "output_type": "execute_result"
    }
   ],
   "source": [
    "# Load dataset\n",
    "# df= pd.read_csv('../data/model_ready_data.csv')\n",
    "df= pd.read_csv('../junk/model_ready_datav2.csv')\n",
    "df.head(5)"
   ]
  },
  {
   "cell_type": "code",
   "execution_count": 32,
   "metadata": {},
   "outputs": [
    {
     "name": "stdout",
     "output_type": "stream",
     "text": [
      "<class 'pandas.core.frame.DataFrame'>\n",
      "RangeIndex: 905 entries, 0 to 904\n",
      "Data columns (total 18 columns):\n",
      " #   Column                Non-Null Count  Dtype  \n",
      "---  ------                --------------  -----  \n",
      " 0   ER                    905 non-null    float64\n",
      " 1   CTR                   905 non-null    float64\n",
      " 2   all_text              905 non-null    float64\n",
      " 3   LAR                   905 non-null    float64\n",
      " 4   all_objects_count     905 non-null    int64  \n",
      " 5   unique_objects_count  905 non-null    int64  \n",
      " 6   cta_text              905 non-null    float64\n",
      " 7   cta_width             905 non-null    float64\n",
      " 8   cta_height            905 non-null    float64\n",
      " 9   red                   905 non-null    float64\n",
      " 10  green                 905 non-null    float64\n",
      " 11  blue                  905 non-null    float64\n",
      " 12  logo_width            905 non-null    float64\n",
      " 13  logo_height           905 non-null    float64\n",
      " 14  eng_width             905 non-null    float64\n",
      " 15  eng_height            905 non-null    float64\n",
      " 16  preview_width         905 non-null    float64\n",
      " 17  preview_height        905 non-null    float64\n",
      "dtypes: float64(16), int64(2)\n",
      "memory usage: 127.4 KB\n"
     ]
    }
   ],
   "source": [
    "df.info()"
   ]
  },
  {
   "cell_type": "code",
   "execution_count": 8,
   "metadata": {},
   "outputs": [],
   "source": [
    "## separate the independent and target variable \n",
    "X = df.drop(['ER','CTR'], axis = 1)\n",
    "y = df['CTR']"
   ]
  },
  {
   "cell_type": "code",
   "execution_count": 9,
   "metadata": {},
   "outputs": [
    {
     "data": {
      "text/html": [
       "<div>\n",
       "<style scoped>\n",
       "    .dataframe tbody tr th:only-of-type {\n",
       "        vertical-align: middle;\n",
       "    }\n",
       "\n",
       "    .dataframe tbody tr th {\n",
       "        vertical-align: top;\n",
       "    }\n",
       "\n",
       "    .dataframe thead th {\n",
       "        text-align: right;\n",
       "    }\n",
       "</style>\n",
       "<table border=\"1\" class=\"dataframe\">\n",
       "  <thead>\n",
       "    <tr style=\"text-align: right;\">\n",
       "      <th></th>\n",
       "      <th>all_text_word_count</th>\n",
       "      <th>LAR</th>\n",
       "      <th>all_objects_count</th>\n",
       "      <th>unique_objects_count</th>\n",
       "      <th>cta_text_word_count</th>\n",
       "      <th>cta_width</th>\n",
       "      <th>cta_height</th>\n",
       "      <th>red</th>\n",
       "      <th>green</th>\n",
       "      <th>blue</th>\n",
       "      <th>logo_width</th>\n",
       "      <th>logo_height</th>\n",
       "      <th>eng_width</th>\n",
       "      <th>eng_height</th>\n",
       "      <th>preview_width</th>\n",
       "      <th>preview_height</th>\n",
       "    </tr>\n",
       "  </thead>\n",
       "  <tbody>\n",
       "    <tr>\n",
       "      <th>0</th>\n",
       "      <td>0.286957</td>\n",
       "      <td>0.000000</td>\n",
       "      <td>9</td>\n",
       "      <td>2</td>\n",
       "      <td>0.057143</td>\n",
       "      <td>0.052052</td>\n",
       "      <td>0.366577</td>\n",
       "      <td>0.090196</td>\n",
       "      <td>0.145098</td>\n",
       "      <td>0.098039</td>\n",
       "      <td>0.000000</td>\n",
       "      <td>0.000000</td>\n",
       "      <td>0.776667</td>\n",
       "      <td>0.085556</td>\n",
       "      <td>0.000000</td>\n",
       "      <td>0.000000</td>\n",
       "    </tr>\n",
       "    <tr>\n",
       "      <th>1</th>\n",
       "      <td>0.556522</td>\n",
       "      <td>0.000000</td>\n",
       "      <td>13</td>\n",
       "      <td>2</td>\n",
       "      <td>0.057143</td>\n",
       "      <td>0.052052</td>\n",
       "      <td>0.366577</td>\n",
       "      <td>0.090196</td>\n",
       "      <td>0.145098</td>\n",
       "      <td>0.098039</td>\n",
       "      <td>0.000000</td>\n",
       "      <td>0.000000</td>\n",
       "      <td>0.776667</td>\n",
       "      <td>0.085556</td>\n",
       "      <td>0.000000</td>\n",
       "      <td>0.000000</td>\n",
       "    </tr>\n",
       "    <tr>\n",
       "      <th>2</th>\n",
       "      <td>0.217391</td>\n",
       "      <td>0.000000</td>\n",
       "      <td>11</td>\n",
       "      <td>2</td>\n",
       "      <td>0.057143</td>\n",
       "      <td>0.038038</td>\n",
       "      <td>0.277628</td>\n",
       "      <td>0.090196</td>\n",
       "      <td>0.145098</td>\n",
       "      <td>0.098039</td>\n",
       "      <td>0.000000</td>\n",
       "      <td>0.000000</td>\n",
       "      <td>0.633333</td>\n",
       "      <td>0.070000</td>\n",
       "      <td>0.000000</td>\n",
       "      <td>0.000000</td>\n",
       "    </tr>\n",
       "    <tr>\n",
       "      <th>3</th>\n",
       "      <td>0.091304</td>\n",
       "      <td>0.078828</td>\n",
       "      <td>6</td>\n",
       "      <td>4</td>\n",
       "      <td>0.028571</td>\n",
       "      <td>0.067067</td>\n",
       "      <td>0.268194</td>\n",
       "      <td>0.584314</td>\n",
       "      <td>0.305882</td>\n",
       "      <td>0.254902</td>\n",
       "      <td>0.160738</td>\n",
       "      <td>0.193333</td>\n",
       "      <td>0.000000</td>\n",
       "      <td>0.000000</td>\n",
       "      <td>0.545051</td>\n",
       "      <td>0.350671</td>\n",
       "    </tr>\n",
       "    <tr>\n",
       "      <th>4</th>\n",
       "      <td>0.052174</td>\n",
       "      <td>0.123817</td>\n",
       "      <td>8</td>\n",
       "      <td>1</td>\n",
       "      <td>0.028571</td>\n",
       "      <td>0.048048</td>\n",
       "      <td>0.239892</td>\n",
       "      <td>0.501961</td>\n",
       "      <td>0.749020</td>\n",
       "      <td>0.996078</td>\n",
       "      <td>0.212780</td>\n",
       "      <td>0.127778</td>\n",
       "      <td>0.000000</td>\n",
       "      <td>0.000000</td>\n",
       "      <td>0.317259</td>\n",
       "      <td>0.335570</td>\n",
       "    </tr>\n",
       "  </tbody>\n",
       "</table>\n",
       "</div>"
      ],
      "text/plain": [
       "   all_text_word_count       LAR  all_objects_count  unique_objects_count  \\\n",
       "0             0.286957  0.000000                  9                     2   \n",
       "1             0.556522  0.000000                 13                     2   \n",
       "2             0.217391  0.000000                 11                     2   \n",
       "3             0.091304  0.078828                  6                     4   \n",
       "4             0.052174  0.123817                  8                     1   \n",
       "\n",
       "   cta_text_word_count  cta_width  cta_height       red     green      blue  \\\n",
       "0             0.057143   0.052052    0.366577  0.090196  0.145098  0.098039   \n",
       "1             0.057143   0.052052    0.366577  0.090196  0.145098  0.098039   \n",
       "2             0.057143   0.038038    0.277628  0.090196  0.145098  0.098039   \n",
       "3             0.028571   0.067067    0.268194  0.584314  0.305882  0.254902   \n",
       "4             0.028571   0.048048    0.239892  0.501961  0.749020  0.996078   \n",
       "\n",
       "   logo_width  logo_height  eng_width  eng_height  preview_width  \\\n",
       "0    0.000000     0.000000   0.776667    0.085556       0.000000   \n",
       "1    0.000000     0.000000   0.776667    0.085556       0.000000   \n",
       "2    0.000000     0.000000   0.633333    0.070000       0.000000   \n",
       "3    0.160738     0.193333   0.000000    0.000000       0.545051   \n",
       "4    0.212780     0.127778   0.000000    0.000000       0.317259   \n",
       "\n",
       "   preview_height  \n",
       "0        0.000000  \n",
       "1        0.000000  \n",
       "2        0.000000  \n",
       "3        0.350671  \n",
       "4        0.335570  "
      ]
     },
     "execution_count": 9,
     "metadata": {},
     "output_type": "execute_result"
    }
   ],
   "source": [
    "X.head()"
   ]
  },
  {
   "cell_type": "code",
   "execution_count": 10,
   "metadata": {},
   "outputs": [
    {
     "name": "stdout",
     "output_type": "stream",
     "text": [
      "Training and testing split was successful.\n"
     ]
    }
   ],
   "source": [
    "# Splitting our dataset into train and test subsets\n",
    "X_train, X_test, y_train, y_test = train_test_split(X, y, test_size=0.2, random_state=42)\n",
    "X_train, X_valid, y_train, y_valid = train_test_split(X_train, y_train, test_size=0.2, random_state=42)\n",
    "print (\"Training and testing split was successful.\")"
   ]
  },
  {
   "cell_type": "code",
   "execution_count": 11,
   "metadata": {},
   "outputs": [],
   "source": [
    "# Define the Pipeline\n",
    "model_pipeline = Pipeline(steps=[('random_forest', RandomForestRegressor(max_depth=10,random_state=2))])"
   ]
  },
  {
   "cell_type": "code",
   "execution_count": 12,
   "metadata": {},
   "outputs": [],
   "source": [
    "def eval_metrics(actual, pred):\n",
    "    rmse = np.sqrt(mean_squared_error(actual, pred))\n",
    "    mae = mean_absolute_error(actual, pred)\n",
    "    r2 = r2_score(actual, pred)\n",
    "    print(\"RMSE Score is: {:.5%}\".format(rmse))\n",
    "    print(\"R2 Square Score is: {:.5%}\".format(r2))\n",
    "    print(\"MAE Score is: {:.5%}\".format(mae))\n",
    "    return {f'RMSE Score': rmse, f'R2_Squared': r2, f'MAE Score': mae}"
   ]
  },
  {
   "cell_type": "code",
   "execution_count": 13,
   "metadata": {},
   "outputs": [
    {
     "data": {
      "text/html": [
       "<style>#sk-container-id-1 {color: black;background-color: white;}#sk-container-id-1 pre{padding: 0;}#sk-container-id-1 div.sk-toggleable {background-color: white;}#sk-container-id-1 label.sk-toggleable__label {cursor: pointer;display: block;width: 100%;margin-bottom: 0;padding: 0.3em;box-sizing: border-box;text-align: center;}#sk-container-id-1 label.sk-toggleable__label-arrow:before {content: \"▸\";float: left;margin-right: 0.25em;color: #696969;}#sk-container-id-1 label.sk-toggleable__label-arrow:hover:before {color: black;}#sk-container-id-1 div.sk-estimator:hover label.sk-toggleable__label-arrow:before {color: black;}#sk-container-id-1 div.sk-toggleable__content {max-height: 0;max-width: 0;overflow: hidden;text-align: left;background-color: #f0f8ff;}#sk-container-id-1 div.sk-toggleable__content pre {margin: 0.2em;color: black;border-radius: 0.25em;background-color: #f0f8ff;}#sk-container-id-1 input.sk-toggleable__control:checked~div.sk-toggleable__content {max-height: 200px;max-width: 100%;overflow: auto;}#sk-container-id-1 input.sk-toggleable__control:checked~label.sk-toggleable__label-arrow:before {content: \"▾\";}#sk-container-id-1 div.sk-estimator input.sk-toggleable__control:checked~label.sk-toggleable__label {background-color: #d4ebff;}#sk-container-id-1 div.sk-label input.sk-toggleable__control:checked~label.sk-toggleable__label {background-color: #d4ebff;}#sk-container-id-1 input.sk-hidden--visually {border: 0;clip: rect(1px 1px 1px 1px);clip: rect(1px, 1px, 1px, 1px);height: 1px;margin: -1px;overflow: hidden;padding: 0;position: absolute;width: 1px;}#sk-container-id-1 div.sk-estimator {font-family: monospace;background-color: #f0f8ff;border: 1px dotted black;border-radius: 0.25em;box-sizing: border-box;margin-bottom: 0.5em;}#sk-container-id-1 div.sk-estimator:hover {background-color: #d4ebff;}#sk-container-id-1 div.sk-parallel-item::after {content: \"\";width: 100%;border-bottom: 1px solid gray;flex-grow: 1;}#sk-container-id-1 div.sk-label:hover label.sk-toggleable__label {background-color: #d4ebff;}#sk-container-id-1 div.sk-serial::before {content: \"\";position: absolute;border-left: 1px solid gray;box-sizing: border-box;top: 0;bottom: 0;left: 50%;z-index: 0;}#sk-container-id-1 div.sk-serial {display: flex;flex-direction: column;align-items: center;background-color: white;padding-right: 0.2em;padding-left: 0.2em;position: relative;}#sk-container-id-1 div.sk-item {position: relative;z-index: 1;}#sk-container-id-1 div.sk-parallel {display: flex;align-items: stretch;justify-content: center;background-color: white;position: relative;}#sk-container-id-1 div.sk-item::before, #sk-container-id-1 div.sk-parallel-item::before {content: \"\";position: absolute;border-left: 1px solid gray;box-sizing: border-box;top: 0;bottom: 0;left: 50%;z-index: -1;}#sk-container-id-1 div.sk-parallel-item {display: flex;flex-direction: column;z-index: 1;position: relative;background-color: white;}#sk-container-id-1 div.sk-parallel-item:first-child::after {align-self: flex-end;width: 50%;}#sk-container-id-1 div.sk-parallel-item:last-child::after {align-self: flex-start;width: 50%;}#sk-container-id-1 div.sk-parallel-item:only-child::after {width: 0;}#sk-container-id-1 div.sk-dashed-wrapped {border: 1px dashed gray;margin: 0 0.4em 0.5em 0.4em;box-sizing: border-box;padding-bottom: 0.4em;background-color: white;}#sk-container-id-1 div.sk-label label {font-family: monospace;font-weight: bold;display: inline-block;line-height: 1.2em;}#sk-container-id-1 div.sk-label-container {text-align: center;}#sk-container-id-1 div.sk-container {/* jupyter's `normalize.less` sets `[hidden] { display: none; }` but bootstrap.min.css set `[hidden] { display: none !important; }` so we also need the `!important` here to be able to override the default hidden behavior on the sphinx rendered scikit-learn.org. See: https://github.com/scikit-learn/scikit-learn/issues/21755 */display: inline-block !important;position: relative;}#sk-container-id-1 div.sk-text-repr-fallback {display: none;}</style><div id=\"sk-container-id-1\" class=\"sk-top-container\"><div class=\"sk-text-repr-fallback\"><pre>StandardScaler()</pre><b>In a Jupyter environment, please rerun this cell to show the HTML representation or trust the notebook. <br />On GitHub, the HTML representation is unable to render, please try loading this page with nbviewer.org.</b></div><div class=\"sk-container\" hidden><div class=\"sk-item\"><div class=\"sk-estimator sk-toggleable\"><input class=\"sk-toggleable__control sk-hidden--visually\" id=\"sk-estimator-id-1\" type=\"checkbox\" checked><label for=\"sk-estimator-id-1\" class=\"sk-toggleable__label sk-toggleable__label-arrow\">StandardScaler</label><div class=\"sk-toggleable__content\"><pre>StandardScaler()</pre></div></div></div></div></div>"
      ],
      "text/plain": [
       "StandardScaler()"
      ]
     },
     "execution_count": 13,
     "metadata": {},
     "output_type": "execute_result"
    }
   ],
   "source": [
    "sc = StandardScaler()\n",
    "sc.fit(X_test)\n",
    "## x = sc.transform(X)"
   ]
  },
  {
   "cell_type": "code",
   "execution_count": 14,
   "metadata": {},
   "outputs": [
    {
     "name": "stdout",
     "output_type": "stream",
     "text": [
      "RMSE Score is: 2.74029%\n",
      "R2 Square Score is: 27.57909%\n",
      "MAE Score is: 1.78312%\n",
      "RMSE Score is: 3.07397%\n",
      "R2 Square Score is: 21.42176%\n",
      "MAE Score is: 2.03418%\n"
     ]
    }
   ],
   "source": [
    "# Fit the pipeline with the data\n",
    "mlflow.autolog(log_input_examples=True, disable_for_unsupported_versions=True, silent=True)\n",
    "with mlflow.start_run() as run:\n",
    "    best_model = model_pipeline.fit(X_train, y_train)\n",
    "\n",
    "    train_score = best_model.score(X_train, y_train)\n",
    "    valid_score = best_model.score(X_valid, y_valid)\n",
    "    valid_metrics = eval_metrics(y_valid, best_model.predict(X_valid))\n",
    "    test_score = best_model.score(X_test, y_test)\n",
    "    test_metrics = eval_metrics(y_test, best_model.predict(X_test))\n",
    "\n",
    "    mlflow.log_metric(\"Valid Score\", valid_score)\n",
    "    mlflow.log_metrics(valid_metrics)\n",
    "    mlflow.log_metric(\"Test Score\", test_score)\n",
    "    mlflow.log_metrics(test_metrics)"
   ]
  },
  {
   "cell_type": "code",
   "execution_count": 15,
   "metadata": {},
   "outputs": [],
   "source": [
    "# Create dictionary with candidate learning algorithms and their hyperparameters\n",
    "grid_param = [{\n",
    "     'random_forest': [RandomForestRegressor(max_depth=10, random_state=2)],\n",
    "     'random_forest__bootstrap': [True, True],\n",
    "     'random_forest__ccp_alpha': [0.0],\n",
    "     'random_forest__criterion': ['mse'],\n",
    "     'random_forest__max_depth': [5,8,15],\n",
    "     'random_forest__max_features': ['auto'],\n",
    "#      'random_forest__max_leaf_nodes': None,\n",
    "#      'random_forest__max_samples': None,\n",
    "     'random_forest__min_impurity_decrease': [0.0],\n",
    "#      'random_forest__min_impurity_split': None,\n",
    "     'random_forest__min_samples_leaf': [1,5],\n",
    "     'random_forest__min_samples_split': [2],\n",
    "     'random_forest__min_weight_fraction_leaf': [0.0],\n",
    "     'random_forest__n_estimators': [100],\n",
    "#      'random_forest__n_jobs': None,\n",
    "     'random_forest__oob_score': [False, True],\n",
    "     'random_forest__random_state': [2],\n",
    "     'random_forest__verbose': [0],\n",
    "     'random_forest__warm_start': [True, False]\n",
    "}]\n",
    "\n",
    "    \n",
    "# create a gridsearch of the pipeline, the fit the best model\n",
    "grid_search_pipeline = GridSearchCV(\n",
    "    model_pipeline, grid_param, cv=3, verbose=0, n_jobs=-1)  # Fit grid search"
   ]
  },
  {
   "cell_type": "code",
   "execution_count": 16,
   "metadata": {},
   "outputs": [],
   "source": [
    "def generate_model_name(mse_score: float) -> str:\n",
    "    now = datetime.now()\n",
    "    dt_string = now.strftime(\"%d-%m-%Y-%H-%M-%S-\")\n",
    "    dt_string = dt_string + \"{:.2%}\".format(mse_score)\n",
    "    return dt_string"
   ]
  },
  {
   "cell_type": "code",
   "execution_count": 17,
   "metadata": {},
   "outputs": [
    {
     "data": {
      "text/plain": [
       "{'RMSE Score': 0.027402920861379097,\n",
       " 'R2_Squared': 0.27579087369062283,\n",
       " 'MAE Score': 0.017831185959307678}"
      ]
     },
     "execution_count": 17,
     "metadata": {},
     "output_type": "execute_result"
    }
   ],
   "source": [
    "valid_metrics\n"
   ]
  },
  {
   "cell_type": "code",
   "execution_count": 18,
   "metadata": {},
   "outputs": [
    {
     "data": {
      "text/plain": [
       "{'RMSE Score': 0.03073970509418748,\n",
       " 'R2_Squared': 0.21421761345187973,\n",
       " 'MAE Score': 0.0203418017651158}"
      ]
     },
     "execution_count": 18,
     "metadata": {},
     "output_type": "execute_result"
    }
   ],
   "source": [
    "test_metrics\n"
   ]
  },
  {
   "cell_type": "code",
   "execution_count": 19,
   "metadata": {},
   "outputs": [],
   "source": [
    "def save_model(model, mse_score) -> None:\n",
    "    try:\n",
    "        file_name = '../models/' + generate_model_name(mse_score=mse_score) +'.pkl'\n",
    "        with open(file_name, 'wb') as handle:\n",
    "            dump(model, handle)\n",
    "    except Exception as e:\n",
    "        print('Error while producing model')"
   ]
  },
  {
   "cell_type": "code",
   "execution_count": 21,
   "metadata": {},
   "outputs": [],
   "source": [
    "save_model(best_model, test_metrics['RMSE Score'])"
   ]
  },
  {
   "cell_type": "code",
   "execution_count": 22,
   "metadata": {},
   "outputs": [
    {
     "data": {
      "text/plain": [
       "{'memory': None,\n",
       " 'steps': [('random_forest',\n",
       "   RandomForestRegressor(max_depth=10, random_state=2))],\n",
       " 'verbose': False,\n",
       " 'random_forest': RandomForestRegressor(max_depth=10, random_state=2),\n",
       " 'random_forest__bootstrap': True,\n",
       " 'random_forest__ccp_alpha': 0.0,\n",
       " 'random_forest__criterion': 'squared_error',\n",
       " 'random_forest__max_depth': 10,\n",
       " 'random_forest__max_features': 1.0,\n",
       " 'random_forest__max_leaf_nodes': None,\n",
       " 'random_forest__max_samples': None,\n",
       " 'random_forest__min_impurity_decrease': 0.0,\n",
       " 'random_forest__min_samples_leaf': 1,\n",
       " 'random_forest__min_samples_split': 2,\n",
       " 'random_forest__min_weight_fraction_leaf': 0.0,\n",
       " 'random_forest__n_estimators': 100,\n",
       " 'random_forest__n_jobs': None,\n",
       " 'random_forest__oob_score': False,\n",
       " 'random_forest__random_state': 2,\n",
       " 'random_forest__verbose': 0,\n",
       " 'random_forest__warm_start': False}"
      ]
     },
     "execution_count": 22,
     "metadata": {},
     "output_type": "execute_result"
    }
   ],
   "source": [
    "best_model.get_params()"
   ]
  },
  {
   "cell_type": "code",
   "execution_count": 25,
   "metadata": {},
   "outputs": [
    {
     "data": {
      "text/plain": [
       "<AxesSubplot: >"
      ]
     },
     "execution_count": 25,
     "metadata": {},
     "output_type": "execute_result"
    },
    {
     "data": {
      "image/png": "[encoded data removed]",
      "text/plain": [
       "<Figure size 800x500 with 1 Axes>"
      ]
     },
     "metadata": {},
     "output_type": "display_data"
    }
   ],
   "source": [
    "plt.figure(figsize=(8,5))\n",
    "feat_importances = pd.Series(best_model.steps[0][1].feature_importances_, index = X.columns)\n",
    "feat_importances.nlargest(10).plot(kind='barh')"
   ]
  },
  {
   "cell_type": "code",
   "execution_count": 69,
   "metadata": {},
   "outputs": [],
   "source": [
    "df_=df.sample()\n",
    "X_ = df_.drop(['ER','CTR'], axis = 1)\n",
    "y_ = df_['CTR']\n",
    "y_pred = best_model.predict(X_)"
   ]
  },
  {
   "cell_type": "code",
   "execution_count": 70,
   "metadata": {},
   "outputs": [
    {
     "name": "stdout",
     "output_type": "stream",
     "text": [
      "predicted 0.03740164799880733\n",
      "truth value 0.0306920373684899\n"
     ]
    }
   ],
   "source": [
    "print(f\"predicted {y_pred[0]}\")\n",
    "print(f\"truth value {y_.values[0]}\")"
   ]
  }
 ],
 "metadata": {
  "kernelspec": {
   "display_name": "Python 3.8.13 ('.gokada')",
   "language": "python",
   "name": "python3"
  },
  "language_info": {
   "codemirror_mode": {
    "name": "ipython",
    "version": 3
   },
   "file_extension": ".py",
   "mimetype": "text/x-python",
   "name": "python",
   "nbconvert_exporter": "python",
   "pygments_lexer": "ipython3",
   "version": "3.8.13"
  },
  "orig_nbformat": 4,
  "vscode": {
   "interpreter": {
    "hash": "bb979cb7cec24255f8a4d8dba9e2cafd70fe384035b7a94f48a84743eec67397"
   }
  }
 },
 "nbformat": 4,
 "nbformat_minor": 2
}
