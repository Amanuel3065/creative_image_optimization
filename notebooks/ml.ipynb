{
 "cells": [
  {
   "cell_type": "code",
   "execution_count": 21,
   "metadata": {},
   "outputs": [],
   "source": [
    "# importing useful modules\n",
    "import pandas as pd\n",
    "import seaborn as sns\n",
    "from sklearn.model_selection import train_test_split \n",
    "from sklearn.linear_model import LinearRegression\n",
    "from sklearn.preprocessing import StandardScaler\n",
    "from sklearn.ensemble import RandomForestRegressor\n",
    "from sklearn.compose import ColumnTransformer\n",
    "from sklearn.pipeline import Pipeline\n",
    "from sklearn.impute import SimpleImputer\n",
    "from sklearn import preprocessing\n",
    "from sklearn import metrics\n",
    "import numpy as np \n",
    "import matplotlib.pyplot as plt\n",
    "import category_encoders as ce\n",
    "%matplotlib inline\n",
    "import pickle\n",
    "from datetime import datetime\n",
    "from pickle import dump\n",
    "import mlflow\n",
    "from sklearn.svm import SVC\n",
    "from sklearn.model_selection import train_test_split, GridSearchCV\n",
    "import warnings\n",
    "warnings.filterwarnings(\"ignore\")\n",
    "np.random.seed(40)\n",
    "from sklearn.metrics import mean_squared_error, mean_absolute_error, r2_score\n",
    "from sklearn.model_selection import train_test_split\n",
    "from sklearn.linear_model import ElasticNet\n",
    "from urllib.parse import urlparse\n",
    "import mlflow\n",
    "import mlflow.sklearn"
   ]
  },
  {
   "cell_type": "code",
   "execution_count": 31,
   "metadata": {},
   "outputs": [
    {
     "data": {
      "text/html": [
       "<div>\n",
       "<style scoped>\n",
       "    .dataframe tbody tr th:only-of-type {\n",
       "        vertical-align: middle;\n",
       "    }\n",
       "\n",
       "    .dataframe tbody tr th {\n",
       "        vertical-align: top;\n",
       "    }\n",
       "\n",
       "    .dataframe thead th {\n",
       "        text-align: right;\n",
       "    }\n",
       "</style>\n",
       "<table border=\"1\" class=\"dataframe\">\n",
       "  <thead>\n",
       "    <tr style=\"text-align: right;\">\n",
       "      <th></th>\n",
       "      <th>ER</th>\n",
       "      <th>CTR</th>\n",
       "      <th>all_text</th>\n",
       "      <th>LAR</th>\n",
       "      <th>all_objects_count</th>\n",
       "      <th>unique_objects_count</th>\n",
       "      <th>cta_text</th>\n",
       "      <th>cta_width</th>\n",
       "      <th>cta_height</th>\n",
       "      <th>red</th>\n",
       "      <th>green</th>\n",
       "      <th>blue</th>\n",
       "      <th>logo_width</th>\n",
       "      <th>logo_height</th>\n",
       "      <th>eng_width</th>\n",
       "      <th>eng_height</th>\n",
       "      <th>preview_width</th>\n",
       "      <th>preview_height</th>\n",
       "    </tr>\n",
       "  </thead>\n",
       "  <tbody>\n",
       "    <tr>\n",
       "      <th>0</th>\n",
       "      <td>0.209269</td>\n",
       "      <td>0.058438</td>\n",
       "      <td>0.405679</td>\n",
       "      <td>0.000000</td>\n",
       "      <td>9</td>\n",
       "      <td>2</td>\n",
       "      <td>-0.554322</td>\n",
       "      <td>-0.319047</td>\n",
       "      <td>-0.096158</td>\n",
       "      <td>-1.248161</td>\n",
       "      <td>-1.330193</td>\n",
       "      <td>-1.208304</td>\n",
       "      <td>-0.720274</td>\n",
       "      <td>-0.437907</td>\n",
       "      <td>1.254846</td>\n",
       "      <td>0.186888</td>\n",
       "      <td>-0.774104</td>\n",
       "      <td>-0.806529</td>\n",
       "    </tr>\n",
       "    <tr>\n",
       "      <th>1</th>\n",
       "      <td>0.274552</td>\n",
       "      <td>0.074731</td>\n",
       "      <td>0.204585</td>\n",
       "      <td>0.000000</td>\n",
       "      <td>13</td>\n",
       "      <td>2</td>\n",
       "      <td>-0.554322</td>\n",
       "      <td>-0.319047</td>\n",
       "      <td>-0.096158</td>\n",
       "      <td>-1.248161</td>\n",
       "      <td>-1.330193</td>\n",
       "      <td>-1.208304</td>\n",
       "      <td>-0.720274</td>\n",
       "      <td>-0.437907</td>\n",
       "      <td>1.254846</td>\n",
       "      <td>0.186888</td>\n",
       "      <td>-0.774104</td>\n",
       "      <td>-0.806529</td>\n",
       "    </tr>\n",
       "    <tr>\n",
       "      <th>2</th>\n",
       "      <td>0.103688</td>\n",
       "      <td>0.042228</td>\n",
       "      <td>0.356522</td>\n",
       "      <td>0.000000</td>\n",
       "      <td>11</td>\n",
       "      <td>2</td>\n",
       "      <td>-0.554322</td>\n",
       "      <td>-0.408597</td>\n",
       "      <td>-0.658532</td>\n",
       "      <td>-1.248161</td>\n",
       "      <td>-1.330193</td>\n",
       "      <td>-1.208304</td>\n",
       "      <td>-0.720274</td>\n",
       "      <td>-0.437907</td>\n",
       "      <td>0.861965</td>\n",
       "      <td>0.071128</td>\n",
       "      <td>-0.774104</td>\n",
       "      <td>-0.806529</td>\n",
       "    </tr>\n",
       "    <tr>\n",
       "      <th>3</th>\n",
       "      <td>0.136963</td>\n",
       "      <td>0.005393</td>\n",
       "      <td>-1.605260</td>\n",
       "      <td>0.078828</td>\n",
       "      <td>6</td>\n",
       "      <td>4</td>\n",
       "      <td>1.317387</td>\n",
       "      <td>-0.223101</td>\n",
       "      <td>-0.718178</td>\n",
       "      <td>0.504076</td>\n",
       "      <td>-0.592815</td>\n",
       "      <td>-0.590318</td>\n",
       "      <td>0.416291</td>\n",
       "      <td>0.688514</td>\n",
       "      <td>-0.874020</td>\n",
       "      <td>-0.449791</td>\n",
       "      <td>1.535708</td>\n",
       "      <td>1.150583</td>\n",
       "    </tr>\n",
       "    <tr>\n",
       "      <th>4</th>\n",
       "      <td>0.114208</td>\n",
       "      <td>0.016443</td>\n",
       "      <td>-0.282509</td>\n",
       "      <td>0.123817</td>\n",
       "      <td>8</td>\n",
       "      <td>1</td>\n",
       "      <td>0.148921</td>\n",
       "      <td>-0.344633</td>\n",
       "      <td>-0.897115</td>\n",
       "      <td>0.212037</td>\n",
       "      <td>1.439469</td>\n",
       "      <td>2.329667</td>\n",
       "      <td>0.784278</td>\n",
       "      <td>0.306567</td>\n",
       "      <td>-0.874020</td>\n",
       "      <td>-0.449791</td>\n",
       "      <td>0.570373</td>\n",
       "      <td>1.066305</td>\n",
       "    </tr>\n",
       "  </tbody>\n",
       "</table>\n",
       "</div>"
      ],
      "text/plain": [
       "         ER       CTR  all_text       LAR  all_objects_count  \\\n",
       "0  0.209269  0.058438  0.405679  0.000000                  9   \n",
       "1  0.274552  0.074731  0.204585  0.000000                 13   \n",
       "2  0.103688  0.042228  0.356522  0.000000                 11   \n",
       "3  0.136963  0.005393 -1.605260  0.078828                  6   \n",
       "4  0.114208  0.016443 -0.282509  0.123817                  8   \n",
       "\n",
       "   unique_objects_count  cta_text  cta_width  cta_height       red     green  \\\n",
       "0                     2 -0.554322  -0.319047   -0.096158 -1.248161 -1.330193   \n",
       "1                     2 -0.554322  -0.319047   -0.096158 -1.248161 -1.330193   \n",
       "2                     2 -0.554322  -0.408597   -0.658532 -1.248161 -1.330193   \n",
       "3                     4  1.317387  -0.223101   -0.718178  0.504076 -0.592815   \n",
       "4                     1  0.148921  -0.344633   -0.897115  0.212037  1.439469   \n",
       "\n",
       "       blue  logo_width  logo_height  eng_width  eng_height  preview_width  \\\n",
       "0 -1.208304   -0.720274    -0.437907   1.254846    0.186888      -0.774104   \n",
       "1 -1.208304   -0.720274    -0.437907   1.254846    0.186888      -0.774104   \n",
       "2 -1.208304   -0.720274    -0.437907   0.861965    0.071128      -0.774104   \n",
       "3 -0.590318    0.416291     0.688514  -0.874020   -0.449791       1.535708   \n",
       "4  2.329667    0.784278     0.306567  -0.874020   -0.449791       0.570373   \n",
       "\n",
       "   preview_height  \n",
       "0       -0.806529  \n",
       "1       -0.806529  \n",
       "2       -0.806529  \n",
       "3        1.150583  \n",
       "4        1.066305  "
      ]
     },
     "execution_count": 31,
     "metadata": {},
     "output_type": "execute_result"
    }
   ],
   "source": [
    "# Load dataset\n",
    "df= pd.read_csv('../data/model_ready_data.csv')\n",
    "df.head(5)"
   ]
  },
  {
   "cell_type": "code",
   "execution_count": 32,
   "metadata": {},
   "outputs": [
    {
     "name": "stdout",
     "output_type": "stream",
     "text": [
      "<class 'pandas.core.frame.DataFrame'>\n",
      "RangeIndex: 905 entries, 0 to 904\n",
      "Data columns (total 18 columns):\n",
      " #   Column                Non-Null Count  Dtype  \n",
      "---  ------                --------------  -----  \n",
      " 0   ER                    905 non-null    float64\n",
      " 1   CTR                   905 non-null    float64\n",
      " 2   all_text              905 non-null    float64\n",
      " 3   LAR                   905 non-null    float64\n",
      " 4   all_objects_count     905 non-null    int64  \n",
      " 5   unique_objects_count  905 non-null    int64  \n",
      " 6   cta_text              905 non-null    float64\n",
      " 7   cta_width             905 non-null    float64\n",
      " 8   cta_height            905 non-null    float64\n",
      " 9   red                   905 non-null    float64\n",
      " 10  green                 905 non-null    float64\n",
      " 11  blue                  905 non-null    float64\n",
      " 12  logo_width            905 non-null    float64\n",
      " 13  logo_height           905 non-null    float64\n",
      " 14  eng_width             905 non-null    float64\n",
      " 15  eng_height            905 non-null    float64\n",
      " 16  preview_width         905 non-null    float64\n",
      " 17  preview_height        905 non-null    float64\n",
      "dtypes: float64(16), int64(2)\n",
      "memory usage: 127.4 KB\n"
     ]
    }
   ],
   "source": [
    "df.info()"
   ]
  },
  {
   "cell_type": "code",
   "execution_count": 33,
   "metadata": {},
   "outputs": [],
   "source": [
    "## separate the independent and target variable \n",
    "X = df.drop(['ER'], axis = 1)\n",
    "y = df['CTR']"
   ]
  },
  {
   "cell_type": "code",
   "execution_count": 34,
   "metadata": {},
   "outputs": [
    {
     "name": "stdout",
     "output_type": "stream",
     "text": [
      "Training and testing split was successful.\n"
     ]
    }
   ],
   "source": [
    "# Splitting our dataset into train and test subsets\n",
    "X_train, X_test, y_train, y_test = train_test_split(X, y, test_size=0.2, random_state=42)\n",
    "X_train, X_valid, y_train, y_valid = train_test_split(X_train, y_train, test_size=0.2, random_state=42)\n",
    "print (\"Training and testing split was successful.\")"
   ]
  },
  {
   "cell_type": "code",
   "execution_count": 35,
   "metadata": {},
   "outputs": [],
   "source": [
    "# Define the Pipeline\n",
    "model_pipeline = Pipeline(steps=[('random_forest', RandomForestRegressor(max_depth=10,random_state=2))])"
   ]
  },
  {
   "cell_type": "code",
   "execution_count": 36,
   "metadata": {},
   "outputs": [],
   "source": [
    "def eval_metrics(actual, pred):\n",
    "    rmse = np.sqrt(mean_squared_error(actual, pred))\n",
    "    mae = mean_absolute_error(actual, pred)\n",
    "    r2 = r2_score(actual, pred)\n",
    "    print(\"RMSE Score is: {:.5%}\".format(rmse))\n",
    "    print(\"R2 Square Score is: {:.5%}\".format(r2))\n",
    "    print(\"MAE Score is: {:.5%}\".format(mae))\n",
    "    return {f'RMSE Score': rmse, f'R2_Squared': r2, f'MAE Score': mae}"
   ]
  },
  {
   "cell_type": "code",
   "execution_count": 37,
   "metadata": {},
   "outputs": [
    {
     "data": {
      "text/plain": [
       "StandardScaler()"
      ]
     },
     "execution_count": 37,
     "metadata": {},
     "output_type": "execute_result"
    }
   ],
   "source": [
    "sc = StandardScaler()\n",
    "sc.fit(X_test)\n",
    "## x = sc.transform(X)"
   ]
  },
  {
   "cell_type": "code",
   "execution_count": 38,
   "metadata": {},
   "outputs": [
    {
     "name": "stdout",
     "output_type": "stream",
     "text": [
      "RMSE Score is: 0.14375%\n",
      "R2 Square Score is: 99.80070%\n",
      "MAE Score is: 0.02955%\n",
      "RMSE Score is: 0.10283%\n",
      "R2 Square Score is: 99.91207%\n",
      "MAE Score is: 0.02859%\n"
     ]
    }
   ],
   "source": [
    "# Fit the pipeline with the data\n",
    "mlflow.autolog(log_input_examples=True, disable_for_unsupported_versions=True, silent=True)\n",
    "with mlflow.start_run() as run:\n",
    "    best_model = model_pipeline.fit(X_train, y_train)\n",
    "\n",
    "    train_score = best_model.score(X_train, y_train)\n",
    "    valid_score = best_model.score(X_valid, y_valid)\n",
    "    valid_metrics = eval_metrics(y_valid, best_model.predict(X_valid))\n",
    "    test_score = best_model.score(X_test, y_test)\n",
    "    test_metrics = eval_metrics(y_test, best_model.predict(X_test))\n",
    "\n",
    "    mlflow.log_metric(\"Valid Score\", valid_score)\n",
    "    mlflow.log_metrics(valid_metrics)\n",
    "    mlflow.log_metric(\"Test Score\", test_score)\n",
    "    mlflow.log_metrics(test_metrics)"
   ]
  },
  {
   "cell_type": "code",
   "execution_count": 40,
   "metadata": {},
   "outputs": [],
   "source": [
    "# Create dictionary with candidate learning algorithms and their hyperparameters\n",
    "grid_param = [{\n",
    "     'random_forest': [RandomForestRegressor(max_depth=10, random_state=2)],\n",
    "     'random_forest__bootstrap': [True, True],\n",
    "     'random_forest__ccp_alpha': [0.0],\n",
    "     'random_forest__criterion': ['mse'],\n",
    "     'random_forest__max_depth': [5,8,15],\n",
    "     'random_forest__max_features': ['auto'],\n",
    "#      'random_forest__max_leaf_nodes': None,\n",
    "#      'random_forest__max_samples': None,\n",
    "     'random_forest__min_impurity_decrease': [0.0],\n",
    "#      'random_forest__min_impurity_split': None,\n",
    "     'random_forest__min_samples_leaf': [1,5],\n",
    "     'random_forest__min_samples_split': [2],\n",
    "     'random_forest__min_weight_fraction_leaf': [0.0],\n",
    "     'random_forest__n_estimators': [100],\n",
    "#      'random_forest__n_jobs': None,\n",
    "     'random_forest__oob_score': [False, True],\n",
    "     'random_forest__random_state': [2],\n",
    "     'random_forest__verbose': [0],\n",
    "     'random_forest__warm_start': [True, False]\n",
    "}]\n",
    "\n",
    "    \n",
    "# create a gridsearch of the pipeline, the fit the best model\n",
    "grid_search_pipeline = GridSearchCV(\n",
    "    model_pipeline, grid_param, cv=3, verbose=0, n_jobs=-1)  # Fit grid search"
   ]
  },
  {
   "cell_type": "code",
   "execution_count": 41,
   "metadata": {},
   "outputs": [],
   "source": [
    "def generate_model_name(mse_score: float) -> str:\n",
    "    now = datetime.now()\n",
    "    dt_string = now.strftime(\"%d-%m-%Y-%H-%M-%S-\")\n",
    "    dt_string = dt_string + \"{:.2%}\".format(mse_score)\n",
    "    return dt_string"
   ]
  },
  {
   "cell_type": "code",
   "execution_count": 42,
   "metadata": {},
   "outputs": [
    {
     "data": {
      "text/plain": [
       "{'RMSE Score': 0.001437529371286319,\n",
       " 'R2_Squared': 0.9980070163578512,\n",
       " 'MAE Score': 0.00029546321402597824}"
      ]
     },
     "execution_count": 42,
     "metadata": {},
     "output_type": "execute_result"
    }
   ],
   "source": [
    "valid_metrics"
   ]
  },
  {
   "cell_type": "code",
   "execution_count": 44,
   "metadata": {},
   "outputs": [
    {
     "data": {
      "text/plain": [
       "{'RMSE Score': 0.0010283080388580146,\n",
       " 'R2_Squared': 0.9991206751264887,\n",
       " 'MAE Score': 0.00028587913112030147}"
      ]
     },
     "execution_count": 44,
     "metadata": {},
     "output_type": "execute_result"
    }
   ],
   "source": [
    "test_metrics"
   ]
  },
  {
   "cell_type": "code",
   "execution_count": 48,
   "metadata": {},
   "outputs": [],
   "source": [
    "def save_model(model, mse_score) -> None:\n",
    "    try:\n",
    "        file_name = '../models/' + generate_model_name(mse_score=mse_score) +'.pkl'\n",
    "        with open(file_name, 'wb') as handle:\n",
    "            dump(model, handle)\n",
    "    except Exception as e:\n",
    "        print('Error while producing model')"
   ]
  },
  {
   "cell_type": "code",
   "execution_count": 49,
   "metadata": {},
   "outputs": [],
   "source": [
    "save_model(best_model, test_metrics['RMSE Score'])"
   ]
  },
  {
   "cell_type": "code",
   "execution_count": 50,
   "metadata": {},
   "outputs": [
    {
     "data": {
      "text/plain": [
       "{'memory': None,\n",
       " 'steps': [('random_forest',\n",
       "   RandomForestRegressor(max_depth=10, random_state=2))],\n",
       " 'verbose': False,\n",
       " 'random_forest': RandomForestRegressor(max_depth=10, random_state=2),\n",
       " 'random_forest__bootstrap': True,\n",
       " 'random_forest__ccp_alpha': 0.0,\n",
       " 'random_forest__criterion': 'squared_error',\n",
       " 'random_forest__max_depth': 10,\n",
       " 'random_forest__max_features': 'auto',\n",
       " 'random_forest__max_leaf_nodes': None,\n",
       " 'random_forest__max_samples': None,\n",
       " 'random_forest__min_impurity_decrease': 0.0,\n",
       " 'random_forest__min_samples_leaf': 1,\n",
       " 'random_forest__min_samples_split': 2,\n",
       " 'random_forest__min_weight_fraction_leaf': 0.0,\n",
       " 'random_forest__n_estimators': 100,\n",
       " 'random_forest__n_jobs': None,\n",
       " 'random_forest__oob_score': False,\n",
       " 'random_forest__random_state': 2,\n",
       " 'random_forest__verbose': 0,\n",
       " 'random_forest__warm_start': False}"
      ]
     },
     "execution_count": 50,
     "metadata": {},
     "output_type": "execute_result"
    }
   ],
   "source": [
    "best_model.get_params()"
   ]
  },
  {
   "cell_type": "code",
   "execution_count": 52,
   "metadata": {},
   "outputs": [
    {
     "data": {
      "image/png": "[encoded data removed]",
      "text/plain": [
       "<Figure size 720x504 with 1 Axes>"
      ]
     },
     "metadata": {
      "needs_background": "light"
     },
     "output_type": "display_data"
    }
   ],
   "source": [
    "plt.figure(figsize=(10,7))\n",
    "feat_importances = pd.Series(best_model.steps[0][1].feature_importances_, index = X.columns)\n",
    "feat_importances.nlargest(10).plot(kind='barh');"
   ]
  },
  {
   "cell_type": "code",
   "execution_count": null,
   "metadata": {},
   "outputs": [],
   "source": []
  }
 ],
 "metadata": {
  "kernelspec": {
   "display_name": "Python 3.9.12 ('base')",
   "language": "python",
   "name": "python3"
  },
  "language_info": {
   "codemirror_mode": {
    "name": "ipython",
    "version": 3
   },
   "file_extension": ".py",
   "mimetype": "text/x-python",
   "name": "python",
   "nbconvert_exporter": "python",
   "pygments_lexer": "ipython3",
   "version": "3.9.12"
  },
  "orig_nbformat": 4,
  "vscode": {
   "interpreter": {
    "hash": "a5e9bb5c8109d9c89e3540dfae7ab7a0527331017fc9eeaf677245afa113f1a5"
   }
  }
 },
 "nbformat": 4,
 "nbformat_minor": 2
}
