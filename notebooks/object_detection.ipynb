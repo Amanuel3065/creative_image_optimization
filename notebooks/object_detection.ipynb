{
 "cells": [
  {
   "cell_type": "code",
   "execution_count": 2,
   "metadata": {},
   "outputs": [],
   "source": [
    "from numba import jit, cuda\n",
    "\n",
    "from imageai.Detection import ObjectDetection\n",
    "import os\n",
    "import sys\n",
    "import warnings\n",
    "import pandas as pd\n",
    "warnings.filterwarnings('ignore')"
   ]
  },
  {
   "cell_type": "code",
   "execution_count": 3,
   "metadata": {},
   "outputs": [],
   "source": [
    "#!/home/natnael_masresha/week11/.venv/bin/python\n",
    "\n",
    "sys.path.append(\"../scripts\")\n",
    "from load_data import Loader\n",
    "\n",
    "loader = Loader()\n",
    "\n",
    "#!/home/natnael_masresha/week11/.imageai/bin/python\n"
   ]
  },
  {
   "cell_type": "code",
   "execution_count": 4,
   "metadata": {},
   "outputs": [],
   "source": [
    "# constants\n",
    "\n",
    "IMAGES_EXT = [\"JPG\",\"PNG\",\"GIF\",\"WEBP\",\"TIFF\",\"PSD\",\"RAW\",\"BMP\",\"HEIF\",\"INDD\",\"JPEG\"]\n",
    "\n",
    "VIDEO_EXT = [\"WEBM\",\"MPG\",\"MP2\",\"MPEG\",\"MPE\",\"MPV\",\"OGG\",\"MP4\",\"M4P\",\"M4V\",\"AVI\",\"WMV\",\"MOV\",\"QT\",\"FLV\",\"SWF\"]"
   ]
  },
  {
   "cell_type": "code",
   "execution_count": 5,
   "metadata": {},
   "outputs": [],
   "source": [
    "# @jit(target_backend='cuda') \n",
    "def get_files_name(directory:str, filter_extension:list=None,exclude_names:list=None)->list:\n",
    "    \n",
    "    # directory = f'/home/amanuel_zewdu/creative_image_optimization/data/Challenge_Data/Assets/{directory}/'\n",
    "    \n",
    "    files = []\n",
    "    for filename in os.listdir(directory):\n",
    "        f = os.path.join(directory, filename)\n",
    "        \n",
    "        # checking if it is a file\n",
    "        if filter_extension != None:\n",
    "            if os.path.isfile(f):\n",
    "                if ~any(substring in filename.split('.')[0] for substring in exclude_names):\n",
    "                    if filename.split('.')[-1].upper() in filter_extension:\n",
    "                        files.append(filename)\n",
    "        else:\n",
    "            if os.path.isfile(f):\n",
    "                if ~any(substring in filename.split('.')[0] for substring in exclude_names):\n",
    "                    files.append(filename)\n",
    "\n",
    "    return files"
   ]
  },
  {
   "cell_type": "code",
   "execution_count": 7,
   "metadata": {},
   "outputs": [
    {
     "name": "stdout",
     "output_type": "stream",
     "text": [
      "WARNING:tensorflow:No training configuration found in the save file, so the model was *not* compiled. Compile it manually.\n"
     ]
    }
   ],
   "source": [
    "\n",
    "detector = ObjectDetection()\n",
    "execution_path = os.getcwd()\n",
    "# if model_path == None:\n",
    "#     model_path = \"../junk/data/resnet50_coco_best_v2.1.0.h5\"\n",
    "model_path = \"../junk/data/resnet50_coco_best_v2.1.0.h5\"\n",
    "\n",
    "detector.setModelTypeAsRetinaNet()\n",
    "detector.setModelPath( os.path.join(execution_path , model_path))\n",
    "detector.loadModel()\n",
    "\n",
    "def get_model(img_path):\n",
    "    detections = detector.detectObjectsFromImage(input_image=os.path.join(execution_path , img_path), output_image_path=os.path.join(execution_path , model_path+\"newI.jpg\"))\n",
    "    return detections"
   ]
  },
  {
   "cell_type": "code",
   "execution_count": 8,
   "metadata": {},
   "outputs": [],
   "source": [
    "@jit(target_backend='cuda') \n",
    "def get_objects(img_path:str,model_path:str = None,print_objects:bool = False):\n",
    "    \n",
    "    detections = get_model(img_path)\n",
    "    objects = []\n",
    "\n",
    "    for eachObject in detections:\n",
    "        objects.append(eachObject[\"name\"])\n",
    "        if print_objects:\n",
    "            print(eachObject[\"name\"] , \" : \" , eachObject[\"percentage_probability\"] )\n",
    "    return objects"
   ]
  },
  {
   "cell_type": "code",
   "execution_count": 9,
   "metadata": {},
   "outputs": [],
   "source": [
    "# @jit(target_backend='cuda') \n",
    "def get_unique_objects(all_objects:list):\n",
    "    unique_objects = list(set(all_objects))\n",
    "    unique_objects_count = len(unique_objects)\n",
    "    all_objects_count = len(all_objects)\n",
    "    \n",
    "    return all_objects,all_objects_count,unique_objects_count"
   ]
  },
  {
   "cell_type": "code",
   "execution_count": 10,
   "metadata": {},
   "outputs": [],
   "source": [
    "# all in one\n",
    "# @jit(target_backend='cuda') \n",
    "def add_feature(game_id:str):\n",
    "    path  = f'/home/amanuel_zewdu/creative_image_optimization/data/Challenge_Data/Assets/{game_id}/'\n",
    "    exclude = [\"text\",\"video\",\"background\"]\n",
    "    file_names = get_files_name(path,IMAGES_EXT,exclude)\n",
    "    all_objects = []\n",
    "    for file_name in file_names:\n",
    "        all_text = get_objects(path+file_name)\n",
    "        all_objects.extend(all_text)\n",
    "    return get_unique_objects(all_objects)"
   ]
  },
  {
   "cell_type": "code",
   "execution_count": 11,
   "metadata": {},
   "outputs": [],
   "source": [
    "bucket = \"s3://10ac-batch-6/data/w11/Challenge_Data.zip\"\n",
    "file_path = \"Challenge_Data/performance_data.csv\"\n",
    "\n",
    "df = loader.load_csv(bucket,file_path)"
   ]
  },
  {
   "cell_type": "code",
   "execution_count": 12,
   "metadata": {},
   "outputs": [],
   "source": [
    "tst_df = df.sample(2)"
   ]
  },
  {
   "cell_type": "code",
   "execution_count": 17,
   "metadata": {},
   "outputs": [
    {
     "name": "stderr",
     "output_type": "stream",
     "text": [
      "libpng warning: iCCP: known incorrect sRGB profile\n",
      "libpng warning: iCCP: known incorrect sRGB profile\n",
      "libpng warning: iCCP: known incorrect sRGB profile\n",
      "libpng warning: iCCP: known incorrect sRGB profile\n",
      "libpng warning: iCCP: known incorrect sRGB profile\n",
      "libpng warning: iCCP: known incorrect sRGB profile\n",
      "libpng warning: iCCP: known incorrect sRGB profile\n",
      "libpng warning: iCCP: known incorrect sRGB profile\n"
     ]
    }
   ],
   "source": [
    "df[['all_objects','all_objects_count','unique_objects_count']] = df.game_id.apply(lambda x:pd.Series(add_feature(x)))"
   ]
  },
  {
   "cell_type": "code",
   "execution_count": 18,
   "metadata": {},
   "outputs": [],
   "source": [
    "df.to_csv('game_id_with_objects.csv',index=False)"
   ]
  },
  {
   "cell_type": "code",
   "execution_count": 20,
   "metadata": {},
   "outputs": [],
   "source": [
    "# df.head()"
   ]
  }
 ],
 "metadata": {
  "kernelspec": {
   "display_name": "Python 3.8.10 ('.imageai': venv)",
   "language": "python",
   "name": "python3"
  },
  "language_info": {
   "codemirror_mode": {
    "name": "ipython",
    "version": 3
   },
   "file_extension": ".py",
   "mimetype": "text/x-python",
   "name": "python",
   "nbconvert_exporter": "python",
   "pygments_lexer": "ipython3",
   "version": "3.8.10"
  },
  "orig_nbformat": 4,
  "vscode": {
   "interpreter": {
    "hash": "c6b72d4243b166dffd06110bfded051503a5075cdbdade5c8e07f28ca1ffb2b1"
   }
  }
 },
 "nbformat": 4,
 "nbformat_minor": 2
}
