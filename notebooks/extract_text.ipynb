{
 "cells": [
  {
   "cell_type": "code",
   "execution_count": 1,
   "metadata": {},
   "outputs": [],
   "source": [
    "from pytesseract import pytesseract\n",
    "import cv2\n",
    "import numpy as np\n",
    "from typing import List, Tuple\n",
    "import matplotlib.pyplot as plt\n",
    "from PIL import Image\n",
    "\n",
    "import os\n",
    "import sys\n",
    "\n",
    "pytesseract.tesseract_cmd = r'/usr/bin/tesseract'"
   ]
  },
  {
   "cell_type": "code",
   "execution_count": 2,
   "metadata": {},
   "outputs": [],
   "source": [
    "sys.path.append(\"../scripts\")\n",
    "from load_data import Loader\n",
    "\n",
    "loader = Loader()"
   ]
  },
  {
   "cell_type": "code",
   "execution_count": 3,
   "metadata": {},
   "outputs": [],
   "source": [
    "# constants\n",
    "\n",
    "IMAGES_EXT = [\"JPG\",\"PNG\",\"GIF\",\"WEBP\",\"TIFF\",\"PSD\",\"RAW\",\"BMP\",\"HEIF\",\"INDD\",\"JPEG\"]\n",
    "\n",
    "VIDEO_EXT = [\"WEBM\",\"MPG\",\"MP2\",\"MPEG\",\"MPE\",\"MPV\",\"OGG\",\"MP4\",\"M4P\",\"M4V\",\"AVI\",\"WMV\",\"MOV\",\"QT\",\"FLV\",\"SWF\"]"
   ]
  },
  {
   "cell_type": "code",
   "execution_count": 3,
   "metadata": {},
   "outputs": [],
   "source": [
    "def get_files_name(directory:str, filter_extension:list=None)->list:\n",
    "    \n",
    "    # directory = f'/home/amanuel_zewdu/creative_image_optimization/data/Challenge_Data/Assets/{directory}/'\n",
    "    \n",
    "    files = []\n",
    "    for filename in os.listdir(directory):\n",
    "        f = os.path.join(directory, filename)\n",
    "        \n",
    "        # checking if it is a file\n",
    "        if filter_extension != None:\n",
    "            if os.path.isfile(f):\n",
    "                if filename.split('.')[-1].upper() in filter_extension:\n",
    "                    files.append(filename)\n",
    "        else:\n",
    "            if os.path.isfile(f):\n",
    "                files.append(filename)\n",
    "\n",
    "    return files"
   ]
  },
  {
   "cell_type": "code",
   "execution_count": 14,
   "metadata": {},
   "outputs": [],
   "source": [
    "\n",
    "# usage\n",
    "\n",
    "img_files = get_files_name(\n",
    "    \"/home/amanuel_zewdu/creative_image_optimization/data/Challenge_Data/Assets/0301a5865ecfd7c5a1653dde10a5aedf/\",\n",
    "    IMAGES_EXT)\n",
    "\n",
    "vid_files = get_files_name(\n",
    "    \"/home/amanuel_zewdu/creative_image_optimization/data/Challenge_Data/Assets/0301a5865ecfd7c5a1653dde10a5aedf/\",\n",
    "    VIDEO_EXT)\n",
    "\n",
    "all_files = get_files_name(\"/home/amanuel_zewdu/creative_image_optimization/data/Challenge_Data/Assets/0301a5865ecfd7c5a1653dde10a5aedf/\")"
   ]
  },
  {
   "cell_type": "code",
   "execution_count": 5,
   "metadata": {},
   "outputs": [],
   "source": [
    "def get_pure_list(text:str):\n",
    "    text_list = (text).split('\\n')\n",
    "\n",
    "    while ' ' in text_list:\n",
    "        text_list.remove(' ')\n",
    "\n",
    "    while '' in text_list:\n",
    "        text_list.remove('')\n",
    "\n",
    "    while '\\x0c' in text_list:\n",
    "        text_list.remove('\\x0c')\n",
    "        \n",
    "    return text_list"
   ]
  },
  {
   "cell_type": "code",
   "execution_count": 6,
   "metadata": {},
   "outputs": [],
   "source": [
    "def get_text(img_path:str,convert_to_gray:bool=True,plot:bool=False):\n",
    "    \n",
    "    img = cv2.imread(img_path)\n",
    "    gray = cv2.cvtColor(img, cv2.COLOR_BGR2GRAY)\n",
    "\n",
    "    if plot:\n",
    "        plt.subplot(1,2,1)\n",
    "        plt.imshow(img)\n",
    "\n",
    "        plt.subplot(1,2,2)\n",
    "        plt.imshow(gray)\n",
    "\n",
    "        plt.show()\n",
    "    if convert_to_gray:\n",
    "        return get_pure_list(pytesseract.image_to_string(gray))\n",
    "    else:\n",
    "        return get_pure_list(pytesseract.image_to_string(img))"
   ]
  },
  {
   "cell_type": "code",
   "execution_count": 33,
   "metadata": {},
   "outputs": [],
   "source": [
    "all_text = get_text(\"/home/amanuel_zewdu/creative_image_optimization/data/Challenge_Data/Assets/0301a5865ecfd7c5a1653dde10a5aedf/engagement_instruction_1.png\")"
   ]
  },
  {
   "cell_type": "code",
   "execution_count": 34,
   "metadata": {},
   "outputs": [
    {
     "data": {
      "text/plain": [
       "['TAP THE SCREEN', 'to find the nearest Lexus dealership']"
      ]
     },
     "execution_count": 34,
     "metadata": {},
     "output_type": "execute_result"
    }
   ],
   "source": [
    "all_text"
   ]
  },
  {
   "cell_type": "code",
   "execution_count": 10,
   "metadata": {},
   "outputs": [],
   "source": [
    "# all in one\n",
    "\n",
    "def add_feature(game_id:str):\n",
    "    path  = f'/home/amanuel_zewdu/creative_image_optimization/data/Challenge_Data/Assets/{game_id}/'\n",
    "    file_names = get_files_name(path,IMAGES_EXT)\n",
    "    all_texts = []\n",
    "    for file_name in file_names:\n",
    "        all_text = get_text(path+file_name)\n",
    "        all_texts.extend(all_text)\n",
    "    return all_texts\n",
    "\n",
    "    "
   ]
  },
  {
   "cell_type": "code",
   "execution_count": 5,
   "metadata": {},
   "outputs": [],
   "source": [
    "bucket = \"s3://10ac-batch-6/data/w11/Challenge_Data.zip\"\n",
    "file_path = \"Challenge_Data/performance_data.csv\"\n",
    "\n",
    "df = loader.load_csv(bucket,file_path)"
   ]
  },
  {
   "cell_type": "code",
   "execution_count": 16,
   "metadata": {},
   "outputs": [],
   "source": [
    "test_df = df.sample(5)\n",
    "test_df[\"all_text\"] = test_df.game_id.apply(lambda x:add_feature(x))\n"
   ]
  },
  {
   "cell_type": "code",
   "execution_count": null,
   "metadata": {},
   "outputs": [],
   "source": [
    "df[\"all_text\"] = df.game_id.apply(lambda x:add_feature(x))"
   ]
  }
 ],
 "metadata": {
  "kernelspec": {
   "display_name": "local-venv",
   "language": "python",
   "name": "local-venv"
  },
  "language_info": {
   "codemirror_mode": {
    "name": "ipython",
    "version": 3
   },
   "file_extension": ".py",
   "mimetype": "text/x-python",
   "name": "python",
   "nbconvert_exporter": "python",
   "pygments_lexer": "ipython3",
   "version": "3.8.10"
  },
  "orig_nbformat": 4
 },
 "nbformat": 4,
 "nbformat_minor": 2
}
