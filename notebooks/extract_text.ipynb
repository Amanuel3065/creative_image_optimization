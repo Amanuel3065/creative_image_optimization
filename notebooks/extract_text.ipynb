{
 "cells": [
  {
   "cell_type": "code",
   "execution_count": 1,
   "metadata": {},
   "outputs": [],
   "source": [
    "from pytesseract import pytesseract\n",
    "import cv2\n",
    "import numpy as np\n",
    "from typing import List, Tuple\n",
    "import matplotlib.pyplot as plt\n",
    "from PIL import Image\n",
    "\n",
    "import os\n",
    "import sys \n",
    "\n",
    "pytesseract.tesseract_cmd = r'/usr/bin/tesseract'"
   ]
  },
  {
   "cell_type": "code",
   "execution_count": 5,
   "metadata": {},
   "outputs": [],
   "source": [
    "sys.path.append(\"../scripts\")\n",
    "from load_data import Loader\n",
    "from text_extraction import *\n",
    "loader = Loader()"
   ]
  },
  {
   "cell_type": "code",
   "execution_count": 3,
   "metadata": {},
   "outputs": [],
   "source": [
    "# constants\n",
    "\n",
    "IMAGES_EXT = [\"JPG\",\"PNG\",\"GIF\",\"WEBP\",\"TIFF\",\"PSD\",\"RAW\",\"BMP\",\"HEIF\",\"INDD\",\"JPEG\"]\n",
    "\n",
    "VIDEO_EXT = [\"WEBM\",\"MPG\",\"MP2\",\"MPEG\",\"MPE\",\"MPV\",\"OGG\",\"MP4\",\"M4P\",\"M4V\",\"AVI\",\"WMV\",\"MOV\",\"QT\",\"FLV\",\"SWF\"]"
   ]
  },
  {
   "cell_type": "code",
   "execution_count": 11,
   "metadata": {},
   "outputs": [],
   "source": [
    "\n",
    "# usage\n",
    "\n",
    "img_files = get_files_name(\n",
    "    \"/home/amanuel_zewdu/creative_image_optimization/data/Challenge_Data/Assets/0301a5865ecfd7c5a1653dde10a5aedf/\",\n",
    "    IMAGES_EXT)\n",
    "\n",
    "vid_files = get_files_name(\n",
    "    \"/home/amanuel_zewdu/creative_image_optimization/data/Challenge_Data/Assets/0301a5865ecfd7c5a1653dde10a5aedf/\",\n",
    "    VIDEO_EXT)\n",
    "\n",
    "all_files = get_files_name(\"/home/amanuel_zewdu/creative_image_optimization/data/Challenge_Data/Assets/0301a5865ecfd7c5a1653dde10a5aedf/\")"
   ]
  },
  {
   "cell_type": "code",
   "execution_count": 6,
   "metadata": {},
   "outputs": [],
   "source": [
    "all_text = get_text(\"/home/amanuel_zewdu/creative_image_optimization/data/Challenge_Data/Assets/0301a5865ecfd7c5a1653dde10a5aedf/engagement_instruction_1.png\")"
   ]
  },
  {
   "cell_type": "code",
   "execution_count": 7,
   "metadata": {},
   "outputs": [
    {
     "data": {
      "text/plain": [
       "['TAP THE SCREEN', 'to find the nearest Lexus dealership']"
      ]
     },
     "execution_count": 7,
     "metadata": {},
     "output_type": "execute_result"
    }
   ],
   "source": [
    "all_text"
   ]
  },
  {
   "cell_type": "code",
   "execution_count": 8,
   "metadata": {},
   "outputs": [],
   "source": [
    "bucket = \"s3://10ac-batch-6/data/w11/Challenge_Data.zip\"\n",
    "file_path = \"Challenge_Data/performance_data.csv\"\n",
    "\n",
    "df = loader.load_csv(bucket,file_path)"
   ]
  },
  {
   "cell_type": "code",
   "execution_count": 16,
   "metadata": {},
   "outputs": [],
   "source": [
    "test_df = df.sample(5)\n",
    "test_df[\"all_text\"] = test_df.game_id.apply(lambda x:add_feature(x))\n"
   ]
  },
  {
   "cell_type": "code",
   "execution_count": 9,
   "metadata": {},
   "outputs": [
    {
     "name": "stderr",
     "output_type": "stream",
     "text": [
      "libpng warning: iCCP: known incorrect sRGB profile\n",
      "libpng warning: iCCP: known incorrect sRGB profile\n",
      "libpng warning: iCCP: known incorrect sRGB profile\n",
      "libpng warning: iCCP: known incorrect sRGB profile\n",
      "libpng warning: iCCP: known incorrect sRGB profile\n",
      "libpng warning: iCCP: known incorrect sRGB profile\n",
      "libpng warning: iCCP: known incorrect sRGB profile\n",
      "libpng warning: iCCP: known incorrect sRGB profile\n"
     ]
    }
   ],
   "source": [
    "# takes about 80 minutes\n",
    "df[\"all_text\"] = df.game_id.apply(lambda x:add_feature(x))"
   ]
  },
  {
   "cell_type": "code",
   "execution_count": 10,
   "metadata": {},
   "outputs": [],
   "source": [
    "df.to_csv('game_id_with_all_text.csv',index=False)"
   ]
  }
 ],
 "metadata": {
  "kernelspec": {
   "display_name": "Python 3.8.10 ('.venv': venv)",
   "language": "python",
   "name": "python3"
  },
  "language_info": {
   "codemirror_mode": {
    "name": "ipython",
    "version": 3
   },
   "file_extension": ".py",
   "mimetype": "text/x-python",
   "name": "python",
   "nbconvert_exporter": "python",
   "pygments_lexer": "ipython3",
   "version": "3.8.10"
  },
  "orig_nbformat": 4,
  "vscode": {
   "interpreter": {
    "hash": "dbf403a3c9e5b1045cd4c434062db8ff078a8da38114201bf3355baf5f5e4cb2"
   }
  }
 },
 "nbformat": 4,
 "nbformat_minor": 2
}
